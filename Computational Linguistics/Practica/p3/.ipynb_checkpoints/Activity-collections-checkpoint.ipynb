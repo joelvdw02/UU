{
 "cells": [
  {
   "cell_type": "markdown",
   "metadata": {},
   "source": [
    "# Collections: Sets, dictionaries, and more\n",
    "\n",
    "_Practical Python for Linguistics and the Humanities -- Alexis Dimitriadis_"
   ]
  },
  {
   "cell_type": "markdown",
   "metadata": {},
   "source": [
    "Today's interactive tutorial shows how to work with several new \"container\" data types, in addition to lists: Dictionaries, sets, and tuples. To gain easy access to lots of text, we first learn how to read text from files.\n",
    "\n",
    "Some exercises in this unit are from *Think Python* by Allen B. Downey (http://thinkpython.com), *Introduction to Programming Using Python* by Y. Liang (Pearson, 2013), or _A Python Course for the Humanities_ by Folgert Karsdorp and Maarten van Gompel. "
   ]
  },
  {
   "cell_type": "markdown",
   "metadata": {
    "TableOfContents": 1
   },
   "source": [
    "## Contents\n",
    "\n",
    "\n",
    "**[1. Review: Reading and searching](#1.-Review:-Reading-and-searching)**  \n",
    "&nbsp;&nbsp;&nbsp;&nbsp;\n",
    "  [1.1 Reading text from files](#1.1-Reading-text-from-files)  \n",
    "&nbsp;&nbsp;&nbsp;&nbsp;\n",
    "  [1.2 Appending to a list](#1.2-Appending-to-a-list)  \n",
    "&nbsp;&nbsp;&nbsp;&nbsp;\n",
    "  [1.3 List comprehensions](#1.3-List-comprehensions)  \n",
    "\n",
    "**[2. Sets: Removing repetitions (and order)](#2.-Sets:-Removing-repetitions-%28and-order%29)**  \n",
    "\n",
    "**[3. Dictionaries: Indexing by name, not position](#3.-Dictionaries:-Indexing-by-name,-not-position)**  \n",
    "&nbsp;&nbsp;&nbsp;&nbsp;\n",
    "  [3.1 A dictionary of counters](#3.1-A-dictionary-of-counters)  \n",
    "&nbsp;&nbsp;&nbsp;&nbsp;\n",
    "  [3.2 Important dictionary methods](#3.2-Important-dictionary-methods)  \n",
    "&nbsp;&nbsp;&nbsp;&nbsp;\n",
    "  [3.3 Lists and \"views\"](#3.3-Lists-and-\"views\")  \n",
    "&nbsp;&nbsp;&nbsp;&nbsp;\n",
    "  [3.4 Iterating with lists and dictionaries](#3.4-Iterating-with-lists-and-dictionaries)  \n",
    "&nbsp;&nbsp;&nbsp;&nbsp;\n",
    "  [3.5 Specialized dictionaries](#3.5-Specialized-dictionaries)  \n",
    "\n",
    "**[4. Tuples and multiple assignment](#4.-Tuples-and-multiple-assignment)**  \n",
    "&nbsp;&nbsp;&nbsp;&nbsp;\n",
    "  [4.1 Using multiple assignment](#4.1-Using-multiple-assignment)  \n",
    "&nbsp;&nbsp;&nbsp;&nbsp;\n",
    "  [4.2 Working with tuples](#4.2-Working-with-tuples)  \n",
    "&nbsp;&nbsp;&nbsp;&nbsp;\n",
    "  [4.3 Handy tuple iterators](#4.3-Handy-tuple-iterators)  \n",
    "&nbsp;&nbsp;&nbsp;&nbsp;\n",
    "  [4.4 Tuple or list?](#4.4-Tuple-or-list?)  \n",
    "\n",
    "**[5. Sorting](#5.-Sorting)**  \n",
    "&nbsp;&nbsp;&nbsp;&nbsp;\n",
    "  [5.1 sort() and sorted()](#5.1-sort%28%29-and-sorted%28%29)  \n",
    "&nbsp;&nbsp;&nbsp;&nbsp;\n",
    "  [5.2 Sorting dictionaries](#5.2-Sorting-dictionaries)  \n",
    "&nbsp;&nbsp;&nbsp;&nbsp;\n",
    "  [5.3 Advanced sorting: \"Sorting keys\"](#5.3-Advanced-sorting:-\"Sorting-keys\")  \n",
    "\n",
    "**[6. Deleting data](#6.-Deleting-data)**  \n",
    "\n",
    "**[7. What we have learned](#7.-What-we-have-learned)**  \n",
    "\n",
    "**[8. Additional Exercises (harder)](#8.-Additional-Exercises-%28harder%29)**  \n"
   ]
  },
  {
   "cell_type": "markdown",
   "metadata": {},
   "source": [
    "## 1. Review: Reading and searching\n",
    "\n",
    "_**Preparation:** Download the file \"austen-emma.txt\", and ensure that it is present in the same folder as this notebook._ \n",
    "\n",
    "### 1.1 Reading text from files\n",
    "\n",
    "\"Opening\" a file gives us a special \"file object\": a kind of connection\n",
    "to the disk file, from which we can \"read\" text. When we open a file, python will look for it in the same folder as the script."
   ]
  },
  {
   "cell_type": "code",
   "execution_count": null,
   "metadata": {},
   "outputs": [],
   "source": [
    "connection = open(\"austen-emma.txt\")\n",
    "print(connection)"
   ]
  },
  {
   "cell_type": "markdown",
   "metadata": {},
   "source": [
    "There are numerous ways to read text from a file, but we will only need one today: We'll construct a string containing the file's entire contents, then we will convert this string into a list of words."
   ]
  },
  {
   "cell_type": "code",
   "execution_count": null,
   "metadata": {},
   "outputs": [],
   "source": [
    "conn = open(\"austen-emma.txt\")\n",
    "alltext = conn.read()     # A single string\n",
    "conn.close()\n",
    "\n",
    "print(\"We read\", len(alltext), \"characters.\")\n",
    "emmawords = alltext.split() # A list of (short) strings\n",
    "print(len(emmawords), \"words.\")\n",
    "print(emmawords[0:20])"
   ]
  },
  {
   "cell_type": "markdown",
   "metadata": {},
   "source": [
    "Reading a file advances through it, like playing a music file or video. Once we have read to the end, there is nothing more to read: if we try, we get the empty string.\n",
    "To read from the start again, the simplest way is to\n",
    "re-open the file (i.e., make a new connection).\n",
    "\n",
    "The list-of-words format is useful for counting or searching for\n",
    "individual words. (Recall that the flag `end=\" \"` allows us to put words on the same line.)"
   ]
  },
  {
   "cell_type": "code",
   "execution_count": null,
   "metadata": {},
   "outputs": [],
   "source": [
    "for word in emmawords:\n",
    "    if word.endswith('ings'):\n",
    "        print(word, end=\" \")\n",
    "print()"
   ]
  },
  {
   "cell_type": "markdown",
   "metadata": {},
   "source": [
    "Look at the output and you'll see that this list includes a pair of words stuck together with punctuation: Splitting up \"words\" at spaces is too simplistic, but we'll tolerate it for the time being."
   ]
  },
  {
   "cell_type": "markdown",
   "metadata": {},
   "source": [
    "### 1.2 Appending to a list\n",
    "\n",
    "We already know how to build a list with words that have a certain property: Create an empty list, and write a loop that appends every qualifying word to this list."
   ]
  },
  {
   "cell_type": "markdown",
   "metadata": {},
   "source": [
    "### Your turn:\n",
    "\n",
    "Adapt the earlier `for`-loop so that instead of printing words that end in `-ings`, it collects them in a list named `ingswords`. Print out the number of words on the list, with an informative message. Finally, print out the words of the list, separated by spaces."
   ]
  },
  {
   "cell_type": "code",
   "execution_count": null,
   "metadata": {
    "collapsed": true
   },
   "outputs": [],
   "source": [
    "# YOUR CODE:\n",
    "\n"
   ]
  },
  {
   "cell_type": "markdown",
   "metadata": {},
   "source": [
    "### 1.3 List comprehensions\n",
    "\n",
    "A \"list comprehension\" is a very powerful alternative to a list-building loop:\n",
    "Essentially, a loop inside the new list generates all its elements.\n",
    "\n",
    "Comprehensions can include a test. Only elements that satisfy the `if` clause\n",
    "are added to the list."
   ]
  },
  {
   "cell_type": "code",
   "execution_count": null,
   "metadata": {
    "collapsed": true
   },
   "outputs": [],
   "source": [
    "she = [x for x in emmawords if x.lower() == \"she\"]"
   ]
  },
  {
   "cell_type": "markdown",
   "metadata": {},
   "source": [
    "The above one-liner is equivalent to building a list with `append()`:"
   ]
  },
  {
   "cell_type": "code",
   "execution_count": null,
   "metadata": {
    "collapsed": true
   },
   "outputs": [],
   "source": [
    "she = []\n",
    "for x in emmawords:\n",
    "    if x.lower() == \"she\":\n",
    "        she.append(x)"
   ]
  },
  {
   "cell_type": "markdown",
   "metadata": {},
   "source": [
    "### Your turn:\n",
    "\n",
    "Use a list comprehension to make a list of all words that end in \"-ings\". Then print the list."
   ]
  },
  {
   "cell_type": "code",
   "execution_count": null,
   "metadata": {},
   "outputs": [],
   "source": [
    "# YOUR CODE:\n",
    "\n"
   ]
  },
  {
   "cell_type": "markdown",
   "metadata": {},
   "source": [
    "Note that our set of words contains many repetitions. In python, the simplest way to get rid of repetitions is to form a set."
   ]
  },
  {
   "cell_type": "markdown",
   "metadata": {},
   "source": [
    "## 2. Sets: Removing repetitions (and order)"
   ]
  },
  {
   "cell_type": "markdown",
   "metadata": {},
   "source": [
    "Like a list, a set is a \"collection\" of objects. But there are two important differences: In Python, as in mathematics, the elements of a set come in no particular order. And it is not possible to contain an element twice: Something is either an element of a set or is it not. A common use of sets in Python is precisely to discard repetitions:"
   ]
  },
  {
   "cell_type": "code",
   "execution_count": null,
   "metadata": {},
   "outputs": [],
   "source": [
    "text = \"the quick brown fox jumps over the lazy dog\"\n",
    "words = text.split()\n",
    "singles = set(words)\n",
    "print(singles)\n",
    "print(set([1,1,1,200,100,300,100]))"
   ]
  },
  {
   "cell_type": "markdown",
   "metadata": {},
   "source": [
    "The elements of a set can be enumerated with a for-loop, but they come out in arbitrary order:"
   ]
  },
  {
   "cell_type": "code",
   "execution_count": null,
   "metadata": {},
   "outputs": [],
   "source": [
    "for word in singles:\n",
    "    print(word, end=\" \")"
   ]
  },
  {
   "cell_type": "markdown",
   "metadata": {},
   "source": [
    "Python supports the standard set operations from mathematics:"
   ]
  },
  {
   "cell_type": "code",
   "execution_count": null,
   "metadata": {},
   "outputs": [],
   "source": [
    "A = set([\"x\", \"y\", \"z\"])\n",
    "B = set([\"a\", \"b\", \"x\"])\n",
    "print(\"Union:\",        A | B)  # or A.union(B)\n",
    "print(\"Intersection:\", A & B)  # or A.intersection(B)\n",
    "print(\"Difference:\",   A - B)  # or A.difference(B)"
   ]
  },
  {
   "cell_type": "markdown",
   "metadata": {},
   "source": [
    "The real purpose of python sets is efficiency. Python can\n",
    "_very_ quickly determine if something is an element of a set. We can check for set membership with the keyword `in`. While this works with lists as well, **looking up an element in a long list is much, much slower than checking a set.**"
   ]
  },
  {
   "cell_type": "code",
   "execution_count": null,
   "metadata": {},
   "outputs": [],
   "source": [
    "if \"fox\" in singles:\n",
    "    print('The word \"fox\" is in the set')"
   ]
  },
  {
   "cell_type": "markdown",
   "metadata": {},
   "source": [
    "### Your turn:\n",
    "\n",
    "Convert the list of words ending in -ings into a set. Print them one at a time, as before."
   ]
  },
  {
   "cell_type": "code",
   "execution_count": null,
   "metadata": {},
   "outputs": [],
   "source": [
    "# YOUR CODE:\n",
    "\n"
   ]
  },
  {
   "cell_type": "markdown",
   "metadata": {},
   "source": [
    "## 3. Dictionaries: Indexing by name, not position"
   ]
  },
  {
   "cell_type": "markdown",
   "metadata": {},
   "source": [
    "Recall we access the elements of a list by their numerical index: `words[10]`, etc.\n",
    "A _dictionary_ (aka _hash_ or _associative array_)\n",
    "is like a list, but the locations of its elements\n",
    "have names, called _keys_, instead of numbers. "
   ]
  },
  {
   "cell_type": "markdown",
   "metadata": {},
   "source": [
    "The values can be anything: strings, numbers, lists,\n",
    "other dictionaries, etc. We can add values to a dictionary, and print out specific values, like this:"
   ]
  },
  {
   "cell_type": "code",
   "execution_count": null,
   "metadata": {},
   "outputs": [],
   "source": [
    "part_of_speech = dict()\n",
    "part_of_speech[\"go\"] = \"Verb\"\n",
    "part_of_speech[\"illness\"] = \"Noun\"\n",
    "print(part_of_speech[\"go\"])"
   ]
  },
  {
   "cell_type": "markdown",
   "metadata": {},
   "source": [
    "A dictionary is in essence a collection of key-value pairs, and we can write them directly:"
   ]
  },
  {
   "cell_type": "code",
   "execution_count": null,
   "metadata": {},
   "outputs": [],
   "source": [
    "fr_ned = {\"table\":\"tafel\", \"chaise\":\"stoel\" }"
   ]
  },
  {
   "cell_type": "markdown",
   "metadata": {},
   "source": [
    "Keys are not necessarily strings, but they must be unique\n",
    "and \"immutable\". In particular: A list cannot be a key.\n",
    "\n",
    "Dictionary values can be anything: Here's a translation dictionary that uses a list when there is more than one translation. "
   ]
  },
  {
   "cell_type": "code",
   "execution_count": null,
   "metadata": {},
   "outputs": [],
   "source": [
    "fr_ned = {\"table\":\"tafel\", \n",
    "          \"le\": [\"de\", \"het\"], \n",
    "          \"chaise\": \"stoel\" }"
   ]
  },
  {
   "cell_type": "markdown",
   "metadata": {},
   "source": [
    "As with sets, the order of elements is not retained."
   ]
  },
  {
   "cell_type": "code",
   "execution_count": null,
   "metadata": {},
   "outputs": [],
   "source": [
    "print(fr_ned)"
   ]
  },
  {
   "cell_type": "markdown",
   "metadata": {},
   "source": [
    "We can check for a key in the dictionary with `in` or `not in`:"
   ]
  },
  {
   "cell_type": "code",
   "execution_count": null,
   "metadata": {},
   "outputs": [],
   "source": [
    "w = \"chaise\"\n",
    "if w in fr_ned:\n",
    "    print(w, \"means\", fr_ned[w])\n",
    "else:\n",
    "    print(\"I don't know what\", w, \"means!\")"
   ]
  },
  {
   "cell_type": "markdown",
   "metadata": {},
   "source": [
    "If we try to look up a key that is not in our dictionary, we'll get a `KeyError`. This is similar to the `IndexError` we get if we try to index past the end of a list."
   ]
  },
  {
   "cell_type": "code",
   "execution_count": null,
   "metadata": {},
   "outputs": [],
   "source": [
    "print(fr_ned[\"velo\"])   # will raise an error"
   ]
  },
  {
   "cell_type": "markdown",
   "metadata": {},
   "source": [
    "Like sets, python's dictionaries are designed to make looking up keys extremely fast. In contrast, looking up a value in a list requires examining each of its elements, which gets very slow with long lists. Avoid having to scan a list for a value."
   ]
  },
  {
   "cell_type": "markdown",
   "metadata": {},
   "source": [
    "### Exercise 1\n",
    "\n",
    "Consider the dictionary `lookup` below. It represents a [\"radio alphabet\"][1] traditionally used to spell out words under noisy conditions. The following letters are still missing from it: `'k':'kilo', 'l':'lima', 'm':'mike'`. Add them to `lookup`. Could you spell the word \"marvellous\" in radio alphabet now? Collect the corresponding codes into a list named `msg`. Next, join the items in this list into a single string, with a comma between words, and print the spelled out version.\n",
    "\n",
    "[1]: https://en.wikipedia.org/wiki/Spelling_alphabet"
   ]
  },
  {
   "cell_type": "code",
   "execution_count": null,
   "metadata": {
    "collapsed": true
   },
   "outputs": [],
   "source": [
    "lookup = {'a':'alfa', 'b':'bravo', 'c':'charlie', 'd':'delta', 'e':'echo', \n",
    "          'f':'foxtrot', 'g':'golf', 'h':'hotel', 'i':'india', 'j':'juliett', \n",
    "          'n':'november', 'o':'oscar', 'p':'papa', 'q':'quebec', 'r':'romeo', \n",
    "          's':'sierra', 't':'tango', 'u':'uniform', 'v':'victor', 'w':'whiskey', \n",
    "          'x':'x-ray', 'y':'yankee', 'z':'zulu'}"
   ]
  },
  {
   "cell_type": "code",
   "execution_count": null,
   "metadata": {
    "collapsed": true
   },
   "outputs": [],
   "source": [
    "# YOUR CODE:\n",
    "\n"
   ]
  },
  {
   "cell_type": "markdown",
   "metadata": {},
   "source": [
    "### 3.1 A dictionary of counters\n",
    "\n",
    "A dictionary can keep track of a large number of values at once. Let's use one to count how often each word occurs in a file:"
   ]
  },
  {
   "cell_type": "code",
   "execution_count": null,
   "metadata": {},
   "outputs": [],
   "source": [
    "wordcounts = dict()\n",
    "for word in emmawords:\n",
    "    if word in wordcounts:\n",
    "        wordcounts[word] += 1\n",
    "    else:\n",
    "        wordcounts[word] = 1\n",
    "\n",
    "print(\"kindness\", wordcounts[\"kindness\"])"
   ]
  },
  {
   "cell_type": "markdown",
   "metadata": {},
   "source": [
    "Note the `if-else` structure carefully. The loop examines each word in the text being counted. The statement `if word in wordcounts` tests whether a word is found as a key in the dictionary (i.e., if the word has been seen before). If a word is in the dictionary, its count is incremented by one. But if the word is not yet in the dictionary, there is no count to increment: trying would trigger a lookup error. Hence the `else` clause simply adds the new word to the dictionary, with count 1."
   ]
  },
  {
   "cell_type": "markdown",
   "metadata": {},
   "source": [
    "### Your turn:\n",
    "\n",
    "Build a list of all words in Jane Austen's _Emma_ that end with \"ness\". Then construct a dictionary `nesscounts` that counts how often each word ending in \"ness\" occurs. "
   ]
  },
  {
   "cell_type": "code",
   "execution_count": null,
   "metadata": {},
   "outputs": [],
   "source": [
    "# YOUR CODE:\n",
    "\n"
   ]
  },
  {
   "cell_type": "code",
   "execution_count": null,
   "metadata": {},
   "outputs": [],
   "source": [
    "# Check the result:\n",
    "print(\"kindness\", nesscounts[\"kindness\"])"
   ]
  },
  {
   "cell_type": "markdown",
   "metadata": {},
   "source": [
    "**Variation:** Solve the previous problem again, but without the intermediate list: Construct a dictionary `nesscounts2` that counts how often each word ending in \"ness\" occurs, by looping over all words in Emma but only counting words that end in \"ness\"."
   ]
  },
  {
   "cell_type": "code",
   "execution_count": null,
   "metadata": {
    "collapsed": true
   },
   "outputs": [],
   "source": [
    "# YOUR CODE:\n",
    "\n"
   ]
  },
  {
   "cell_type": "markdown",
   "metadata": {},
   "source": [
    "The two methods should have given us the same result. We can use the relation `==` to check if two dictionaries are exactly the same. (If yours are not, go back and try to figure out your mistake.)"
   ]
  },
  {
   "cell_type": "code",
   "execution_count": null,
   "metadata": {},
   "outputs": [],
   "source": [
    "if nesscounts == nesscounts2:\n",
    "    print(\"The two dictionaries are equal\")\n",
    "else:\n",
    "    print(\"Error somewhere: The dictionaries are not equal!\")"
   ]
  },
  {
   "cell_type": "markdown",
   "metadata": {},
   "source": [
    "### 3.2 Important dictionary methods\n",
    "\n",
    "What can we do with a dictionary? We can look up individual keys in it, but we can also extract all its elements. There are several ways to do this: We can get the keys, the values, or keys and values together, in pairs. Look carefully at the output of the following methods:"
   ]
  },
  {
   "cell_type": "code",
   "execution_count": null,
   "metadata": {},
   "outputs": [],
   "source": [
    "print(fr_ned.keys())"
   ]
  },
  {
   "cell_type": "code",
   "execution_count": null,
   "metadata": {},
   "outputs": [],
   "source": [
    "print(fr_ned.values())"
   ]
  },
  {
   "cell_type": "code",
   "execution_count": null,
   "metadata": {},
   "outputs": [],
   "source": [
    "print(fr_ned.items())"
   ]
  },
  {
   "cell_type": "markdown",
   "metadata": {},
   "source": [
    "The python function `len()`, which gives us the size of a string or list, will also give us the number of elements in a set or dictionary."
   ]
  },
  {
   "cell_type": "code",
   "execution_count": null,
   "metadata": {},
   "outputs": [],
   "source": [
    "print(\"Number of elements:\", len(fr_ned))"
   ]
  },
  {
   "cell_type": "markdown",
   "metadata": {},
   "source": [
    "### 3.3 Lists and \"views\""
   ]
  },
  {
   "cell_type": "markdown",
   "metadata": {},
   "source": [
    "In Python 3, the methods `keys()` and `values()` return a list-like\n",
    "object called a _view_. We can mostly use them just like lists, but\n",
    "they can be explicitly converted to lists when necessary:"
   ]
  },
  {
   "cell_type": "code",
   "execution_count": null,
   "metadata": {},
   "outputs": [],
   "source": [
    "print(\"View:\", fr_ned.values())"
   ]
  },
  {
   "cell_type": "code",
   "execution_count": null,
   "metadata": {},
   "outputs": [],
   "source": [
    "print(\"List:\", list(fr_ned.values()))"
   ]
  },
  {
   "cell_type": "markdown",
   "metadata": {},
   "source": [
    "Views are a kind of _iterator,_ a powerful python concept.\n",
    "A major advantage over lists is that they don't actually\n",
    "build a list of the keys of values (which could be very long).\n",
    "Do not convert a view to a list unless it is necessary."
   ]
  },
  {
   "cell_type": "markdown",
   "metadata": {},
   "source": [
    "### 3.4 Iterating with lists and dictionaries"
   ]
  },
  {
   "cell_type": "markdown",
   "metadata": {},
   "source": [
    "To work with the contents of a dictionary, there are several ways to loop (iterate) over them. Use whichever method gives you the data needed for a particular task.\n",
    "\n",
    "We know that iterating over a list (with a for-loop) gives its elements."
   ]
  },
  {
   "cell_type": "code",
   "execution_count": null,
   "metadata": {},
   "outputs": [],
   "source": [
    "fr_nouns = [ \"table\", \"chaise\", \"velo\" ]\n",
    "for word in fr_nouns:\n",
    "    print(word)"
   ]
  },
  {
   "cell_type": "markdown",
   "metadata": {},
   "source": [
    "Iterating over a dictionary gives its ***keys***! "
   ]
  },
  {
   "cell_type": "code",
   "execution_count": null,
   "metadata": {},
   "outputs": [],
   "source": [
    "for word in fr_ned:\n",
    "    print(word)"
   ]
  },
  {
   "cell_type": "markdown",
   "metadata": {},
   "source": [
    "We can also iterate over the keys by explicitly writing `fr_ned.keys()`:"
   ]
  },
  {
   "cell_type": "code",
   "execution_count": null,
   "metadata": {
    "collapsed": true
   },
   "outputs": [],
   "source": [
    "for word in fr_ned.keys():\n",
    "    print(word)"
   ]
  },
  {
   "cell_type": "markdown",
   "metadata": {},
   "source": [
    "Of course, once we have the keys we can use them to get the values too:"
   ]
  },
  {
   "cell_type": "code",
   "execution_count": null,
   "metadata": {},
   "outputs": [],
   "source": [
    "for word in fr_ned:\n",
    "    print(word, fr_ned[word])"
   ]
  },
  {
   "cell_type": "markdown",
   "metadata": {},
   "source": [
    "But we can also use `dict.values()` to get the values, or `dict.items()` to get keys and values together:"
   ]
  },
  {
   "cell_type": "code",
   "execution_count": null,
   "metadata": {},
   "outputs": [],
   "source": [
    "for val in fr_ned.values():\n",
    "    print(val)"
   ]
  },
  {
   "cell_type": "code",
   "execution_count": null,
   "metadata": {
    "collapsed": true
   },
   "outputs": [],
   "source": [
    "for key, val in fr_ned.items():\n",
    "    print(key, \"-->\", val)"
   ]
  },
  {
   "cell_type": "markdown",
   "metadata": {},
   "source": [
    "Note the two-variable form of the last `for`-loop. It will be explained in the next section."
   ]
  },
  {
   "cell_type": "markdown",
   "metadata": {},
   "source": [
    "### Your turn: \n",
    "\n",
    "The dictionary `nesscounts` contains words ending in \"-ness\" and how often they occurred in our text. (Ensure that it is still defined, by re-running the relevant cells if necessary.) Print, _nicely,_ each word in `nesscounts` and the number of times it was seen. (\"Nicely\" means you should not just dump the dictionary; each word and its count should be on a separate line, with no stray quotes etc. It is not necessary to align the numbers to the same column.)"
   ]
  },
  {
   "cell_type": "code",
   "execution_count": null,
   "metadata": {
    "scrolled": true
   },
   "outputs": [],
   "source": [
    "# YOUR CODE:\n",
    "\n"
   ]
  },
  {
   "cell_type": "markdown",
   "metadata": {},
   "source": [
    "### 3.5 Specialized dictionaries\n",
    "\n",
    "The Python library `collections` offers specialized dictionary subclasses. \n",
    "\n",
    "- A [`defaultdict`][3] does not raise an error when we look for a key that does not exist, but adds  the key with a default value. It is handy for avoiding the existence test (and two versions of the insertion code) when we are collecting values in a dictionary.\n",
    "\n",
    "- A [`Counter`][1] is specially designed for counting. Passing a sequence of objects to its constructor will count the different elements, and store their frequency in the dictionary. A key that does not exist will be treated as having frequency 0, so that it is possible to increment keys without checking if they were already present.  `Counter` also adds useful methods such as `most_common()`, which returns all or some of the known keys sorted in order of frequency.\n",
    "\n",
    "- An [`OrderedDict`][2] will return its contents in the same order that they were inserted.\n",
    "\n",
    "[1]: https://docs.python.org/3/library/collections.html#collections.Counter\n",
    "[2]: https://docs.python.org/3/library/collections.html#collections.OrderedDict\n",
    "[3]: https://docs.python.org/3/library/collections.html#collections.defaultdict"
   ]
  },
  {
   "cell_type": "code",
   "execution_count": null,
   "metadata": {},
   "outputs": [],
   "source": [
    "from collections import Counter\n",
    "letters = Counter(\"Abracadabra\")  # A string is a sequence of letters\n",
    "letters[\"B\"] += 1  # Not an error\n",
    "print(letters)"
   ]
  },
  {
   "cell_type": "markdown",
   "metadata": {},
   "source": [
    "## 4. Tuples and multiple assignment\n",
    "\n",
    "A `tuple` is a special kind of short list. We create an \"implicit\" tuple when we list several values separated by commas: "
   ]
  },
  {
   "cell_type": "code",
   "execution_count": null,
   "metadata": {},
   "outputs": [],
   "source": [
    "fruit = \"banana\", \"apple\", \"pear\"\n",
    "print(fruit)"
   ]
  },
  {
   "cell_type": "markdown",
   "metadata": {},
   "source": [
    "Conversely, a tuple can be \"unpacked\" into an equal number of variables:"
   ]
  },
  {
   "cell_type": "code",
   "execution_count": null,
   "metadata": {},
   "outputs": [],
   "source": [
    "a, b, c = fruit\n",
    "print(b)"
   ]
  },
  {
   "cell_type": "markdown",
   "metadata": {},
   "source": [
    "Simultaneously (multiple assignment):"
   ]
  },
  {
   "cell_type": "code",
   "execution_count": null,
   "metadata": {},
   "outputs": [],
   "source": [
    "odd, even = 10, 5"
   ]
  },
  {
   "cell_type": "markdown",
   "metadata": {},
   "source": [
    "Tuples, like lists, support indexing and slices."
   ]
  },
  {
   "cell_type": "code",
   "execution_count": null,
   "metadata": {},
   "outputs": [],
   "source": [
    "fruit = \"banana\", \"apple\", \"pear\"\n",
    "print(fruit[0])"
   ]
  },
  {
   "cell_type": "markdown",
   "metadata": {},
   "source": [
    "But tuples are _immutable_: We cannot add elements or modify existing ones. If we try, we get an error."
   ]
  },
  {
   "cell_type": "code",
   "execution_count": null,
   "metadata": {},
   "outputs": [],
   "source": [
    "fruit[0] = \"strawberry\""
   ]
  },
  {
   "cell_type": "markdown",
   "metadata": {},
   "source": [
    "Tuples, like lists, support concatenation (which creates a new tuple):"
   ]
  },
  {
   "cell_type": "code",
   "execution_count": null,
   "metadata": {},
   "outputs": [],
   "source": [
    "print((1, 2) + (3, 4))"
   ]
  },
  {
   "cell_type": "markdown",
   "metadata": {},
   "source": [
    "### 4.1 Using multiple assignment"
   ]
  },
  {
   "cell_type": "markdown",
   "metadata": {},
   "source": [
    "Sometimes (especially with more mathematical tasks), we want to exchange the value of two variables. This task is famously tricky for beginning programmers, because the obvious approach does not work:"
   ]
  },
  {
   "cell_type": "code",
   "execution_count": null,
   "metadata": {
    "collapsed": true
   },
   "outputs": [],
   "source": [
    "a = \"left\"\n",
    "b = \"right\"\n",
    "\n",
    "# Let's try to exchange `a` and `b`:\n",
    "\n",
    "a = b    # Does not work!\n",
    "b = a"
   ]
  },
  {
   "cell_type": "markdown",
   "metadata": {},
   "source": [
    "Can you see why the above goes wrong? Print the values of `a` and `b` and see if you understand.\n",
    "\n",
    "In contrast to the above, multiple assignment happens conceptually \"in one step\", so the following works as intended: "
   ]
  },
  {
   "cell_type": "code",
   "execution_count": null,
   "metadata": {},
   "outputs": [],
   "source": [
    "a = 5\n",
    "b = 10\n",
    "\n",
    "a, b = b, a  # Simultaneous assignment: works"
   ]
  },
  {
   "cell_type": "markdown",
   "metadata": {},
   "source": [
    "We can use the same technique to progress along sequences of words or numbers. Do you recognize the following algorithm?"
   ]
  },
  {
   "cell_type": "code",
   "execution_count": null,
   "metadata": {},
   "outputs": [],
   "source": [
    "x = y = 1\n",
    "for n in range(10):\n",
    "    print(x, end=' ')\n",
    "    x, y = y, x+y\n",
    "print()"
   ]
  },
  {
   "cell_type": "markdown",
   "metadata": {},
   "source": [
    "### 4.2 Working with tuples"
   ]
  },
  {
   "cell_type": "markdown",
   "metadata": {},
   "source": [
    "The dictionary method `items()` generates a list of tuples, each containing a key and a value from the dictionary."
   ]
  },
  {
   "cell_type": "code",
   "execution_count": null,
   "metadata": {},
   "outputs": [],
   "source": [
    "for item in fr_ned.items():\n",
    "    if item[0].startswith(\"c\"):\n",
    "        print(item[0], item[1])"
   ]
  },
  {
   "cell_type": "markdown",
   "metadata": {},
   "source": [
    "Instead of indexing into the tuple, it's much nicer to unpack it in place (as we did earlier):"
   ]
  },
  {
   "cell_type": "code",
   "execution_count": null,
   "metadata": {},
   "outputs": [],
   "source": [
    "for frword, nlword in fr_ned.items():\n",
    "    if frword.startswith(\"c\"):\n",
    "        print(frword, nlword)"
   ]
  },
  {
   "cell_type": "markdown",
   "metadata": {},
   "source": [
    "The number of variables must match the length of the tuple,\n",
    "or we get an error:"
   ]
  },
  {
   "cell_type": "code",
   "execution_count": null,
   "metadata": {},
   "outputs": [],
   "source": [
    "a, b = fruit   # Error: fruit is a tuple of length 3"
   ]
  },
  {
   "cell_type": "code",
   "execution_count": null,
   "metadata": {},
   "outputs": [],
   "source": [
    "for a, b, c in fr_ned.items():  # Error: items() gives tuples of length 2\n",
    "    print(b)"
   ]
  },
  {
   "cell_type": "markdown",
   "metadata": {},
   "source": [
    "### 4.3 Handy tuple iterators"
   ]
  },
  {
   "cell_type": "markdown",
   "metadata": {},
   "source": [
    "Recall that we can use a for-loop to iterate over a list, which loops over the elements of the list without using a visible index. To get the index along with the values, use `enumerate()`. It gives us a sequence of tuples, each with an index and the corresponding element:"
   ]
  },
  {
   "cell_type": "code",
   "execution_count": null,
   "metadata": {},
   "outputs": [],
   "source": [
    "colors = ['green', 'red', 'purple']\n",
    "for n, col in enumerate(colors):\n",
    "    print(n, col)"
   ]
  },
  {
   "cell_type": "markdown",
   "metadata": {},
   "source": [
    "If you have two separate lists and you want to iterate over them in parallel, use `zip()`. It creates a sequence of tuples containing one element from each list. Like `enumerate()`, it is not a real list but an \"iterator\": a special object that we can loop over, or convert into a list."
   ]
  },
  {
   "cell_type": "code",
   "execution_count": null,
   "metadata": {},
   "outputs": [],
   "source": [
    "nl = \"Dit is een zin\".split()\n",
    "en = \"This is a sentence\".split()\n",
    "parallel = zip(nl, en)\n",
    "print(parallel)\n",
    "print(list(parallel))\n",
    "\n",
    "for pair in zip(nl, en):\n",
    "    print(pair)"
   ]
  },
  {
   "cell_type": "markdown",
   "metadata": {},
   "source": [
    "Iterators are a little tricky: If you try to list `parallel` a second time, you'll get nothing:"
   ]
  },
  {
   "cell_type": "code",
   "execution_count": null,
   "metadata": {},
   "outputs": [],
   "source": [
    "print(list(parallel))"
   ]
  },
  {
   "cell_type": "markdown",
   "metadata": {},
   "source": [
    "This is because iterators are similar to reading a file: when we read from one, we \"advance\" it until there's nothing more to read. If you need to use one repeatedly, save it to a list-- or just make a fresh iterator."
   ]
  },
  {
   "cell_type": "code",
   "execution_count": null,
   "metadata": {
    "collapsed": true
   },
   "outputs": [],
   "source": [
    "pairs = list(zip(nl, en))  # make a real, permanent list"
   ]
  },
  {
   "cell_type": "markdown",
   "metadata": {},
   "source": [
    "Python's iterators are designed to be used with for-loops. In fact, python makes an iterator behind the scenes _every_ time we use a for-loop. When things go well, it all \"just works\"."
   ]
  },
  {
   "cell_type": "markdown",
   "metadata": {},
   "source": [
    "Once we have a saved list of pairs, we can use tuple unpacking to print or save just one element."
   ]
  },
  {
   "cell_type": "code",
   "execution_count": null,
   "metadata": {},
   "outputs": [],
   "source": [
    "# Separate the pairs: Extract the Dutch part, then the English part \n",
    "for n, e in pairs:\n",
    "    print(n, end=\" \")\n",
    "print()"
   ]
  },
  {
   "cell_type": "markdown",
   "metadata": {},
   "source": [
    "### Your turn:\n",
    "\n",
    "Loop over the variable `pairs` and print just the English words. Then use another loop to collect the English words into a new list, `engwords`."
   ]
  },
  {
   "cell_type": "code",
   "execution_count": null,
   "metadata": {},
   "outputs": [],
   "source": [
    "# YOUR CODE:\n",
    "\n"
   ]
  },
  {
   "cell_type": "markdown",
   "metadata": {},
   "source": [
    "### 4.4 Tuple or list?"
   ]
  },
  {
   "cell_type": "markdown",
   "metadata": {},
   "source": [
    "Lists can be modified by adding, deleting or modifying elements.\n",
    "\n",
    "Because tuples are \"immutable\", they are legal as `dict` keys.\n",
    "Lists are not.\n",
    "\n",
    "**Python \"best practice\":**\n",
    "\n",
    "- **Use lists** for homogeneous collections, e.g., a list of students.\n",
    "\n",
    "- **Use tuples** when each element has a different function, e.g.\n",
    "`(first_name, last_name, age, address)`"
   ]
  },
  {
   "cell_type": "markdown",
   "metadata": {},
   "source": [
    "## 5. Sorting\n",
    "\n",
    "### 5.1 sort() and sorted()"
   ]
  },
  {
   "cell_type": "markdown",
   "metadata": {},
   "source": [
    "Let's go back to our set of words ending in -ings. It would make more sense to print them out alphabetically. Since sets have no order, we convert the set of words to a list (which is still in a random-like order). Then we _sort_ the list:"
   ]
  },
  {
   "cell_type": "code",
   "execution_count": null,
   "metadata": {},
   "outputs": [],
   "source": [
    "ingsset = set(ingswords)\n",
    "ingslist = list(ingsset)\n",
    "\n",
    "print(\"Before sorting:\")\n",
    "for word in ingslist:\n",
    "    print(word, end=\" \")\n",
    "print(\"\\n\")\n",
    "      \n",
    "ingslist.sort()\n",
    "print(\"After sorting:\")\n",
    "for word in ingslist:\n",
    "    print(word, end=\" \")\n",
    "print()"
   ]
  },
  {
   "cell_type": "markdown",
   "metadata": {},
   "source": [
    "The list has been alphabetized (but note that capital letters are ordered before lowercase letters.) The list method `sort()` will modify the list in-place, rearranging its elements.\n",
    "To sort a list \"non-destructively\", i.e., without modifying it, use the function `sorted()`. It returns a sorted copy of the list, without modifying the original."
   ]
  },
  {
   "cell_type": "code",
   "execution_count": null,
   "metadata": {},
   "outputs": [],
   "source": [
    "ingslist = list(ingsset)  # Re-create our unsorted list\n",
    "print(\"Sorted:\", sorted(ingslist))\n",
    "print()\n",
    "print(\"Original:\", ingslist)"
   ]
  },
  {
   "cell_type": "markdown",
   "metadata": {},
   "source": [
    "### 5.2 Sorting dictionaries\n",
    "\n",
    "Dictionaries, like sets, don't have an in-place method `sort()`: The order of a dictionary's elements is unpredictable by design. But we can process or print a dictionary in sorted order, by using `sorted()` on \n",
    "the sequence produced by one of the dictionary methods `dict.keys()`, `dict.values()` or `dict.items()`. \n",
    "\n",
    "The simplest case is to display a dictionary alphabetically, by key.\n",
    "For example, recall our dictionary `nesscounts` which contains the frequencies of words ending in \"-ness\". To print the words and their contents alphabetically, we sort the words (the dictionary keys) and print each key and its corresponding value."
   ]
  },
  {
   "cell_type": "code",
   "execution_count": null,
   "metadata": {
    "scrolled": true
   },
   "outputs": [],
   "source": [
    "for word in sorted(nesscounts.keys()):\n",
    "    print(word, nesscounts[word])"
   ]
  },
  {
   "cell_type": "markdown",
   "metadata": {},
   "source": [
    "In the above we wrote `nesscounts.keys()` for the sake of explicitness; recall that iterating over a dictionary object (or passing it to a list-building constructor or iterator, such as the function `sorted()`) will give the same result: A list of the keys."
   ]
  },
  {
   "cell_type": "markdown",
   "metadata": {},
   "source": [
    "### 5.3 Advanced sorting: \"Sorting keys\"\n",
    "\n",
    "Because upper and lower case letters are treated as different characters, capitalized words were sorted before lowercase words in the last output. To alphabetize \"A\" and \"a\" together (\"case-insensitive sorting\"), we could build and sort a dictionary containing everything in lower case.\n",
    "But suppose we still want to see the words in their original form? In this case, we must sort according to a \"key\" that is different from the word itself. \n",
    "\n",
    "Python's `sort` routines accept an optional argument `key` (no relation to dictionary keys), for just this purpose. The value of `key` must be a **function** that takes one argument (it will be one of the elements in the list to be sorted), and returns a \"sorting key\" that will determine its place in the sort. For case-insensitive sorting, the key for each word can be its lowercase version. This ensures that \"A\" and \"a\" are treated as equal:"
   ]
  },
  {
   "cell_type": "code",
   "execution_count": null,
   "metadata": {},
   "outputs": [],
   "source": [
    "def lowercased(x):\n",
    "    return x.lower()\n",
    "\n",
    "ingsbetter = sorted(ingslist, key=lowercased)\n",
    "print(\" \".join(ingsbetter))"
   ]
  },
  {
   "cell_type": "markdown",
   "metadata": {},
   "source": [
    "Note that by passing the dictionary object to `sorted`, we get back a sorted list _of the keys._ Once we've sorted the keys, of course, we can print the full dictionary (keys and values) in the desired sorted order."
   ]
  },
  {
   "cell_type": "markdown",
   "metadata": {},
   "source": [
    "To avoid littering our code with super-simple functions that are only used once, we could have used python's `lambda` construction instead of defining `lowercased()`. It defines an unnamed function that returns the expression after the `:`."
   ]
  },
  {
   "cell_type": "code",
   "execution_count": null,
   "metadata": {
    "collapsed": true
   },
   "outputs": [],
   "source": [
    "ingsbetter = sorted(ingslist, key=lambda x: x.lower())"
   ]
  },
  {
   "cell_type": "markdown",
   "metadata": {},
   "source": [
    "### Your turn:\n",
    "\n",
    "Sort and print out the dictionary `nesscounts` (including values) in case-insensitive alphabetic order."
   ]
  },
  {
   "cell_type": "code",
   "execution_count": null,
   "metadata": {
    "collapsed": true
   },
   "outputs": [],
   "source": [
    "# YOUR CODE:\n",
    "\n"
   ]
  },
  {
   "cell_type": "markdown",
   "metadata": {},
   "source": [
    "### Your turn: Sorting by value\n",
    "\n",
    "Wouldn't it be nice if we could see the contents of `nesscounts` by descending order of frequency? For this, the sort key function must have access to the value corresponding to each key. The best way to achieve this is by sorting the value of `nesscounts.items()`, which produces the contens of the dictionary as a sequence of tuples, `(key, value)` (i.e., `(word, frequency)` in our case). Construct a sorting key function that uses the frequency, not the word, as the sorting key. (The function must still take one argument, but in this case it will be a tuple.)\n",
    "\n",
    "Your function will probably produce the dictionary in ascending order of frequency (small frequencies first). To convert it to descending order, you can add the option `sorted(..., reverse=True)`. (Another option: The key function can negate the frequencies, so that high frequencies produce smaller keys.)\n",
    "\n",
    "Print out the dictionary `nesscounts` in order of descending frequency (greatest first)."
   ]
  },
  {
   "cell_type": "code",
   "execution_count": null,
   "metadata": {
    "collapsed": true
   },
   "outputs": [],
   "source": [
    "# YOUR CODE:\n",
    "\n"
   ]
  },
  {
   "cell_type": "markdown",
   "metadata": {},
   "source": [
    "## 6. Deleting data"
   ]
  },
  {
   "cell_type": "markdown",
   "metadata": {},
   "source": [
    "The \"mutability\" of most python data types wouldn't be worth much if we could only add data to them. As with lists, is  possible to selectively remove elements from a set or dictionary\n",
    "using python's general-purpose deletion operator `del`. "
   ]
  },
  {
   "cell_type": "code",
   "execution_count": null,
   "metadata": {},
   "outputs": [],
   "source": [
    "print(\"List:\")\n",
    "numbers = list(range(10, 20))\n",
    "print(numbers)\n",
    "del numbers[3:8]\n",
    "print(numbers)"
   ]
  },
  {
   "cell_type": "code",
   "execution_count": null,
   "metadata": {},
   "outputs": [],
   "source": [
    "print(\"Dictionary:\")\n",
    "lettercounts = {'s':4, 'p':2, 'm':1, 'i':4}\n",
    "\n",
    "print(lettercounts)\n",
    "del lettercounts[\"p\"]\n",
    "print(lettercounts)"
   ]
  },
  {
   "cell_type": "markdown",
   "metadata": {},
   "source": [
    "In the above, we deleted elements by specifying the index or key of the element(s) to be removed. We can also remove elements from a list by value: The list method `remove()` will delete the first element with matching value:"
   ]
  },
  {
   "cell_type": "code",
   "execution_count": null,
   "metadata": {},
   "outputs": [],
   "source": [
    "numbers.remove(18)\n",
    "print(numbers)"
   ]
  },
  {
   "cell_type": "markdown",
   "metadata": {},
   "source": [
    "Sets also have a `remove()` method:"
   ]
  },
  {
   "cell_type": "code",
   "execution_count": null,
   "metadata": {},
   "outputs": [],
   "source": [
    "print(\"Set:\")\n",
    "letters = set(\"mississippi\")\n",
    "print(letters)\n",
    "letters.remove(\"m\")\n",
    "print(letters)"
   ]
  },
  {
   "cell_type": "markdown",
   "metadata": {},
   "source": [
    "Take a good look at the above sets. Fun fact: If we use a string to initialize a set (or a list), the _letters_ of the string become the elements of the new object. This is most often done by mistake."
   ]
  },
  {
   "cell_type": "markdown",
   "metadata": {},
   "source": [
    "### Exercise 2"
   ]
  },
  {
   "cell_type": "markdown",
   "metadata": {},
   "source": [
    "Collect the code terms in the lookup dict (`alpha`, `bravo`, ...) from the previous exercise into a **list** called `code_words`. Is this list alphabetically sorted? No? Then arrange for the list to be sorted alphabetically. Now remove the items `victor`, `india` and `papa`. Append the words `pigeon` and `potato` to the end of this list. Combine this new list of items into a single string, using a semicolon (`;`) as a delimiter and print this string. "
   ]
  },
  {
   "cell_type": "code",
   "execution_count": null,
   "metadata": {
    "collapsed": true
   },
   "outputs": [],
   "source": [
    "# YOUR CODE:\n",
    "\n"
   ]
  },
  {
   "cell_type": "markdown",
   "metadata": {},
   "source": [
    "## 7. What we have learned\n",
    "\n",
    "### What you need to know by heart\n",
    "\n",
    "- How to store and retrieve values in a dictionary.\n",
    "- How to find the unique values in a list, by converting into a set to discard repetitions.\n",
    "- How to loop over the contents (keys, values or both) of a dictionary.\n",
    "- How to check if something is in a set. You should also know NOT to use a list (especially a large one) for this purpose."
   ]
  },
  {
   "cell_type": "code",
   "execution_count": null,
   "metadata": {
    "collapsed": true
   },
   "outputs": [],
   "source": []
  },
  {
   "cell_type": "markdown",
   "metadata": {},
   "source": [
    "### What you should remember you saw\n",
    "\n",
    "- \"Tuple unpacking\": Your for-loops can use multiple loop variables to loop over a list of tuples.\n",
    "- The `items()` method of a dictionary allows you to loop over keys and values together.\n",
    "- You can use a dictionary to count multiple things at once (e.g., the frequencies of words in a document).\n",
    "- The `collections` module provides specialized dictionary classes for various purposes, including counting.\n",
    "- To print out a list, set or dictionary in alphabetical order, sort it (which produces a list).\n",
    "- You can specify various ordering criteria for sorting."
   ]
  },
  {
   "cell_type": "markdown",
   "metadata": {},
   "source": [
    "## 8. Additional Exercises (harder)"
   ]
  },
  {
   "cell_type": "markdown",
   "metadata": {},
   "source": [
    "### Exercise 3"
   ]
  },
  {
   "cell_type": "markdown",
   "metadata": {},
   "source": [
    "Translate the following sentence to French using the two dictionaries. Do it in two steps: First get the literal translation of the words and glue those together in one string. Then use the `rewrite_rules` dictionary to get the spelling right. Print the result in one string.\n",
    "\n",
    "Recall that the string method `replace()` can be used to replace all instances of a substring with something else. (Since python strings are \"immutable\", the result is returned as a new string.)"
   ]
  },
  {
   "cell_type": "code",
   "execution_count": null,
   "metadata": {},
   "outputs": [],
   "source": [
    "garfield=\"I love lasagna\"\n",
    "\n",
    "EN_FR_dict= {\"I\":\"je\",\"love\":\"aime\",\"lasagna\":\"lasagne\"}\n",
    "rewrite_rules={\"e a\":\"'a\",\"e e\":\"'e\"}"
   ]
  },
  {
   "cell_type": "code",
   "execution_count": null,
   "metadata": {
    "collapsed": true
   },
   "outputs": [],
   "source": [
    "# YOUR CODE:\n",
    "\n"
   ]
  },
  {
   "cell_type": "markdown",
   "metadata": {},
   "source": [
    "### Exercise 4"
   ]
  },
  {
   "cell_type": "markdown",
   "metadata": {},
   "source": [
    "Many words are derived from other words, and _-ness_ is a well-known suffix that can be added to English adjectives. In this exercise we study its use in Jane Austen's _Emma_, using a mix of data structures."
   ]
  },
  {
   "cell_type": "markdown",
   "metadata": {},
   "source": [
    "<!-- This version does not use Regexps -->\n",
    "\n",
    "1. Read in the text of the file `austen_emma.txt`, and separate it into words.\n",
    "\n",
    "2. Create a set `emmaset` with all the words it the text. To avoid storing separate capitalized and lowercase versions (`the` and `The`), convert each word to lower case before you add it to the collection.\n",
    "\n",
    "3. Examine each word in `emmaset`. If it ends in `ness`, check if the base word is also in `emmaset`. E.g., if the word is `idleness`, look for the base word `idle`.  \n",
    "    If the base word is found, create a tuple containing the two words and add it to a list `wordpairs`. If the base word is not found, add the ness-word to a list `orphans`. For example, _Emma_ contains `sullenness` but not `sullen`.\n",
    "\n",
    "4. A word like `laziness` is derived from `lazy`, not `lazi`. Enhance your code to take this spelling change into account--i.e., be prepared to recognize pairs like `(laziness, lazy)`.\n",
    "\n",
    "5. Sort and print out the two lists you created. Print a short statement reporting their length. I found 74 word pairs and 17 orphans (some due to attached punctuation)."
   ]
  },
  {
   "cell_type": "code",
   "execution_count": null,
   "metadata": {
    "collapsed": true
   },
   "outputs": [],
   "source": [
    "# YOUR CODE:\n",
    "\n"
   ]
  },
  {
   "cell_type": "markdown",
   "metadata": {},
   "source": [
    "<!-- -----------------------------------------------------------------\n",
    "\n",
    "You've reached the end of Chapter 2! Ignore the code block below -- it's only there to make the page prettier.\n",
    "\n",
    "from IPython.core.display import HTML\n",
    "def css_styling():\n",
    "    styles = open(\"styles/custom.css\", \"r\").read()\n",
    "    return HTML(styles)\n",
    "css_styling()\n",
    "\n",
    "-->"
   ]
  }
 ],
 "metadata": {
  "kernelspec": {
   "display_name": "Python 3",
   "language": "python",
   "name": "python3"
  },
  "language_info": {
   "codemirror_mode": {
    "name": "ipython",
    "version": 3
   },
   "file_extension": ".py",
   "mimetype": "text/x-python",
   "name": "python",
   "nbconvert_exporter": "python",
   "pygments_lexer": "ipython3",
   "version": "3.8.8"
  }
 },
 "nbformat": 4,
 "nbformat_minor": 1
}
