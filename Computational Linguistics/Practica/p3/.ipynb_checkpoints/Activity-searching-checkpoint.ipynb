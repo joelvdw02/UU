{
 "cells": [
  {
   "cell_type": "markdown",
   "metadata": {},
   "source": [
    "Reading and searching text\n",
    "=======\n",
    "\n",
    "_Practical Python for Linguistics and the Humanities -- Alexis\n",
    "Dimitriadis_"
   ]
  },
  {
   "cell_type": "markdown",
   "metadata": {
    "TableOfContents": 1
   },
   "source": [
    "## Contents\n",
    "\n",
    "\n",
    "**[1. New python features](#1.-New-python-features)**  \n",
    "&nbsp;&nbsp;&nbsp;&nbsp;\n",
    "  [1.1 The `import` command](#1.1-The-import-command)  \n",
    "&nbsp;&nbsp;&nbsp;&nbsp;\n",
    "  [1.2 Features for interactive use](#1.2-Features-for-interactive-use)  \n",
    "&nbsp;&nbsp;&nbsp;&nbsp;\n",
    "  [1.3 Custom help text](#1.3-Custom-help-text)  \n",
    "\n",
    "**[2. More about strings](#2.-More-about-strings)**  \n",
    "&nbsp;&nbsp;&nbsp;&nbsp;\n",
    "  [2.1 The `repr()` function](#2.1-The-repr%28%29-function)  \n",
    "\n",
    "**[3. Reading text from files](#3.-Reading-text-from-files)**  \n",
    "&nbsp;&nbsp;&nbsp;&nbsp;\n",
    "  [3.1 Opening a file](#3.1-Opening-a-file)  \n",
    "&nbsp;&nbsp;&nbsp;&nbsp;\n",
    "  [3.2 Scenario 1: Processing text line by line](#3.2-Scenario-1:-Processing-text-line-by-line)  \n",
    "&nbsp;&nbsp;&nbsp;&nbsp;\n",
    "  [3.3 Searching with regular expressions](#3.3-Searching-with-regular-expressions)  \n",
    "&nbsp;&nbsp;&nbsp;&nbsp;\n",
    "  [3.4 Putting it all together](#3.4-Putting-it-all-together)  \n",
    "&nbsp;&nbsp;&nbsp;&nbsp;\n",
    "  [3.5 Building and using lists](#3.5-Building-and-using-lists)  \n",
    "&nbsp;&nbsp;&nbsp;&nbsp;\n",
    "  [3.6 List comprehensions](#3.6-List-comprehensions)  \n",
    "&nbsp;&nbsp;&nbsp;&nbsp;\n",
    "  [3.7 Scenario 2: Processing text word by word](#3.7-Scenario-2:-Processing-text-word-by-word)  \n",
    "&nbsp;&nbsp;&nbsp;&nbsp;\n",
    "  [3.8 Scenario 3: Searching for sentences](#3.8-Scenario-3:-Searching-for-sentences)  \n",
    "&nbsp;&nbsp;&nbsp;&nbsp;\n",
    "  [3.9 Case-insensitive search](#3.9-Case-insensitive-search)  \n",
    "\n",
    "**[4. Search tasks](#4.-Search-tasks)**  \n",
    "&nbsp;&nbsp;&nbsp;&nbsp;\n",
    "  [4.1 Preparation: Download a story](#4.1-Preparation:-Download-a-story)  \n",
    "&nbsp;&nbsp;&nbsp;&nbsp;\n",
    "  [4.2 Search for words in your story](#4.2-Search-for-words-in-your-story)  \n",
    "&nbsp;&nbsp;&nbsp;&nbsp;\n",
    "  [4.3 Search for lines](#4.3-Search-for-lines)  \n",
    "&nbsp;&nbsp;&nbsp;&nbsp;\n",
    "  [4.4 Other searches](#4.4-Other-searches)  \n",
    "\n",
    "**[5. What we learned](#5.-What-we-learned)**  \n"
   ]
  },
  {
   "cell_type": "markdown",
   "metadata": {},
   "source": [
    "Handling text involves several stages:\n",
    "\n",
    "\n",
    "1. \"Reading\" the text into python.\n",
    "\n",
    "2. Separating it into suitably-sized pieces (lines, words etc.):\n",
    "The size _depends on our goals_.\n",
    "\n",
    "3. Recognizing the pieces we are interested in.\n",
    "  Regular expressions are a very powerful tool for this.\n",
    "\n",
    "4. Collecting the pieces that match our search, and/or doing something\n",
    "with them.\n",
    "\n",
    "We'll start with some of the features python provides to help us\n",
    "manage complex tasks like this, then look at some recipes for\n",
    "searching."
   ]
  },
  {
   "cell_type": "markdown",
   "metadata": {},
   "source": [
    "## 1. New python features"
   ]
  },
  {
   "cell_type": "markdown",
   "metadata": {},
   "source": [
    "### 1.1 The `import` command"
   ]
  },
  {
   "cell_type": "markdown",
   "metadata": {},
   "source": [
    "\"Importing\" means we load a _module_ of new python commands,\n",
    "usually function definitions. They expand what python can do."
   ]
  },
  {
   "cell_type": "markdown",
   "metadata": {},
   "source": [
    "The new commands (functions or variables) are in the \"namespace\" of\n",
    "the\n",
    "module. To use them, specify the module name before the command, e.g.,\n",
    "`math.factorial(...)`:"
   ]
  },
  {
   "cell_type": "code",
   "execution_count": 1,
   "metadata": {},
   "outputs": [
    {
     "name": "stdout",
     "output_type": "stream",
     "text": [
      "Ten factorial (10!) is 3628800\n"
     ]
    }
   ],
   "source": [
    "import math\n",
    "print(\"Ten factorial (10!) is\", math.factorial(10))"
   ]
  },
  {
   "cell_type": "markdown",
   "metadata": {},
   "source": [
    "There is another version of importing: With `from ... import`, we can\n",
    "import a single name from a module.\n",
    "The imported name can then be used without the module prefix."
   ]
  },
  {
   "cell_type": "code",
   "execution_count": 2,
   "metadata": {},
   "outputs": [
    {
     "name": "stdout",
     "output_type": "stream",
     "text": [
      "20! = 2432902008176640000\n"
     ]
    }
   ],
   "source": [
    "from math import factorial\n",
    "print(\"20! =\", factorial(20))"
   ]
  },
  {
   "cell_type": "markdown",
   "metadata": {},
   "source": [
    "### 1.2 Features for interactive use"
   ]
  },
  {
   "cell_type": "markdown",
   "metadata": {},
   "source": [
    "As our programs get more complicated, it is sometimes hard to get a\n",
    "handle on what's going on. Two useful commands for interactive use\n",
    "(not for completed scripts) are `dir()` and `help()`. `dir()` lists\n",
    "all variables we have defined so far. This is most useful in IDLE,\n",
    "python's interactive editor and command console. In a Notebook, we'll\n",
    "first see a bunch of internal commands  defined by the notebook. Most\n",
    "of their names start with `_` (underscore). But down near the end of\n",
    "the list you'll see `math` and `factorial`, the two variables we have\n",
    "defined so far. (Yes, a module name is a variable too.)"
   ]
  },
  {
   "cell_type": "code",
   "execution_count": 3,
   "metadata": {},
   "outputs": [
    {
     "data": {
      "text/plain": [
       "['In',\n",
       " 'Out',\n",
       " '_',\n",
       " '__',\n",
       " '___',\n",
       " '__builtin__',\n",
       " '__builtins__',\n",
       " '__doc__',\n",
       " '__loader__',\n",
       " '__name__',\n",
       " '__package__',\n",
       " '__session__',\n",
       " '__spec__',\n",
       " '_dh',\n",
       " '_i',\n",
       " '_i1',\n",
       " '_i2',\n",
       " '_i3',\n",
       " '_ih',\n",
       " '_ii',\n",
       " '_iii',\n",
       " '_oh',\n",
       " 'exit',\n",
       " 'factorial',\n",
       " 'get_ipython',\n",
       " 'math',\n",
       " 'open',\n",
       " 'quit']"
      ]
     },
     "execution_count": 3,
     "metadata": {},
     "output_type": "execute_result"
    }
   ],
   "source": [
    "dir()"
   ]
  },
  {
   "cell_type": "markdown",
   "metadata": {},
   "source": [
    "The command `help()` can show us the internal documentation of\n",
    "functions, modules or types. When we only need a brief description,\n",
    "it's often easier than googling for the same information."
   ]
  },
  {
   "cell_type": "code",
   "execution_count": 4,
   "metadata": {},
   "outputs": [
    {
     "name": "stdout",
     "output_type": "stream",
     "text": [
      "Help on built-in function factorial in module math:\n",
      "\n",
      "factorial(n, /)\n",
      "    Find n!.\n",
      "\n",
      "    Raise a ValueError if x is negative or non-integral.\n",
      "\n"
     ]
    }
   ],
   "source": [
    "help(factorial)"
   ]
  },
  {
   "cell_type": "markdown",
   "metadata": {},
   "source": [
    "If we call `help()` without arguments, it will launch a special mode\n",
    "that reads commands and tries to find their documentation. (If you\n",
    "enter it, type \"q\" or Control-D to exit).\n",
    "And because python will not let us use a keyword like \"if\" as a\n",
    "function argument, `help()` will also accept a string containing a\n",
    "python keyword:"
   ]
  },
  {
   "cell_type": "code",
   "execution_count": 5,
   "metadata": {},
   "outputs": [
    {
     "name": "stdout",
     "output_type": "stream",
     "text": [
      "The \"if\" statement\n",
      "******************\n",
      "\n",
      "The \"if\" statement is used for conditional execution:\n",
      "\n",
      "   if_stmt ::= \"if\" assignment_expression \":\" suite\n",
      "               (\"elif\" assignment_expression \":\" suite)*\n",
      "               [\"else\" \":\" suite]\n",
      "\n",
      "It selects exactly one of the suites by evaluating the expressions one\n",
      "by one until one is found to be true (see section Boolean operations\n",
      "for the definition of true and false); then that suite is executed\n",
      "(and no other part of the \"if\" statement is executed or evaluated).\n",
      "If all expressions are false, the suite of the \"else\" clause, if\n",
      "present, is executed.\n",
      "\n",
      "Related help topics: TRUTHVALUE\n",
      "\n"
     ]
    }
   ],
   "source": [
    "help(\"if\")"
   ]
  },
  {
   "cell_type": "markdown",
   "metadata": {},
   "source": [
    "### Your turn:\n",
    "\n",
    "Import the module `re`, python's regular expression module. Print out\n",
    "the help text for the function `re.split()`."
   ]
  },
  {
   "cell_type": "code",
   "execution_count": 9,
   "metadata": {},
   "outputs": [
    {
     "name": "stdout",
     "output_type": "stream",
     "text": [
      "Help on function split in module re:\n",
      "\n",
      "split(pattern, string, maxsplit=0, flags=0)\n",
      "    Split the source string by the occurrences of the pattern,\n",
      "    returning a list containing the resulting substrings.  If\n",
      "    capturing parentheses are used in pattern, then the text of all\n",
      "    groups in the pattern are also returned as part of the resulting\n",
      "    list.  If maxsplit is nonzero, at most maxsplit splits occur,\n",
      "    and the remainder of the string is returned as the final element\n",
      "    of the list.\n",
      "\n"
     ]
    }
   ],
   "source": [
    "# YOUR CODE:\n",
    "import re\n",
    "help(re.split)"
   ]
  },
  {
   "cell_type": "markdown",
   "metadata": {},
   "source": [
    "Modules can have help text too. Print out the help for the module\n",
    "`re`; you don't need to study it carefully, but note that the general\n",
    "description is followed by a list of the functions in this module. The\n",
    "function list is automatically generated, and includes brief\n",
    "documentation for each function."
   ]
  },
  {
   "cell_type": "code",
   "execution_count": 10,
   "metadata": {
    "scrolled": true
   },
   "outputs": [
    {
     "name": "stdout",
     "output_type": "stream",
     "text": [
      "Help on package re:\n",
      "\n",
      "NAME\n",
      "    re - Support for regular expressions (RE).\n",
      "\n",
      "MODULE REFERENCE\n",
      "    https://docs.python.org/3.12/library/re.html\n",
      "\n",
      "    The following documentation is automatically generated from the Python\n",
      "    source files.  It may be incomplete, incorrect or include features that\n",
      "    are considered implementation detail and may vary between Python\n",
      "    implementations.  When in doubt, consult the module reference at the\n",
      "    location listed above.\n",
      "\n",
      "DESCRIPTION\n",
      "    This module provides regular expression matching operations similar to\n",
      "    those found in Perl.  It supports both 8-bit and Unicode strings; both\n",
      "    the pattern and the strings being processed can contain null bytes and\n",
      "    characters outside the US ASCII range.\n",
      "\n",
      "    Regular expressions can contain both special and ordinary characters.\n",
      "    Most ordinary characters, like \"A\", \"a\", or \"0\", are the simplest\n",
      "    regular expressions; they simply match themselves.  You can\n",
      "    concatenate ordinary characters, so last matches the string 'last'.\n",
      "\n",
      "    The special characters are:\n",
      "        \".\"      Matches any character except a newline.\n",
      "        \"^\"      Matches the start of the string.\n",
      "        \"$\"      Matches the end of the string or just before the newline at\n",
      "                 the end of the string.\n",
      "        \"*\"      Matches 0 or more (greedy) repetitions of the preceding RE.\n",
      "                 Greedy means that it will match as many repetitions as possible.\n",
      "        \"+\"      Matches 1 or more (greedy) repetitions of the preceding RE.\n",
      "        \"?\"      Matches 0 or 1 (greedy) of the preceding RE.\n",
      "        *?,+?,?? Non-greedy versions of the previous three special characters.\n",
      "        {m,n}    Matches from m to n repetitions of the preceding RE.\n",
      "        {m,n}?   Non-greedy version of the above.\n",
      "        \"\\\\\"     Either escapes special characters or signals a special sequence.\n",
      "        []       Indicates a set of characters.\n",
      "                 A \"^\" as the first character indicates a complementing set.\n",
      "        \"|\"      A|B, creates an RE that will match either A or B.\n",
      "        (...)    Matches the RE inside the parentheses.\n",
      "                 The contents can be retrieved or matched later in the string.\n",
      "        (?aiLmsux) The letters set the corresponding flags defined below.\n",
      "        (?:...)  Non-grouping version of regular parentheses.\n",
      "        (?P<name>...) The substring matched by the group is accessible by name.\n",
      "        (?P=name)     Matches the text matched earlier by the group named name.\n",
      "        (?#...)  A comment; ignored.\n",
      "        (?=...)  Matches if ... matches next, but doesn't consume the string.\n",
      "        (?!...)  Matches if ... doesn't match next.\n",
      "        (?<=...) Matches if preceded by ... (must be fixed length).\n",
      "        (?<!...) Matches if not preceded by ... (must be fixed length).\n",
      "        (?(id/name)yes|no) Matches yes pattern if the group with id/name matched,\n",
      "                           the (optional) no pattern otherwise.\n",
      "\n",
      "    The special sequences consist of \"\\\\\" and a character from the list\n",
      "    below.  If the ordinary character is not on the list, then the\n",
      "    resulting RE will match the second character.\n",
      "        \\number  Matches the contents of the group of the same number.\n",
      "        \\A       Matches only at the start of the string.\n",
      "        \\Z       Matches only at the end of the string.\n",
      "        \\b       Matches the empty string, but only at the start or end of a word.\n",
      "        \\B       Matches the empty string, but not at the start or end of a word.\n",
      "        \\d       Matches any decimal digit; equivalent to the set [0-9] in\n",
      "                 bytes patterns or string patterns with the ASCII flag.\n",
      "                 In string patterns without the ASCII flag, it will match the whole\n",
      "                 range of Unicode digits.\n",
      "        \\D       Matches any non-digit character; equivalent to [^\\d].\n",
      "        \\s       Matches any whitespace character; equivalent to [ \\t\\n\\r\\f\\v] in\n",
      "                 bytes patterns or string patterns with the ASCII flag.\n",
      "                 In string patterns without the ASCII flag, it will match the whole\n",
      "                 range of Unicode whitespace characters.\n",
      "        \\S       Matches any non-whitespace character; equivalent to [^\\s].\n",
      "        \\w       Matches any alphanumeric character; equivalent to [a-zA-Z0-9_]\n",
      "                 in bytes patterns or string patterns with the ASCII flag.\n",
      "                 In string patterns without the ASCII flag, it will match the\n",
      "                 range of Unicode alphanumeric characters (letters plus digits\n",
      "                 plus underscore).\n",
      "                 With LOCALE, it will match the set [0-9_] plus characters defined\n",
      "                 as letters for the current locale.\n",
      "        \\W       Matches the complement of \\w.\n",
      "        \\\\       Matches a literal backslash.\n",
      "\n",
      "    This module exports the following functions:\n",
      "        match     Match a regular expression pattern to the beginning of a string.\n",
      "        fullmatch Match a regular expression pattern to all of a string.\n",
      "        search    Search a string for the presence of a pattern.\n",
      "        sub       Substitute occurrences of a pattern found in a string.\n",
      "        subn      Same as sub, but also return the number of substitutions made.\n",
      "        split     Split a string by the occurrences of a pattern.\n",
      "        findall   Find all occurrences of a pattern in a string.\n",
      "        finditer  Return an iterator yielding a Match object for each match.\n",
      "        compile   Compile a pattern into a Pattern object.\n",
      "        purge     Clear the regular expression cache.\n",
      "        escape    Backslash all non-alphanumerics in a string.\n",
      "\n",
      "    Each function other than purge and escape can take an optional 'flags' argument\n",
      "    consisting of one or more of the following module constants, joined by \"|\".\n",
      "    A, L, and U are mutually exclusive.\n",
      "        A  ASCII       For string patterns, make \\w, \\W, \\b, \\B, \\d, \\D\n",
      "                       match the corresponding ASCII character categories\n",
      "                       (rather than the whole Unicode categories, which is the\n",
      "                       default).\n",
      "                       For bytes patterns, this flag is the only available\n",
      "                       behaviour and needn't be specified.\n",
      "        I  IGNORECASE  Perform case-insensitive matching.\n",
      "        L  LOCALE      Make \\w, \\W, \\b, \\B, dependent on the current locale.\n",
      "        M  MULTILINE   \"^\" matches the beginning of lines (after a newline)\n",
      "                       as well as the string.\n",
      "                       \"$\" matches the end of lines (before a newline) as well\n",
      "                       as the end of the string.\n",
      "        S  DOTALL      \".\" matches any character at all, including the newline.\n",
      "        X  VERBOSE     Ignore whitespace and comments for nicer looking RE's.\n",
      "        U  UNICODE     For compatibility only. Ignored for string patterns (it\n",
      "                       is the default), and forbidden for bytes patterns.\n",
      "\n",
      "    This module also defines an exception 'error'.\n",
      "\n",
      "PACKAGE CONTENTS\n",
      "    _casefix\n",
      "    _compiler\n",
      "    _constants\n",
      "    _parser\n",
      "\n",
      "CLASSES\n",
      "    builtins.Exception(builtins.BaseException)\n",
      "        error\n",
      "    builtins.object\n",
      "        Match\n",
      "        Pattern\n",
      "    enum.IntFlag(builtins.int, enum.ReprEnum, enum.Flag)\n",
      "        RegexFlag\n",
      "\n",
      "    class Match(builtins.object)\n",
      "     |  The result of re.match() and re.search().\n",
      "     |  Match objects always have a boolean value of True.\n",
      "     |\n",
      "     |  Methods defined here:\n",
      "     |\n",
      "     |  __copy__(self, /)\n",
      "     |\n",
      "     |  __deepcopy__(self, memo, /)\n",
      "     |\n",
      "     |  __getitem__(self, key, /)\n",
      "     |      Return self[key].\n",
      "     |\n",
      "     |  __repr__(self, /)\n",
      "     |      Return repr(self).\n",
      "     |\n",
      "     |  end(self, group=0, /)\n",
      "     |      Return index of the end of the substring matched by group.\n",
      "     |\n",
      "     |  expand(self, /, template)\n",
      "     |      Return the string obtained by doing backslash substitution on the string template, as done by the sub() method.\n",
      "     |\n",
      "     |  group(...)\n",
      "     |      group([group1, ...]) -> str or tuple.\n",
      "     |      Return subgroup(s) of the match by indices or names.\n",
      "     |      For 0 returns the entire match.\n",
      "     |\n",
      "     |  groupdict(self, /, default=None)\n",
      "     |      Return a dictionary containing all the named subgroups of the match, keyed by the subgroup name.\n",
      "     |\n",
      "     |      default\n",
      "     |        Is used for groups that did not participate in the match.\n",
      "     |\n",
      "     |  groups(self, /, default=None)\n",
      "     |      Return a tuple containing all the subgroups of the match, from 1.\n",
      "     |\n",
      "     |      default\n",
      "     |        Is used for groups that did not participate in the match.\n",
      "     |\n",
      "     |  span(self, group=0, /)\n",
      "     |      For match object m, return the 2-tuple (m.start(group), m.end(group)).\n",
      "     |\n",
      "     |  start(self, group=0, /)\n",
      "     |      Return index of the start of the substring matched by group.\n",
      "     |\n",
      "     |  ----------------------------------------------------------------------\n",
      "     |  Class methods defined here:\n",
      "     |\n",
      "     |  __class_getitem__(...)\n",
      "     |      See PEP 585\n",
      "     |\n",
      "     |  ----------------------------------------------------------------------\n",
      "     |  Data descriptors defined here:\n",
      "     |\n",
      "     |  endpos\n",
      "     |      The index into the string beyond which the RE engine will not go.\n",
      "     |\n",
      "     |  lastgroup\n",
      "     |      The name of the last matched capturing group.\n",
      "     |\n",
      "     |  lastindex\n",
      "     |      The integer index of the last matched capturing group.\n",
      "     |\n",
      "     |  pos\n",
      "     |      The index into the string at which the RE engine started looking for a match.\n",
      "     |\n",
      "     |  re\n",
      "     |      The regular expression object.\n",
      "     |\n",
      "     |  regs\n",
      "     |\n",
      "     |  string\n",
      "     |      The string passed to match() or search().\n",
      "\n",
      "    class Pattern(builtins.object)\n",
      "     |  Compiled regular expression object.\n",
      "     |\n",
      "     |  Methods defined here:\n",
      "     |\n",
      "     |  __copy__(self, /)\n",
      "     |\n",
      "     |  __deepcopy__(self, memo, /)\n",
      "     |\n",
      "     |  __eq__(self, value, /)\n",
      "     |      Return self==value.\n",
      "     |\n",
      "     |  __ge__(self, value, /)\n",
      "     |      Return self>=value.\n",
      "     |\n",
      "     |  __gt__(self, value, /)\n",
      "     |      Return self>value.\n",
      "     |\n",
      "     |  __hash__(self, /)\n",
      "     |      Return hash(self).\n",
      "     |\n",
      "     |  __le__(self, value, /)\n",
      "     |      Return self<=value.\n",
      "     |\n",
      "     |  __lt__(self, value, /)\n",
      "     |      Return self<value.\n",
      "     |\n",
      "     |  __ne__(self, value, /)\n",
      "     |      Return self!=value.\n",
      "     |\n",
      "     |  __repr__(self, /)\n",
      "     |      Return repr(self).\n",
      "     |\n",
      "     |  findall(self, /, string, pos=0, endpos=9223372036854775807)\n",
      "     |      Return a list of all non-overlapping matches of pattern in string.\n",
      "     |\n",
      "     |  finditer(self, /, string, pos=0, endpos=9223372036854775807)\n",
      "     |      Return an iterator over all non-overlapping matches for the RE pattern in string.\n",
      "     |\n",
      "     |      For each match, the iterator returns a match object.\n",
      "     |\n",
      "     |  fullmatch(self, /, string, pos=0, endpos=9223372036854775807)\n",
      "     |      Matches against all of the string.\n",
      "     |\n",
      "     |  match(self, /, string, pos=0, endpos=9223372036854775807)\n",
      "     |      Matches zero or more characters at the beginning of the string.\n",
      "     |\n",
      "     |  scanner(self, /, string, pos=0, endpos=9223372036854775807)\n",
      "     |\n",
      "     |  search(self, /, string, pos=0, endpos=9223372036854775807)\n",
      "     |      Scan through string looking for a match, and return a corresponding match object instance.\n",
      "     |\n",
      "     |      Return None if no position in the string matches.\n",
      "     |\n",
      "     |  split(self, /, string, maxsplit=0)\n",
      "     |      Split string by the occurrences of pattern.\n",
      "     |\n",
      "     |  sub(self, /, repl, string, count=0)\n",
      "     |      Return the string obtained by replacing the leftmost non-overlapping occurrences of pattern in string by the replacement repl.\n",
      "     |\n",
      "     |  subn(self, /, repl, string, count=0)\n",
      "     |      Return the tuple (new_string, number_of_subs_made) found by replacing the leftmost non-overlapping occurrences of pattern with the replacement repl.\n",
      "     |\n",
      "     |  ----------------------------------------------------------------------\n",
      "     |  Class methods defined here:\n",
      "     |\n",
      "     |  __class_getitem__(...)\n",
      "     |      See PEP 585\n",
      "     |\n",
      "     |  ----------------------------------------------------------------------\n",
      "     |  Data descriptors defined here:\n",
      "     |\n",
      "     |  flags\n",
      "     |      The regex matching flags.\n",
      "     |\n",
      "     |  groupindex\n",
      "     |      A dictionary mapping group names to group numbers.\n",
      "     |\n",
      "     |  groups\n",
      "     |      The number of capturing groups in the pattern.\n",
      "     |\n",
      "     |  pattern\n",
      "     |      The pattern string from which the RE object was compiled.\n",
      "\n",
      "    class RegexFlag(enum.IntFlag)\n",
      "     |  RegexFlag(*values)\n",
      "     |\n",
      "     |  An enumeration.\n",
      "     |\n",
      "     |  Method resolution order:\n",
      "     |      RegexFlag\n",
      "     |      enum.IntFlag\n",
      "     |      builtins.int\n",
      "     |      enum.ReprEnum\n",
      "     |      enum.Flag\n",
      "     |      enum.Enum\n",
      "     |      builtins.object\n",
      "     |\n",
      "     |  Methods defined here:\n",
      "     |\n",
      "     |  __and__(self, other) from enum.Flag\n",
      "     |\n",
      "     |  __format__(self, format_spec, /) from builtins.int\n",
      "     |      Convert to a string according to format_spec.\n",
      "     |\n",
      "     |  __invert__(self) from enum.Flag\n",
      "     |\n",
      "     |  __new__(cls, value) from enum.Enum\n",
      "     |      Create and return a new object.  See help(type) for accurate signature.\n",
      "     |\n",
      "     |  __or__(self, other) from enum.Flag\n",
      "     |      Return self|value.\n",
      "     |\n",
      "     |  __rand__ = __and__(self, other)\n",
      "     |\n",
      "     |  __repr__ = global_flag_repr(self) from enum\n",
      "     |      use module.flag_name instead of class.flag_name\n",
      "     |\n",
      "     |      the module is the last module in case of a multi-module name\n",
      "     |\n",
      "     |  __ror__ = __or__(self, other)\n",
      "     |\n",
      "     |  __rxor__ = __xor__(self, other)\n",
      "     |\n",
      "     |  __str__(self, /) from builtins.object\n",
      "     |      Return str(self).\n",
      "     |\n",
      "     |  __xor__(self, other) from enum.Flag\n",
      "     |\n",
      "     |  ----------------------------------------------------------------------\n",
      "     |  Data and other attributes defined here:\n",
      "     |\n",
      "     |  ASCII = re.ASCII\n",
      "     |\n",
      "     |  DEBUG = re.DEBUG\n",
      "     |\n",
      "     |  DOTALL = re.DOTALL\n",
      "     |\n",
      "     |  IGNORECASE = re.IGNORECASE\n",
      "     |\n",
      "     |  LOCALE = re.LOCALE\n",
      "     |\n",
      "     |  MULTILINE = re.MULTILINE\n",
      "     |\n",
      "     |  TEMPLATE = re.TEMPLATE\n",
      "     |\n",
      "     |  UNICODE = re.UNICODE\n",
      "     |\n",
      "     |  VERBOSE = re.VERBOSE\n",
      "     |\n",
      "     |  ----------------------------------------------------------------------\n",
      "     |  Methods inherited from builtins.int:\n",
      "     |\n",
      "     |  __abs__(self, /)\n",
      "     |      abs(self)\n",
      "     |\n",
      "     |  __add__(self, value, /)\n",
      "     |      Return self+value.\n",
      "     |\n",
      "     |  __bool__(self, /)\n",
      "     |      True if self else False\n",
      "     |\n",
      "     |  __ceil__(...)\n",
      "     |      Ceiling of an Integral returns itself.\n",
      "     |\n",
      "     |  __divmod__(self, value, /)\n",
      "     |      Return divmod(self, value).\n",
      "     |\n",
      "     |  __eq__(self, value, /)\n",
      "     |      Return self==value.\n",
      "     |\n",
      "     |  __float__(self, /)\n",
      "     |      float(self)\n",
      "     |\n",
      "     |  __floor__(...)\n",
      "     |      Flooring an Integral returns itself.\n",
      "     |\n",
      "     |  __floordiv__(self, value, /)\n",
      "     |      Return self//value.\n",
      "     |\n",
      "     |  __ge__(self, value, /)\n",
      "     |      Return self>=value.\n",
      "     |\n",
      "     |  __getattribute__(self, name, /)\n",
      "     |      Return getattr(self, name).\n",
      "     |\n",
      "     |  __getnewargs__(self, /)\n",
      "     |\n",
      "     |  __gt__(self, value, /)\n",
      "     |      Return self>value.\n",
      "     |\n",
      "     |  __hash__(self, /)\n",
      "     |      Return hash(self).\n",
      "     |\n",
      "     |  __index__(self, /)\n",
      "     |      Return self converted to an integer, if self is suitable for use as an index into a list.\n",
      "     |\n",
      "     |  __int__(self, /)\n",
      "     |      int(self)\n",
      "     |\n",
      "     |  __le__(self, value, /)\n",
      "     |      Return self<=value.\n",
      "     |\n",
      "     |  __lshift__(self, value, /)\n",
      "     |      Return self<<value.\n",
      "     |\n",
      "     |  __lt__(self, value, /)\n",
      "     |      Return self<value.\n",
      "     |\n",
      "     |  __mod__(self, value, /)\n",
      "     |      Return self%value.\n",
      "     |\n",
      "     |  __mul__(self, value, /)\n",
      "     |      Return self*value.\n",
      "     |\n",
      "     |  __ne__(self, value, /)\n",
      "     |      Return self!=value.\n",
      "     |\n",
      "     |  __neg__(self, /)\n",
      "     |      -self\n",
      "     |\n",
      "     |  __pos__(self, /)\n",
      "     |      +self\n",
      "     |\n",
      "     |  __pow__(self, value, mod=None, /)\n",
      "     |      Return pow(self, value, mod).\n",
      "     |\n",
      "     |  __radd__(self, value, /)\n",
      "     |      Return value+self.\n",
      "     |\n",
      "     |  __rdivmod__(self, value, /)\n",
      "     |      Return divmod(value, self).\n",
      "     |\n",
      "     |  __rfloordiv__(self, value, /)\n",
      "     |      Return value//self.\n",
      "     |\n",
      "     |  __rlshift__(self, value, /)\n",
      "     |      Return value<<self.\n",
      "     |\n",
      "     |  __rmod__(self, value, /)\n",
      "     |      Return value%self.\n",
      "     |\n",
      "     |  __rmul__(self, value, /)\n",
      "     |      Return value*self.\n",
      "     |\n",
      "     |  __round__(...)\n",
      "     |      Rounding an Integral returns itself.\n",
      "     |\n",
      "     |      Rounding with an ndigits argument also returns an integer.\n",
      "     |\n",
      "     |  __rpow__(self, value, mod=None, /)\n",
      "     |      Return pow(value, self, mod).\n",
      "     |\n",
      "     |  __rrshift__(self, value, /)\n",
      "     |      Return value>>self.\n",
      "     |\n",
      "     |  __rshift__(self, value, /)\n",
      "     |      Return self>>value.\n",
      "     |\n",
      "     |  __rsub__(self, value, /)\n",
      "     |      Return value-self.\n",
      "     |\n",
      "     |  __rtruediv__(self, value, /)\n",
      "     |      Return value/self.\n",
      "     |\n",
      "     |  __sizeof__(self, /)\n",
      "     |      Returns size in memory, in bytes.\n",
      "     |\n",
      "     |  __sub__(self, value, /)\n",
      "     |      Return self-value.\n",
      "     |\n",
      "     |  __truediv__(self, value, /)\n",
      "     |      Return self/value.\n",
      "     |\n",
      "     |  __trunc__(...)\n",
      "     |      Truncating an Integral returns itself.\n",
      "     |\n",
      "     |  as_integer_ratio(self, /)\n",
      "     |      Return a pair of integers, whose ratio is equal to the original int.\n",
      "     |\n",
      "     |      The ratio is in lowest terms and has a positive denominator.\n",
      "     |\n",
      "     |      >>> (10).as_integer_ratio()\n",
      "     |      (10, 1)\n",
      "     |      >>> (-10).as_integer_ratio()\n",
      "     |      (-10, 1)\n",
      "     |      >>> (0).as_integer_ratio()\n",
      "     |      (0, 1)\n",
      "     |\n",
      "     |  bit_count(self, /)\n",
      "     |      Number of ones in the binary representation of the absolute value of self.\n",
      "     |\n",
      "     |      Also known as the population count.\n",
      "     |\n",
      "     |      >>> bin(13)\n",
      "     |      '0b1101'\n",
      "     |      >>> (13).bit_count()\n",
      "     |      3\n",
      "     |\n",
      "     |  bit_length(self, /)\n",
      "     |      Number of bits necessary to represent self in binary.\n",
      "     |\n",
      "     |      >>> bin(37)\n",
      "     |      '0b100101'\n",
      "     |      >>> (37).bit_length()\n",
      "     |      6\n",
      "     |\n",
      "     |  conjugate(...)\n",
      "     |      Returns self, the complex conjugate of any int.\n",
      "     |\n",
      "     |  is_integer(self, /)\n",
      "     |      Returns True. Exists for duck type compatibility with float.is_integer.\n",
      "     |\n",
      "     |  to_bytes(self, /, length=1, byteorder='big', *, signed=False)\n",
      "     |      Return an array of bytes representing an integer.\n",
      "     |\n",
      "     |      length\n",
      "     |        Length of bytes object to use.  An OverflowError is raised if the\n",
      "     |        integer is not representable with the given number of bytes.  Default\n",
      "     |        is length 1.\n",
      "     |      byteorder\n",
      "     |        The byte order used to represent the integer.  If byteorder is 'big',\n",
      "     |        the most significant byte is at the beginning of the byte array.  If\n",
      "     |        byteorder is 'little', the most significant byte is at the end of the\n",
      "     |        byte array.  To request the native byte order of the host system, use\n",
      "     |        `sys.byteorder' as the byte order value.  Default is to use 'big'.\n",
      "     |      signed\n",
      "     |        Determines whether two's complement is used to represent the integer.\n",
      "     |        If signed is False and a negative integer is given, an OverflowError\n",
      "     |        is raised.\n",
      "     |\n",
      "     |  ----------------------------------------------------------------------\n",
      "     |  Class methods inherited from builtins.int:\n",
      "     |\n",
      "     |  from_bytes(bytes, byteorder='big', *, signed=False)\n",
      "     |      Return the integer represented by the given array of bytes.\n",
      "     |\n",
      "     |      bytes\n",
      "     |        Holds the array of bytes to convert.  The argument must either\n",
      "     |        support the buffer protocol or be an iterable object producing bytes.\n",
      "     |        Bytes and bytearray are examples of built-in objects that support the\n",
      "     |        buffer protocol.\n",
      "     |      byteorder\n",
      "     |        The byte order used to represent the integer.  If byteorder is 'big',\n",
      "     |        the most significant byte is at the beginning of the byte array.  If\n",
      "     |        byteorder is 'little', the most significant byte is at the end of the\n",
      "     |        byte array.  To request the native byte order of the host system, use\n",
      "     |        `sys.byteorder' as the byte order value.  Default is to use 'big'.\n",
      "     |      signed\n",
      "     |        Indicates whether two's complement is used to represent the integer.\n",
      "     |\n",
      "     |  ----------------------------------------------------------------------\n",
      "     |  Data descriptors inherited from builtins.int:\n",
      "     |\n",
      "     |  denominator\n",
      "     |      the denominator of a rational number in lowest terms\n",
      "     |\n",
      "     |  imag\n",
      "     |      the imaginary part of a complex number\n",
      "     |\n",
      "     |  numerator\n",
      "     |      the numerator of a rational number in lowest terms\n",
      "     |\n",
      "     |  real\n",
      "     |      the real part of a complex number\n",
      "     |\n",
      "     |  ----------------------------------------------------------------------\n",
      "     |  Methods inherited from enum.Flag:\n",
      "     |\n",
      "     |  __contains__(self, other)\n",
      "     |      Returns True if self has at least the same flags set as other.\n",
      "     |\n",
      "     |  __iter__(self)\n",
      "     |      Returns flags in definition order.\n",
      "     |\n",
      "     |  __len__(self)\n",
      "     |      Return the number of members (no aliases)\n",
      "     |\n",
      "     |  ----------------------------------------------------------------------\n",
      "     |  Methods inherited from enum.Enum:\n",
      "     |\n",
      "     |  __dir__(self)\n",
      "     |      Returns public methods and other interesting attributes.\n",
      "     |\n",
      "     |  __init__(self, *args, **kwds)\n",
      "     |      Initialize self.  See help(type(self)) for accurate signature.\n",
      "     |\n",
      "     |  __reduce_ex__(self, proto)\n",
      "     |      Helper for pickle.\n",
      "     |\n",
      "     |  ----------------------------------------------------------------------\n",
      "     |  Data descriptors inherited from enum.Enum:\n",
      "     |\n",
      "     |  name\n",
      "     |      The name of the Enum member.\n",
      "     |\n",
      "     |  value\n",
      "     |      The value of the Enum member.\n",
      "     |\n",
      "     |  ----------------------------------------------------------------------\n",
      "     |  Static methods inherited from enum.EnumType:\n",
      "     |\n",
      "     |  __getitem__(name)\n",
      "     |      Return the member matching `name`.\n",
      "     |\n",
      "     |  ----------------------------------------------------------------------\n",
      "     |  Readonly properties inherited from enum.EnumType:\n",
      "     |\n",
      "     |  __members__\n",
      "     |      Returns a mapping of member name->value.\n",
      "     |\n",
      "     |      This mapping lists all enum members, including aliases. Note that this\n",
      "     |      is a read-only view of the internal mapping.\n",
      "\n",
      "    class error(builtins.Exception)\n",
      "     |  error(msg, pattern=None, pos=None)\n",
      "     |\n",
      "     |  Exception raised for invalid regular expressions.\n",
      "     |\n",
      "     |  Attributes:\n",
      "     |\n",
      "     |      msg: The unformatted error message\n",
      "     |      pattern: The regular expression pattern\n",
      "     |      pos: The index in the pattern where compilation failed (may be None)\n",
      "     |      lineno: The line corresponding to pos (may be None)\n",
      "     |      colno: The column corresponding to pos (may be None)\n",
      "     |\n",
      "     |  Method resolution order:\n",
      "     |      error\n",
      "     |      builtins.Exception\n",
      "     |      builtins.BaseException\n",
      "     |      builtins.object\n",
      "     |\n",
      "     |  Methods defined here:\n",
      "     |\n",
      "     |  __init__(self, msg, pattern=None, pos=None) from re._constants.error\n",
      "     |      Initialize self.  See help(type(self)) for accurate signature.\n",
      "     |\n",
      "     |  ----------------------------------------------------------------------\n",
      "     |  Data descriptors defined here:\n",
      "     |\n",
      "     |  __weakref__\n",
      "     |      list of weak references to the object\n",
      "     |\n",
      "     |  ----------------------------------------------------------------------\n",
      "     |  Static methods inherited from builtins.Exception:\n",
      "     |\n",
      "     |  __new__(*args, **kwargs) class method of builtins.Exception\n",
      "     |      Create and return a new object.  See help(type) for accurate signature.\n",
      "     |\n",
      "     |  ----------------------------------------------------------------------\n",
      "     |  Methods inherited from builtins.BaseException:\n",
      "     |\n",
      "     |  __getattribute__(self, name, /)\n",
      "     |      Return getattr(self, name).\n",
      "     |\n",
      "     |  __reduce__(...)\n",
      "     |      Helper for pickle.\n",
      "     |\n",
      "     |  __repr__(self, /)\n",
      "     |      Return repr(self).\n",
      "     |\n",
      "     |  __setstate__(...)\n",
      "     |\n",
      "     |  __str__(self, /)\n",
      "     |      Return str(self).\n",
      "     |\n",
      "     |  add_note(...)\n",
      "     |      Exception.add_note(note) --\n",
      "     |      add a note to the exception\n",
      "     |\n",
      "     |  with_traceback(...)\n",
      "     |      Exception.with_traceback(tb) --\n",
      "     |      set self.__traceback__ to tb and return self.\n",
      "     |\n",
      "     |  ----------------------------------------------------------------------\n",
      "     |  Data descriptors inherited from builtins.BaseException:\n",
      "     |\n",
      "     |  __cause__\n",
      "     |      exception cause\n",
      "     |\n",
      "     |  __context__\n",
      "     |      exception context\n",
      "     |\n",
      "     |  __dict__\n",
      "     |\n",
      "     |  __suppress_context__\n",
      "     |\n",
      "     |  __traceback__\n",
      "     |\n",
      "     |  args\n",
      "\n",
      "FUNCTIONS\n",
      "    compile(pattern, flags=0)\n",
      "        Compile a regular expression pattern, returning a Pattern object.\n",
      "\n",
      "    escape(pattern)\n",
      "        Escape special characters in a string.\n",
      "\n",
      "    findall(pattern, string, flags=0)\n",
      "        Return a list of all non-overlapping matches in the string.\n",
      "\n",
      "        If one or more capturing groups are present in the pattern, return\n",
      "        a list of groups; this will be a list of tuples if the pattern\n",
      "        has more than one group.\n",
      "\n",
      "        Empty matches are included in the result.\n",
      "\n",
      "    finditer(pattern, string, flags=0)\n",
      "        Return an iterator over all non-overlapping matches in the\n",
      "        string.  For each match, the iterator returns a Match object.\n",
      "\n",
      "        Empty matches are included in the result.\n",
      "\n",
      "    fullmatch(pattern, string, flags=0)\n",
      "        Try to apply the pattern to all of the string, returning\n",
      "        a Match object, or None if no match was found.\n",
      "\n",
      "    match(pattern, string, flags=0)\n",
      "        Try to apply the pattern at the start of the string, returning\n",
      "        a Match object, or None if no match was found.\n",
      "\n",
      "    purge()\n",
      "        Clear the regular expression caches\n",
      "\n",
      "    search(pattern, string, flags=0)\n",
      "        Scan through string looking for a match to the pattern, returning\n",
      "        a Match object, or None if no match was found.\n",
      "\n",
      "    split(pattern, string, maxsplit=0, flags=0)\n",
      "        Split the source string by the occurrences of the pattern,\n",
      "        returning a list containing the resulting substrings.  If\n",
      "        capturing parentheses are used in pattern, then the text of all\n",
      "        groups in the pattern are also returned as part of the resulting\n",
      "        list.  If maxsplit is nonzero, at most maxsplit splits occur,\n",
      "        and the remainder of the string is returned as the final element\n",
      "        of the list.\n",
      "\n",
      "    sub(pattern, repl, string, count=0, flags=0)\n",
      "        Return the string obtained by replacing the leftmost\n",
      "        non-overlapping occurrences of the pattern in string by the\n",
      "        replacement repl.  repl can be either a string or a callable;\n",
      "        if a string, backslash escapes in it are processed.  If it is\n",
      "        a callable, it's passed the Match object and must return\n",
      "        a replacement string to be used.\n",
      "\n",
      "    subn(pattern, repl, string, count=0, flags=0)\n",
      "        Return a 2-tuple containing (new_string, number).\n",
      "        new_string is the string obtained by replacing the leftmost\n",
      "        non-overlapping occurrences of the pattern in the source\n",
      "        string by the replacement repl.  number is the number of\n",
      "        substitutions that were made. repl can be either a string or a\n",
      "        callable; if a string, backslash escapes in it are processed.\n",
      "        If it is a callable, it's passed the Match object and must\n",
      "        return a replacement string to be used.\n",
      "\n",
      "    template(pattern, flags=0)\n",
      "        Compile a template pattern, returning a Pattern object, deprecated\n",
      "\n",
      "DATA\n",
      "    A = re.ASCII\n",
      "    ASCII = re.ASCII\n",
      "    DOTALL = re.DOTALL\n",
      "    I = re.IGNORECASE\n",
      "    IGNORECASE = re.IGNORECASE\n",
      "    L = re.LOCALE\n",
      "    LOCALE = re.LOCALE\n",
      "    M = re.MULTILINE\n",
      "    MULTILINE = re.MULTILINE\n",
      "    NOFLAG = re.NOFLAG\n",
      "    S = re.DOTALL\n",
      "    U = re.UNICODE\n",
      "    UNICODE = re.UNICODE\n",
      "    VERBOSE = re.VERBOSE\n",
      "    X = re.VERBOSE\n",
      "    __all__ = ['match', 'fullmatch', 'search', 'sub', 'subn', 'split', 'fi...\n",
      "\n",
      "VERSION\n",
      "    2.2.1\n",
      "\n",
      "FILE\n",
      "    c:\\users\\joelv\\anaconda3\\lib\\re\\__init__.py\n",
      "\n",
      "\n"
     ]
    }
   ],
   "source": [
    "# YOUR CODE:\n",
    "\n",
    "help(re)"
   ]
  },
  {
   "cell_type": "markdown",
   "metadata": {},
   "source": [
    "For more complete information, look up the official python documentation by googling, e.g., \"python re\". Near the top of the results you'll find a link to the manual page on http://docs.python.org. (At the top of the manual page there's a box you can use to switch to your version of python.)"
   ]
  },
  {
   "cell_type": "markdown",
   "metadata": {},
   "source": [
    "### 1.3 Custom help text"
   ]
  },
  {
   "cell_type": "markdown",
   "metadata": {},
   "source": [
    "Our own functions can have help text! If the very first thing in\n",
    "a function is a string, it will become the help text (the so-called\n",
    "\"docstring\")."
   ]
  },
  {
   "cell_type": "code",
   "execution_count": 11,
   "metadata": {},
   "outputs": [
    {
     "name": "stdout",
     "output_type": "stream",
     "text": [
      "Help on function cheer in module __main__:\n",
      "\n",
      "cheer(times=3)\n",
      "    Cheer wildly.\n",
      "    For wilder cheering, specify a larger number.\n",
      "\n"
     ]
    }
   ],
   "source": [
    "def cheer(times=3):\n",
    "    \"\"\"\n",
    "    Cheer wildly.\n",
    "    For wilder cheering, specify a larger number.\n",
    "    \"\"\"\n",
    "    for n in range(times):\n",
    "        print(\"hieperdepiep hoeraaaaa!\")\n",
    "\n",
    "help(cheer)"
   ]
  },
  {
   "cell_type": "markdown",
   "metadata": {},
   "source": [
    "From now on, you should include a docstring when defining your own\n",
    "functions. Note that **a comment is not a docstring!** Comments are\n",
    "invisible to `help()`."
   ]
  },
  {
   "cell_type": "markdown",
   "metadata": {},
   "source": [
    "### Your turn:\n",
    "\n",
    "Define a function `lazy()` that takes no arguments and does nothing.\n",
    "It should have a docstring that says \"This function does nothing\".\n",
    "After defining it, use `help()` to view its help string."
   ]
  },
  {
   "cell_type": "code",
   "execution_count": 12,
   "metadata": {},
   "outputs": [
    {
     "name": "stdout",
     "output_type": "stream",
     "text": [
      "Help on function lazy in module __main__:\n",
      "\n",
      "lazy()\n",
      "    This function does nothing\n",
      "\n"
     ]
    }
   ],
   "source": [
    "# YOUR CODE:\n",
    "\n",
    "def lazy():\n",
    "    \"\"\"\n",
    "    This function does nothing\n",
    "    \"\"\"\n",
    "\n",
    "help(lazy)"
   ]
  },
  {
   "cell_type": "markdown",
   "metadata": {},
   "source": [
    "## 2. More about strings"
   ]
  },
  {
   "cell_type": "markdown",
   "metadata": {},
   "source": [
    "Strings can contain special \"escape sequences\", which represent\n",
    "characters that are hard to see or type.\n",
    "They all start with a backslash: `\\n` is a newline, for example."
   ]
  },
  {
   "cell_type": "code",
   "execution_count": 13,
   "metadata": {},
   "outputs": [
    {
     "name": "stdout",
     "output_type": "stream",
     "text": [
      "First line...\n",
      "Second line\n"
     ]
    }
   ],
   "source": [
    "twolines = \"First line...\\nSecond line\"\n",
    "print(twolines)"
   ]
  },
  {
   "cell_type": "markdown",
   "metadata": {},
   "source": [
    "An escape sequence is a notational device: The resulting string\n",
    "contains a real newline, not the two characters \"`\\`\" and \"`n`\". We\n",
    "can confirm this by checking the length of a simple string."
   ]
  },
  {
   "cell_type": "code",
   "execution_count": 14,
   "metadata": {},
   "outputs": [
    {
     "name": "stdout",
     "output_type": "stream",
     "text": [
      "1\n"
     ]
    }
   ],
   "source": [
    "print(len(\"\\n\"))"
   ]
  },
  {
   "cell_type": "markdown",
   "metadata": {},
   "source": [
    "When we _don't_ want the special meanings, prefix the string\n",
    "definition with an _r_\n",
    "(for \"raw string\"). In raw strings, the backslash does not have a\n",
    "special meaning-- it is just a character."
   ]
  },
  {
   "cell_type": "code",
   "execution_count": 15,
   "metadata": {},
   "outputs": [
    {
     "name": "stdout",
     "output_type": "stream",
     "text": [
      "This is all \\n one \\n line\n"
     ]
    }
   ],
   "source": [
    "oneline = r\"This is all \\n one \\n line\"\n",
    "print(oneline)"
   ]
  },
  {
   "cell_type": "markdown",
   "metadata": {},
   "source": [
    "### 2.1 The `repr()` function"
   ]
  },
  {
   "cell_type": "markdown",
   "metadata": {},
   "source": [
    "Who knew a literal string could be so complicated? To see what's\n",
    "really going on, it's often helpful to ask python for a clear picture\n",
    "of what our strings contain. One way to get this is with the function\n",
    "`repr()` which shows us the \"representation\" of a string (or other\n",
    "objects) in an unambiguous way."
   ]
  },
  {
   "cell_type": "code",
   "execution_count": 16,
   "metadata": {},
   "outputs": [
    {
     "name": "stdout",
     "output_type": "stream",
     "text": [
      "'First line...\\nSecond line'\n"
     ]
    }
   ],
   "source": [
    "print(repr(twolines))"
   ]
  },
  {
   "cell_type": "markdown",
   "metadata": {},
   "source": [
    "`repr` has surrounded our string with single quotes (the better to see\n",
    "spaces at the beginning or end), and shows the newline as `\\n`. Let's\n",
    "do the same with a string that contains actual backslashes:"
   ]
  },
  {
   "cell_type": "code",
   "execution_count": 17,
   "metadata": {},
   "outputs": [
    {
     "name": "stdout",
     "output_type": "stream",
     "text": [
      "'a backslash \\\\ here'\n"
     ]
    }
   ],
   "source": [
    "print(repr(r\"a backslash \\ here\"))"
   ]
  },
  {
   "cell_type": "markdown",
   "metadata": {},
   "source": [
    "One way to prevent a backslash from having a special meaning is to add\n",
    "another backslash before it. This is what `repr` did here."
   ]
  },
  {
   "cell_type": "markdown",
   "metadata": {},
   "source": [
    "### Your turn:\n",
    "\n",
    "Construct a raw string named `ab` containing the text `A\\nB`. Answer the following questions, then write code to show the answers.\n",
    "\n",
    "1. What is the length of `ab`?\n",
    "2. What will `print(ab[2])` print?"
   ]
  },
  {
   "cell_type": "raw",
   "metadata": {},
   "source": [
    "Answers:\n",
    "\n",
    "1. \n",
    "\n",
    "2."
   ]
  },
  {
   "cell_type": "code",
   "execution_count": 19,
   "metadata": {},
   "outputs": [
    {
     "name": "stdout",
     "output_type": "stream",
     "text": [
      "4\n",
      "n\n"
     ]
    }
   ],
   "source": [
    "# YOUR CODE:\n",
    "ab = r\"A\\nB\"\n",
    "print(len(ab))\n",
    "print(ab[2])"
   ]
  },
  {
   "cell_type": "markdown",
   "metadata": {},
   "source": [
    "## 3. Reading text from files"
   ]
  },
  {
   "cell_type": "markdown",
   "metadata": {},
   "source": [
    "Most real-world programs will work with data that\n",
    "was not typed (or pasted) into the program.\n",
    "Often, the necessary data is read in from a file. We now examine in\n",
    "more detail how to read text from files.\n",
    "\n",
    "**Before continuing, ensure you have downloaded the file\n",
    "`RedCircle.txt` and saved it in the same directory as this Notebook.**"
   ]
  },
  {
   "cell_type": "markdown",
   "metadata": {},
   "source": [
    "### 3.1 Opening a file"
   ]
  },
  {
   "cell_type": "markdown",
   "metadata": {},
   "source": [
    "To work with the contents of a file, we must \"open\" it. Opening a file does not directly produce its contents, but gives us a special \"file\n",
    "object\": a kind of connection to the disk file, from which we can \"read\" text. The file object itself is just the means of access."
   ]
  },
  {
   "cell_type": "code",
   "execution_count": 20,
   "metadata": {},
   "outputs": [
    {
     "name": "stdout",
     "output_type": "stream",
     "text": [
      "<_io.TextIOWrapper name='RedCircle.txt' mode='r' encoding='cp1252'>\n"
     ]
    }
   ],
   "source": [
    "connection = open(\"RedCircle.txt\")\n",
    "print(connection)"
   ]
  },
  {
   "cell_type": "markdown",
   "metadata": {},
   "source": [
    "There are numerous ways to read text from a file. We can read\n",
    "one line at a time (though usually we will not: this is for\n",
    "illustration)."
   ]
  },
  {
   "cell_type": "code",
   "execution_count": 21,
   "metadata": {},
   "outputs": [
    {
     "name": "stdout",
     "output_type": "stream",
     "text": [
      "First: Project Gutenberg's The Adventure of the Red Circle, by Arthur Conan Doyle\n",
      "\n",
      "Second: \n",
      "\n"
     ]
    }
   ],
   "source": [
    "first_line = connection.readline()\n",
    "second_line = connection.readline()\n",
    "print(\"First:\", first_line)\n",
    "print(\"Second:\", second_line)"
   ]
  },
  {
   "cell_type": "markdown",
   "metadata": {},
   "source": [
    "**Your turn:**\n",
    "Do you notice a lot of blank space in the above output? Find out\n",
    "what's going on by printing an unambigous representation of each line\n",
    "we read, with `repr`."
   ]
  },
  {
   "cell_type": "code",
   "execution_count": 22,
   "metadata": {},
   "outputs": [
    {
     "name": "stdout",
     "output_type": "stream",
     "text": [
      "\"Project Gutenberg's The Adventure of the Red Circle, by Arthur Conan Doyle\\n\"\n",
      "'\\n'\n"
     ]
    }
   ],
   "source": [
    "# EDIT TO ADD YOUR CODE:\n",
    "\n",
    "print(repr(first_line))\n",
    "print(repr(second_line))"
   ]
  },
  {
   "cell_type": "markdown",
   "metadata": {},
   "source": [
    "You should be able to see that each line read from the file ends with\n",
    "a newline, and that the second line contains this newline and nothing\n",
    "else. `print` will _always_ add an extra newline, except when told not\n",
    "to (with `end=...`). Because we printed strings that already ended\n",
    "with a newline, we ended up with too many."
   ]
  },
  {
   "cell_type": "markdown",
   "metadata": {},
   "source": [
    "Reading a file advances through it, like playing a music file or video.\n",
    "Each `readline()` reads the next line in the file.\n",
    "Once we have read to the end, there is nothing more to read: if we try,\n",
    "we get the empty string. To read from the start again, the simplest way is to\n",
    "re-open the file (i.e., make a new connection)."
   ]
  },
  {
   "cell_type": "markdown",
   "metadata": {},
   "source": [
    "The method `read()` will read all the way to the end of the file.\n",
    "If called before anything else was read, it will read the entire file,\n",
    "but if we call it now it will simply read what hasn't been read yet:"
   ]
  },
  {
   "cell_type": "code",
   "execution_count": 23,
   "metadata": {},
   "outputs": [],
   "source": [
    "the_rest = connection.read()\n",
    "readagain = connection.readline()"
   ]
  },
  {
   "cell_type": "markdown",
   "metadata": {},
   "source": [
    "**Your turn:** What does the variable `readagain` contain after running\n",
    "the above? Do you understand why? Examine it to find out."
   ]
  },
  {
   "cell_type": "code",
   "execution_count": 25,
   "metadata": {},
   "outputs": [
    {
     "name": "stdout",
     "output_type": "stream",
     "text": [
      "''\n",
      "\n"
     ]
    }
   ],
   "source": [
    "# YOUR CODE:\n",
    "print(repr(readagain))"
   ]
  },
  {
   "cell_type": "markdown",
   "metadata": {},
   "source": [
    "When we are done with reading from a file, it is good practice to\n",
    "\"close\" the connection, i.e., shut it down. Attempting to read from a\n",
    "closed connection will trigger a python error. (A common oversight:\n",
    "Don't forget the parentheses after `close()`, otherwise you are not\n",
    "actually calling the function!) "
   ]
  },
  {
   "cell_type": "code",
   "execution_count": 26,
   "metadata": {},
   "outputs": [],
   "source": [
    "connection.close()"
   ]
  },
  {
   "cell_type": "markdown",
   "metadata": {},
   "source": [
    "Closing a file is especially important \n",
    "when we are _writing_ to files, which we will see in a later notebook. \n",
    "Forgetting to close a file can prevent the text we wrote from being saved. \n",
    "Get in the habit now of cleaning up after your open files, to \n",
    "avoid problems later."
   ]
  },
  {
   "cell_type": "markdown",
   "metadata": {},
   "source": [
    "Another way to make sure you close your connection is by embedding your connection in a `with` statement. Once Python is done with the `with` block, it closes the connection."
   ]
  },
  {
   "cell_type": "code",
   "execution_count": 27,
   "metadata": {},
   "outputs": [],
   "source": [
    "with open(\"RedCircle.txt\") as connection:\n",
    "    first_line = connection.readline()\n",
    "    second_line = connection.readline()\n",
    "    "
   ]
  },
  {
   "cell_type": "code",
   "execution_count": 28,
   "metadata": {},
   "outputs": [
    {
     "name": "stdout",
     "output_type": "stream",
     "text": [
      "First: Project Gutenberg's The Adventure of the Red Circle, by Arthur Conan Doyle\n",
      "\n",
      "Second: \n",
      "\n"
     ]
    }
   ],
   "source": [
    "print(\"First:\", first_line)\n",
    "print(\"Second:\", second_line)"
   ]
  },
  {
   "cell_type": "markdown",
   "metadata": {},
   "source": [
    "Trying to read from the connection raises an error since it's closed"
   ]
  },
  {
   "cell_type": "code",
   "execution_count": 29,
   "metadata": {},
   "outputs": [
    {
     "ename": "ValueError",
     "evalue": "I/O operation on closed file.",
     "output_type": "error",
     "traceback": [
      "\u001b[1;31m---------------------------------------------------------------------------\u001b[0m",
      "\u001b[1;31mValueError\u001b[0m                                Traceback (most recent call last)",
      "Cell \u001b[1;32mIn[29], line 1\u001b[0m\n\u001b[1;32m----> 1\u001b[0m connection\u001b[38;5;241m.\u001b[39mreadline()\n",
      "\u001b[1;31mValueError\u001b[0m: I/O operation on closed file."
     ]
    }
   ],
   "source": [
    "connection.readline()"
   ]
  },
  {
   "cell_type": "markdown",
   "metadata": {},
   "source": [
    "### 3.2 Scenario 1: Processing text line by line"
   ]
  },
  {
   "cell_type": "markdown",
   "metadata": {},
   "source": [
    "We are often interested in ***finding _lines_ that match a certain\n",
    "condition.*** To do so, read in the\n",
    "file as a single, very long string and split it into a list of lines.\n",
    "(I.e., a list of strings where each string is a whole line.) \n",
    "Here I print a sample line for demonstration."
   ]
  },
  {
   "cell_type": "code",
   "execution_count": 30,
   "metadata": {},
   "outputs": [
    {
     "name": "stdout",
     "output_type": "stream",
     "text": [
      "\"You arranged an affair for a lodger of mine last year,\" she said--\"Mr.\n"
     ]
    }
   ],
   "source": [
    "with open(\"RedCircle.txt\") as connection:\n",
    "    alltext = connection.read()\n",
    "\n",
    "lines = alltext.splitlines()\n",
    "\n",
    "print(lines[51])"
   ]
  },
  {
   "cell_type": "markdown",
   "metadata": {},
   "source": [
    "**Your turn:** Using loops, print out some lines and ranges of lines\n",
    "from different parts of the file: The first ten lines, a block of\n",
    "lines in the middle, etc. You may use a `while` loop, but `for` loops are particularly convenient for examining lists of strings; refresh your memory of how to \n",
    "use them from the notebook on lists.\n",
    "\n",
    "If you look carefully, you'll see that `splitlines()` removes the\n",
    "newlines at the end of each line (just like `split()` discards the\n",
    "spaces between words). This is very convenient, not least because\n",
    "Windows and OS X do not end lines in exactly the same way."
   ]
  },
  {
   "cell_type": "code",
   "execution_count": 47,
   "metadata": {},
   "outputs": [
    {
     "name": "stdout",
     "output_type": "stream",
     "text": [
      "[\"Project Gutenberg's The Adventure of the Red Circle, by Arthur Conan Doyle\", '', 'This eBook is for the use of anyone anywhere at no cost and with', 'almost no restrictions whatsoever.  You may copy it, give it away or', 're-use it under the terms of the Project Gutenberg License included', 'with this eBook or online at www.gutenberg.net', '', '', 'Title: The Adventure of the Red Circle', '']\n",
      "['', '', '', '', 'Produced by David Brannan.  HTML version by Al Haines.', '', '', '', '', '']\n",
      "['', '', '\"Well, Mrs. Warren, I cannot see that you have any particular cause for', 'uneasiness, nor do I understand why I, whose time is of some value,', 'should interfere in the matter.  I really have other things to engage', 'me.\"  So spoke Sherlock Holmes and turned back to the great scrapbook', 'in which he was arranging and indexing some of his recent material.', '', 'But the landlady had the pertinacity and also the cunning of her sex.', 'She held her ground firmly.']\n",
      "['', 'Holmes was accessible upon the side of flattery, and also, to do him', 'justice, upon the side of kindliness.  The two forces made him lay down', 'his gum-brush with a sigh of resignation and push back his chair.', '', '\"Well, well, Mrs. Warren, let us hear about it, then.  You don\\'t object', 'to tobacco, I take it?  Thank you, Watson--the matches! You are uneasy,', 'as I understand, because your new lodger remains in his rooms and you', 'cannot see him.  Why, bless you, Mrs. Warren, if I were your lodger you', 'often would not see me for weeks on end.\"']\n",
      "[\"Holmes leaned forward and laid his long, thin fingers upon the woman's\", 'shoulder.  He had an almost hypnotic power of soothing when he wished.', 'The scared look faded from her eyes, and her agitated features smoothed', 'into their usual commonplace.  She sat down in the chair which he had', 'indicated.', '', '\"If I take it up I must understand every detail,\" said he.  \"Take time', 'to consider.  The smallest point may be the most essential. You say', \"that the man came ten days ago and paid you for a fortnight's board and\", 'lodging?\"']\n"
     ]
    }
   ],
   "source": [
    "# YOUR CODE:\n",
    "with open(\"RedCircle.txt\") as connection:\n",
    "    alltext = connection.read()\n",
    "    \n",
    "lines = alltext.splitlines()\n",
    "\n",
    "i = 1\n",
    "n = 5\n",
    "a = 0\n",
    "b = 10\n",
    "for i in range(n):\n",
    "    print(lines[a:b])\n",
    "    a += 20\n",
    "    b += 20\n",
    "    i += 1"
   ]
  },
  {
   "cell_type": "markdown",
   "metadata": {},
   "source": [
    "Remember that when you \"split\" a string into a list of lines, the original string remains intact! The full content of the file is still available in the variable `alltext`.\n",
    "\n",
    "After reading a whole file at once, it is not necessary to read it in again: Just reuse the variable where the text was originally stored, or the list of lines derived from it. "
   ]
  },
  {
   "cell_type": "markdown",
   "metadata": {},
   "source": [
    "### 3.3 Searching with regular expressions"
   ]
  },
  {
   "cell_type": "markdown",
   "metadata": {},
   "source": [
    "We can examine our list of strings with the help of string indexing,\n",
    "string methods like `.startswith()`, etc. But such methods are\n",
    "very limited. We can do far more with python's _regular expressions_,\n",
    "which use the popular and powerful \"perl-style\" regexp syntax.\n",
    "To use them, import the module `re`. To check if a regular expression\n",
    "matches some part of a string, use the function `re.search()`.\n",
    "\n",
    "Here is a recipe for searching the lines of a file. Can you tell what\n",
    "it is searching for?"
   ]
  },
  {
   "cell_type": "code",
   "execution_count": 48,
   "metadata": {},
   "outputs": [
    {
     "name": "stdout",
     "output_type": "stream",
     "text": [
      "\"You arranged an affair for a lodger of mine last year,\" she said--\"Mr.\n",
      "The landlady drew an envelope from her bag; from it she shook out two\n",
      "the lady who fainted on Brixton bus'--she does not interest me.  'Every\n",
      "\"It's a police matter, Mr. Holmes!\" she cried.  \"I'll have no more of\n",
      "It was an excellent hiding-place which she had arranged.  The mirror\n",
      "\"Well, she saw something to alarm her.  That is certain.  The general\n",
      "peering across.  He wants to be sure that she is on the lookout.  Now\n",
      "she advanced, her face pale and drawn with a frightful apprehension,\n",
      "\"You have killed him!\" she muttered.  \"Oh, Dio mio, you have killed\n",
      "him!\"  Then I heard a sudden sharp intake of her breath, and she sprang\n",
      "into the air with a cry of joy.  Round and round the room she danced,\n",
      "a sight.  Suddenly she stopped and gazed at us all with a questioning\n",
      "\"But where, then, is Gennaro?\" she asked.  \"He is my husband, Gennaro\n",
      "\"I do not understand how you know these things,\" she said. \"Giuseppe\n",
      "lady's sleeve with as little sentiment as if she were a Notting Hill\n",
      "our opinion after we have heard what it is that she has to say to us.\"\n",
      "\"I was born in Posilippo, near Naples,\" said she, \"and was the daughter\n",
      "\"If what she says is corroborated, I do not think she or her husband\n"
     ]
    }
   ],
   "source": [
    "import re\n",
    "for line in lines:\n",
    "    if re.search(r\"\\bshe\\b\", line):\n",
    "        print(line)"
   ]
  },
  {
   "cell_type": "markdown",
   "metadata": {},
   "source": [
    "Note the use of the \"raw string\" for the regular expression. The\n",
    "symbol `\\b` in a regexp specifies a word boundary, so that our regexp\n",
    "will not match words like \"sheep\". But `\"\\b\"` is one of the sequences\n",
    "that have special meaning for strings as well. If we don't use\n",
    "a raw string, python will convert the `\\b` to a certain non-printing\n",
    "character (a \"backspace\"), and the regular expression engine will\n",
    "never see it.\n",
    "\n",
    "**Always write your regular expressions as raw strings.** It's not\n",
    "always a problem to use a regular string, but it is common enough, and\n",
    "a source of very mysterious bugs."
   ]
  },
  {
   "cell_type": "markdown",
   "metadata": {},
   "source": [
    "### 3.4 Putting it all together"
   ]
  },
  {
   "cell_type": "markdown",
   "metadata": {},
   "source": [
    "Here's a complete script that combines the above bits of code into a\n",
    "working program:"
   ]
  },
  {
   "cell_type": "code",
   "execution_count": 49,
   "metadata": {},
   "outputs": [
    {
     "name": "stdout",
     "output_type": "stream",
     "text": [
      "\"You arranged an affair for a lodger of mine last year,\" she said--\"Mr.\n",
      "The landlady drew an envelope from her bag; from it she shook out two\n",
      "the lady who fainted on Brixton bus'--she does not interest me.  'Every\n",
      "\"It's a police matter, Mr. Holmes!\" she cried.  \"I'll have no more of\n",
      "It was an excellent hiding-place which she had arranged.  The mirror\n",
      "\"Well, she saw something to alarm her.  That is certain.  The general\n",
      "peering across.  He wants to be sure that she is on the lookout.  Now\n",
      "she advanced, her face pale and drawn with a frightful apprehension,\n",
      "\"You have killed him!\" she muttered.  \"Oh, Dio mio, you have killed\n",
      "him!\"  Then I heard a sudden sharp intake of her breath, and she sprang\n",
      "into the air with a cry of joy.  Round and round the room she danced,\n",
      "a sight.  Suddenly she stopped and gazed at us all with a questioning\n",
      "\"But where, then, is Gennaro?\" she asked.  \"He is my husband, Gennaro\n",
      "\"I do not understand how you know these things,\" she said. \"Giuseppe\n",
      "lady's sleeve with as little sentiment as if she were a Notting Hill\n",
      "our opinion after we have heard what it is that she has to say to us.\"\n",
      "\"I was born in Posilippo, near Naples,\" said she, \"and was the daughter\n",
      "\"If what she says is corroborated, I do not think she or her husband\n"
     ]
    }
   ],
   "source": [
    "import re\n",
    "\n",
    "# Read text and turn it into a list of lines\n",
    "with open(\"RedCircle.txt\") as connection:\n",
    "    alltext = connection.read()\n",
    "\n",
    "lines = alltext.splitlines()\n",
    "\n",
    "# Search, and print the lines that match the regexp\n",
    "for line in lines:\n",
    "    if re.search(r\"\\bshe\\b\", line):\n",
    "        print(line)"
   ]
  },
  {
   "cell_type": "markdown",
   "metadata": {},
   "source": [
    "**Your turn:** Write a loop that prints out lines containing the\n",
    "pronoun `they` or `They`. Ensure you have already run the previous\n",
    "block of code, and don't redefine or read anything unnecessarily."
   ]
  },
  {
   "cell_type": "code",
   "execution_count": 50,
   "metadata": {},
   "outputs": [
    {
     "name": "stdout",
     "output_type": "stream",
     "text": [
      "\"Well, sir, they were that he was to have a key of the house. That was\n",
      "\"They were on his tray this morning.  I brought them because I had\n",
      "beside the curb.  They drove him an hour, and then opened the door and\n",
      "discovering their mistake they released him. What they would have done\n",
      "so that they could not fail to catch the eye.\n",
      "upon Mr. Warren further shows that the enemy, whoever they are, are\n",
      "small flame across the window as the signals were renewed. They came\n",
      "\"Yes, from that window.  They broke off in the middle.  We came over to\n",
      "should they refuse the money. It seems that Castalotte, our dear friend\n",
      "system to punish those whom they feared or hated by injuring not only\n",
      "their own persons but those whom they loved, and it was the knowledge\n",
      "stories of his dreadful powers.  If ever they were exerted it would be\n",
      "certain window, but when the signals came they were nothing but\n"
     ]
    }
   ],
   "source": [
    "# YOUR CODE:\n",
    "\n",
    "import re\n",
    "\n",
    "# Read text and turn it into a list of lines\n",
    "with open(\"RedCircle.txt\") as connection:\n",
    "    alltext = connection.read()\n",
    "\n",
    "lines = alltext.splitlines()\n",
    "\n",
    "# Search, and print the lines that match the regexp\n",
    "for line in lines:\n",
    "    if re.search(r\"\\b[tT]hey\\b\", line):\n",
    "        print(line)"
   ]
  },
  {
   "cell_type": "markdown",
   "metadata": {},
   "source": [
    "### 3.5 Building and using lists"
   ]
  },
  {
   "cell_type": "markdown",
   "metadata": {},
   "source": [
    "Often we need to collect what we find, not just print it out.\n",
    "We already know how to create a new list, containing just the lines\n",
    "(or words) we want."
   ]
  },
  {
   "cell_type": "markdown",
   "metadata": {},
   "source": [
    "### Your turn:\n",
    "\n",
    "Use a loop or list comprehension to create a list, `pronouns`, of all\n",
    "lines containing the pronouns \"he\" or \"she\"."
   ]
  },
  {
   "cell_type": "code",
   "execution_count": 53,
   "metadata": {},
   "outputs": [
    {
     "name": "stdout",
     "output_type": "stream",
     "text": [
      "['in which he was arranging and indexing some of his recent material.', 'She held her ground firmly.', '\"You arranged an affair for a lodger of mine last year,\" she said--\"Mr.', '\"But he would never cease talking of it--your kindness, sir, and the', 'nervous over it as I am, but he is out at his work all day, while I get', 'no rest from it.  What is he hiding for?  What has he done?  Except for', 'shoulder.  He had an almost hypnotic power of soothing when he wished.', 'into their usual commonplace.  She sat down in the chair which he had', '\"If I take it up I must understand every detail,\" said he.  \"Take time', '\"He asked my terms, sir.  I said fifty shillings a week.  There is a', '\"He said, \\'I\\'ll pay you five pounds a week if I can have it on my own', 'money meant much to me.  He took out a ten-pound note, and he held it', \"long time to come if you keep the terms,' he said.  'If not, I'll have\", '\"Well, sir, they were that he was to have a key of the house. That was', 'all right.  Lodgers often have them.  Also, that he was to be left', '\"Not in reason, sir.  But this is out of all reason.  He has been there', 'he had never once gone out of the house.\"', '\"Oh, he went out the first night, did he?\"', '\"Yes, sir, and returned very late--after we were all in bed.  He told', 'me after he had taken the rooms that he would do so and asked me not to', '\"It was his particular direction that we should always, when he rang,', 'leave his meal upon a chair, outside his door.  Then he rings again', 'when he has finished, and we take it down from the same chair.  If he', 'wants anything else he prints it on a slip of paper and leaves it.\"', 'one he left the first morning--daily gazette.  I leave that paper with', '\"That he desired to conceal his handwriting.\"', 'would he be?\"', '\"He spoke good English, sir, and yet I thought he was a foreigner by', '\"And he was well dressed?\"', '\"He gave no name?\"', '\"No, sir; he looks after himself entirely.\"', '\"He had one big brown bag with him--nothing else.\"', 'The landlady drew an envelope from her bag; from it she shook out two', '\"There is nothing here,\" said he.  \"The matches have, of course, been', '\"No, sir.  He eats so little that I often wonder it can keep life in', 'have nothing to complain of.  You have received your rent, and he is', 'not a troublesome lodger, though he is certainly an unusual one.  He', 'pays you well, and if he chooses to lie concealed it is no direct', '\"There are certainly some points of interest in this case, Watson,\" he', 'rooms?  He came back--or someone came back--when all witnesses were out', 'investigation.\"  He took down the great book in which, day by day, he', 'he, turning over the pages, \"what a chorus of groans, cries, and', \"the lady who fainted on Brixton bus'--she does not interest me.  'Every\", 'it not?  The mysterious one could understand English, even if he could', '\"How\\'s this, Watson?\" he cried, picking up the paper from the table.', '\"It\\'s a police matter, Mr. Holmes!\" she cried.  \"I\\'ll have no more of', 'it!  He shall pack out of there with his baggage.  I would have gone', 'Road.  He has to be out of the house before seven. Well, this morning', 'he had not gone ten paces down the road when two men came up behind', 'shot him out.  He lay in the roadway so shaken in his wits that he', 'never saw what became of the cab. When he picked himself up he found he', 'was on Hampstead Heath; so he took a bus home, and there he lies now on', '\"Most interesting,\" said Holmes.  \"Did he observe the appearance of', 'these men--did he hear them talk?\"', '\"No; he is clean dazed.  He just knows that he was lifted up as if by', '\"He has to take the tray in.  Surely we could conceal ourselves and see', '\"Excellent!\" said Holmes.  \"When does he lunch?\"', '\"See, Watson!\" said he.  \"\\'High red house with stone facings.\\' There is', 'It was an excellent hiding-place which she had arranged.  The mirror', '\"I will call again in the evening,\" said he to the expectant landlady.', '\"My surmise, as you saw, proved to be correct,\" said he, speaking from', '\"She saw us.\"', '\"Well, she saw something to alarm her.  That is certain.  The general', 'which he must do, desires to leave the woman in absolute safety while', 'he does it.  It is not an easy problem, but he solved it in an original', 'man cannot come near the woman, or he will guide their enemies to her.', 'Since he cannot communicate with her direct, he has recourse to the', 'shadow.  There he is again!  He has a candle in his hand.  Now he is', 'peering across.  He wants to be sure that she is on the lookout.  Now', 'he begins to flash.  Take the message also, Watson, that we may check', 'very curious.  Now he is off once more!  AT--why he is repeating it for', 'the third time.  ATTENTA three times!  How often will he repeat it?', 'No, that seems to be the finish.  He has withdrawn from the window.', 'obscure cipher, Watson,\" said he.  \"Why, of course, it is Italian!  The', 'make it more so.  But beware of what?  Wait a bit, he is coming to the', \"Yes, by Jove, it's a danger signal.  There he goes again! PERI.\", 'occurred on the instant to us both.  Holmes sprang up from where he', '\"This is serious, Watson,\" he cried.  \"There is some devilry going', 'railing.  He started as the hall-light fell upon our faces.', '\"Holmes!\" he cried.', '\"Why, Gregson!\" said my companion as he shook hands with the Scotland', '\"Who is he?\"', 'best this time.\"  He struck his stick sharply upon the ground, on which', 'Sherlock Holmes?\" he said to the cabman.  \"This is Mr. Leverton, of', 'trail of my life now, Mr. Holmes,\" said he.  \"If I can get Gorgiano--\"', '\"Oh, he has a European fame, has he?  Well, we\\'ve learned all about him', 'in America.  We KNOW he is at the bottom of fifty murders, and yet we', \"ground in that big tenement house, and there's only one door, so he\", \"can't slip us.  There's three folk come out since he went in, but I'll\", 'swear he wasn\\'t one of them.\"', '\"Mr. Holmes talks of signals,\" said Gregson.  \"I expect, as usual, he', '\"He\\'s on to us!\" he cried.', '\"Well, it figures out that way, does it not?  Here he is, sending out', 'Then suddenly, just as by your own account he was telling them that', 'there was danger, he broke short off.  What could it mean except that', 'from the window he had suddenly either caught sight of us in the', 'that he must act right away if he was to avoid it?  What do you', '\"He is in unoccupied premises under suspicious circumstances,\" said', 'bearing with which he would have ascended the official staircase of', 'knife driven blade-deep into his body.  Giant as he was, the man must', 'backward and forward across the window-panes.  Then he peered into the', '\"I rather think that will be helpful,\" said he.  He came over and stood', 'waiting downstairs,\" said he at last.  \"Did you observe them closely?\"', '\"Yes; he was the last to pass me.\"', 'she advanced, her face pale and drawn with a frightful apprehension,', '\"You have killed him!\" she muttered.  \"Oh, Dio mio, you have killed', 'him!\"  Then I heard a sudden sharp intake of her breath, and she sprang', 'into the air with a cry of joy.  Round and round the room she danced,', 'a sight.  Suddenly she stopped and gazed at us all with a questioning', 'She looked round into the shadows of the room.', '\"But where, then, is Gennaro?\" she asked.  \"He is my husband, Gennaro', 'Gennaro?  He called me this moment from this window, and I ran with all', '\"I do not understand how you know these things,\" she said. \"Giuseppe', 'Gorgiano--how did he--\"  She paused, and then suddenly her face lit up', 'beautiful Gennaro, who has guarded me safe from all harm, he did it,', 'with his own strong hand he killed the monster!  Oh, Gennaro, how', \"lady's sleeve with as little sentiment as if she were a Notting Hill\", 'evidence.  But if you think that he has acted from motives which are', 'not criminal, and which he would wish to have known, then you cannot', '\"Now that Gorgiano is dead we fear nothing,\" said the lady.  \"He was a', 'our opinion after we have heard what it is that she has to say to us.\"', 'sinister events, the ending of which we had chanced to witness.  She', '\"I was born in Posilippo, near Naples,\" said she, \"and was the daughter', 'him, as any woman must.  He had neither money nor position--nothing but', 'service to an Italian gentleman--he saved him from some ruffians in the', 'Tito Castalotte, and he was the senior partner of the great firm of', 'within the firm, which employs more than three hundred men.  He took my', 'bachelor, and I believe that he felt as if Gennaro was his son, and', 'both my husband and I loved him as if he were our father.  We had taken', '\"One night, when Gennaro returned from his work, he brought a', 'fellow-countryman back with him.  His name was Gorgiano, and he had', 'come also from Posilippo.  He was a huge man, as you can testify, for', 'the whirl of his great arms as he talked.  His thoughts, his emotions,', 'his passions, all were exaggerated and monstrous.  He talked, or rather', 'at his mercy.  He was a terrible and wonderful man.  I thank God that', 'he is dead!', '\"He came again and again.  Yet I was aware that Gennaro was no more', 'implored him by his love for me and by all that he held dear to hold', '\"He told me, and my own heart grew cold as ice as I listened.  My poor', 'had fled to America Gennaro thought that he had cast it all off', \"had earned the name of 'Death' in the south of Italy, for he was red to\", 'the elbow in murder!  He had come to New York to avoid the Italian', 'police, and he had already planted a branch of this dreadful society in', 'he had received that very day, a Red Circle drawn upon the head of it', 'time that when Gorgiano came to us, as he constantly did, in the', 'evening, he spoke much to me; and even when his words were to my', 'turned upon me.  One night his secret came out.  I had awakened what he', 'not yet returned when he came.  He pushed his way in, seized me in his', 'when Gennaro entered and attacked him.  He struck Gennaro senseless and', 'fled from the house which he was never more to enter.  It was a deadly', 'and benefactor, had been approached.  He had refused to yield to', 'threats, and he had handed the notices to the police.  It was resolved', 'other victim from rebelling. At the meeting it was arranged that he and', 'cruel face smiling at him as he dipped his hand in the bag. No doubt it', 'palm.  He was to kill his best friend, or he was to expose himself and', 'were on our way to London, but not before he had given our benefactor', 'cunning, and untiring he could be.  Both Italy and America are full of', 'possible danger could reach me. For his own part, he wished to be free', 'that he might communicate both with the American and with the Italian', 'police.  I do not myself know where he lived, or how.  All that I', 'Gennaro told me, through the paper, that he would signal to me from a', 'that he knew Gorgiano to be close upon him, and that, thank God! he was', 'ready for him when he came.  And now, gentleman, I would ask you', 'upon earth would condemn my Gennaro for what he has done?\"', '\"She will have to come with me and see the chief,\" Gregson answered.', '\"If what she says is corroborated, I do not think she or her husband']\n"
     ]
    }
   ],
   "source": [
    "# YOUR CODE:\n",
    "pronouns = []\n",
    "\n",
    "import re\n",
    "\n",
    "# Read text and turn it into a list of lines\n",
    "with open(\"RedCircle.txt\") as connection:\n",
    "    alltext = connection.read()\n",
    "\n",
    "lines = alltext.splitlines()\n",
    "\n",
    "# Search, and print the lines that match the regexp\n",
    "for line in lines:\n",
    "    if re.search(r\"\\b[Hh]e\\b\", line):\n",
    "        pronouns.append(line)\n",
    "    elif re.search(r\"\\b[Ss]he\\b\", line):\n",
    "        pronouns.append(line)\n",
    "\n",
    "print(pronouns)"
   ]
  },
  {
   "cell_type": "markdown",
   "metadata": {},
   "source": [
    "Let's check your results: There should be either 134 or 166 lines in the list, depending on whether you included capitalized pronouns in your search."
   ]
  },
  {
   "cell_type": "code",
   "execution_count": 54,
   "metadata": {},
   "outputs": [
    {
     "name": "stdout",
     "output_type": "stream",
     "text": [
      "I found pronouns on 166 lines\n"
     ]
    }
   ],
   "source": [
    "print(\"I found pronouns on\", len(pronouns), \"lines\")"
   ]
  },
  {
   "cell_type": "markdown",
   "metadata": {},
   "source": [
    "**Your turn:**\n",
    "Build a list of all lines in `RedCircle.txt` that contain the word\n",
    "\"some\" (or \"Some\"). Then print each line found, with an increasing\n",
    "number (0, 1, 2, ...) in front."
   ]
  },
  {
   "cell_type": "code",
   "execution_count": 71,
   "metadata": {},
   "outputs": [
    {
     "name": "stdout",
     "output_type": "stream",
     "text": [
      "[('0', 'uneasiness, nor do I understand why I, whose time is of some value,'), ('0', 'in which he was arranging and indexing some of his recent material.'), ('0', '\"Exactly.  There was evidently some mark, some thumbprint, something'), ('0', 'until we have some reason to think that there is a guilty reason for'), ('0', '\"There are certainly some points of interest in this case, Watson,\" he'), ('0', \"little more possible.  Listen to this:  'Be patient.  Will find some\"), ('0', 'which told of some new and momentous development.'), ('0', 'It is clear now that some danger is threatening your lodger.  It is'), ('0', 'danger is the rigour of their precautions. The man, who has some work'), ('0', '\"This is serious, Watson,\" he cried.  \"There is some devilry going'), ('0', '\"We must define the situation a little more clearly.  It may bear some'), ('0', \"York, and I've been close to him for a week in London, waiting some\"), ('0', 'street, or in some way come to understand how close the danger was, and'), ('0', 'service to an Italian gentleman--he saved him from some ruffians in the'), ('0', 'nothing, but I, who knew him so well, could read in his face some'), ('0', '\"That was bad enough, but worse was to come.  I had noticed for some'), ('0', 'had been prearranged in some fashion, for it was the fatal disc with'), ('0', 'understood that in some way Gorgiano had found our retreat. Finally')]\n"
     ]
    }
   ],
   "source": [
    "# YOUR CODE:\n",
    "\n",
    "sommige = []\n",
    "\n",
    "import re\n",
    "\n",
    "# Read text and turn it into a list of lines\n",
    "with open(\"RedCircle.txt\") as connection:\n",
    "    alltext = connection.read()\n",
    "\n",
    "lines = alltext.splitlines()\n",
    "\n",
    "# Search, and print the lines that match the regexp\n",
    "for line in lines:\n",
    "    if re.search(r\"\\b[Ss]ome\\b\", line):            \n",
    "        getal = 0\n",
    "        a = str(getal), line\n",
    "        sommige.append(a)\n",
    "        getal +=1\n",
    "        \n",
    "print(sommige)"
   ]
  },
  {
   "cell_type": "markdown",
   "metadata": {},
   "source": [
    "### 3.6 List comprehensions\n",
    "\n",
    "A \"list comprehension\" is a very powerful alternative to a list-\n",
    "building\n",
    "loop:\n",
    "Essentially, a loop inside the new list generates all its elements, without using temporary variables or calls to the `append()` method."
   ]
  },
  {
   "cell_type": "code",
   "execution_count": 72,
   "metadata": {},
   "outputs": [
    {
     "name": "stdout",
     "output_type": "stream",
     "text": [
      "[0, 1, 4, 9, 16, 25, 36, 49, 64, 81]\n"
     ]
    }
   ],
   "source": [
    "squares = [ n*n for n in range(10) ]\n",
    "print(squares)"
   ]
  },
  {
   "cell_type": "markdown",
   "metadata": {},
   "source": [
    "The above makes a list with the squares of the numbers up to 9. It is equivalent to the following regular loop:"
   ]
  },
  {
   "cell_type": "code",
   "execution_count": 73,
   "metadata": {},
   "outputs": [
    {
     "name": "stdout",
     "output_type": "stream",
     "text": [
      "[0, 1, 4, 9, 16, 25, 36, 49, 64, 81]\n"
     ]
    }
   ],
   "source": [
    "squares = [ ]\n",
    "for n in range(10):\n",
    "    squares.append(n*n)\n",
    "print(squares)"
   ]
  },
  {
   "cell_type": "markdown",
   "metadata": {},
   "source": [
    "Comprehensions can include a test. Only elements that satisfy the `if`\n",
    "clause\n",
    "are added to the list."
   ]
  },
  {
   "cell_type": "code",
   "execution_count": 75,
   "metadata": {},
   "outputs": [],
   "source": [
    "she = [x for x in lines if re.search(r\"\\bshe\\b\", x)]"
   ]
  },
  {
   "cell_type": "markdown",
   "metadata": {},
   "source": [
    "The above one-liner is equivalent to our earlier list-building loop:"
   ]
  },
  {
   "cell_type": "code",
   "execution_count": 76,
   "metadata": {},
   "outputs": [],
   "source": [
    "pronouns = []\n",
    "for x in lines:\n",
    "    if re.search(r\"\\b(he|she)\\b\", x):\n",
    "        pronouns.append(x)"
   ]
  },
  {
   "cell_type": "markdown",
   "metadata": {},
   "source": [
    "You don't _have_ to use comprehensions, but they make life easier\n",
    "and the NLTK book really likes them. Learn to read them, but use them\n",
    "only when you feel ready to."
   ]
  },
  {
   "cell_type": "markdown",
   "metadata": {},
   "source": [
    "**Your turn:** Use a list comprehension to build a list of all lines in _The Red Circle_ that are less than 20 characters long, but **not empty**. Print a message saying how many such lines you found. \n",
    "\n",
    "Check your work by printing the first 10 lines you collected."
   ]
  },
  {
   "cell_type": "code",
   "execution_count": 85,
   "metadata": {},
   "outputs": [
    {
     "name": "stdout",
     "output_type": "stream",
     "text": [
      "[['Language: English', 'By', 'Fairdale Hobbs.\"', 'only would.\"', 'nerves can stand.\"', 'indicated.', 'lodging?\"', 'house.\"', '\"Well?\"', '\"But his meals?\"']]\n"
     ]
    }
   ],
   "source": [
    "# YOUR CODE\n",
    "\n",
    "samen = []\n",
    "\n",
    "import re\n",
    "\n",
    "# Read text and turn it into a list of lines\n",
    "with open(\"RedCircle.txt\") as connection:\n",
    "    alltext = connection.read()\n",
    "\n",
    "lines = alltext.splitlines()\n",
    "\n",
    "for x in lines:\n",
    "    if len(x) <= 20:\n",
    "        if x != \"\":\n",
    "            samen.append(x)\n",
    "\n",
    "tien = [samen[0:10]]\n",
    "print(tien)"
   ]
  },
  {
   "cell_type": "markdown",
   "metadata": {},
   "source": [
    "### 3.7 Scenario 2: Processing text word by word"
   ]
  },
  {
   "cell_type": "markdown",
   "metadata": {},
   "source": [
    "To examine the individual words in our file, we can split up\n",
    "the file text into a list of words. We already know how to split a\n",
    "string: with the method `split()`."
   ]
  },
  {
   "cell_type": "code",
   "execution_count": 83,
   "metadata": {},
   "outputs": [
    {
     "name": "stdout",
     "output_type": "stream",
     "text": [
      "['Project', \"Gutenberg's\", 'The', 'Adventure', 'of', 'the', 'Red', 'Circle,', 'by', 'Arthur', 'Conan', 'Doyle', 'This', 'eBook', 'is', 'for', 'the', 'use', 'of', 'anyone']\n"
     ]
    }
   ],
   "source": [
    "with open(\"RedCircle.txt\") as connection:\n",
    "    alltext = connection.read()  # A single string\n",
    "\n",
    "textwords = alltext.split() # A list of (short) strings\n",
    "print(textwords[0:20])"
   ]
  },
  {
   "cell_type": "markdown",
   "metadata": {},
   "source": [
    "This method is useful for counting or searching for\n",
    "individual words. But as you know, the string method `split()` will\n",
    "break up our string at white spaces. If a word is followed by a comma,\n",
    "parentheses, etc., these will remain as part of the \"word\". We can\n",
    "fine-tune the division into words by using the more powerful function\n",
    "`re.split()`. Take a quick look at its docstring:"
   ]
  },
  {
   "cell_type": "code",
   "execution_count": 86,
   "metadata": {},
   "outputs": [
    {
     "name": "stdout",
     "output_type": "stream",
     "text": [
      "Help on function split in module re:\n",
      "\n",
      "split(pattern, string, maxsplit=0, flags=0)\n",
      "    Split the source string by the occurrences of the pattern,\n",
      "    returning a list containing the resulting substrings.  If\n",
      "    capturing parentheses are used in pattern, then the text of all\n",
      "    groups in the pattern are also returned as part of the resulting\n",
      "    list.  If maxsplit is nonzero, at most maxsplit splits occur,\n",
      "    and the remainder of the string is returned as the final element\n",
      "    of the list.\n",
      "\n"
     ]
    }
   ],
   "source": [
    "help(re.split)"
   ]
  },
  {
   "cell_type": "markdown",
   "metadata": {},
   "source": [
    "A \"pattern\" in this documentation is a regular expression.\n",
    "`re.split()` will break a string wherever the regular expression\n",
    "matches.\n",
    "\n",
    "Because `split()` normally removes the separator characters that it\n",
    "splits on, we can split on a regexp that matches all space or\n",
    "punctuation-- everything that is not part of a word. This discards\n",
    "everything except the words. (Note that the apostrophe in \"It's\"\n",
    "counts as a word separator). Make sure you know what this regexp\n",
    "matches:"
   ]
  },
  {
   "cell_type": "code",
   "execution_count": 87,
   "metadata": {},
   "outputs": [
    {
     "name": "stdout",
     "output_type": "stream",
     "text": [
      "Simple split: ['Some', 'text', '(containing', 'punctuation).', \"It's\", 'an', \"'example'...\"]\n",
      "Regexp split: ['Some', 'text', 'containing', 'punctuation', 'It', 's', 'an', 'example', '']\n"
     ]
    }
   ],
   "source": [
    "example = \"Some text (containing punctuation). It's an 'example'...\"\n",
    "simple = example.split()\n",
    "advanced = re.split(r\"\\W+\", example)\n",
    "\n",
    "print(\"Simple split:\", simple)\n",
    "print(\"Regexp split:\", advanced)"
   ]
  },
  {
   "cell_type": "markdown",
   "metadata": {},
   "source": [
    "There is a wrinkle to the list returned by `re.split()`: Notice the\n",
    "empty string at the end. This is because our example ended with\n",
    "punctuation, and `split()` always returns \"results\" for both sides of\n",
    "any separator it finds. If our sentence started with space or\n",
    "punctuation, we'd have gotten an empty string at the start too. We can\n",
    "check for empty strings and delete them from the list, but usually\n",
    "they do no harm."
   ]
  },
  {
   "cell_type": "markdown",
   "metadata": {},
   "source": [
    "### Your turn:\n",
    "\n",
    "Use the regular expression `r\"\\W+\"` to split the string `alltext` into\n",
    "a list of words, discarding all punctuation. Save your list of words\n",
    "as the variable `textwords`."
   ]
  },
  {
   "cell_type": "code",
   "execution_count": 89,
   "metadata": {},
   "outputs": [
    {
     "name": "stdout",
     "output_type": "stream",
     "text": [
      "['Project', 'Gutenberg', 's', 'The', 'Adventure', 'of', 'the', 'Red', 'Circle', 'by', 'Arthur', 'Conan', 'Doyle', 'This', 'eBook', 'is', 'for', 'the', 'use', 'of', 'anyone', 'anywhere', 'at', 'no', 'cost', 'and', 'with', 'almost', 'no', 'restrictions', 'whatsoever', 'You', 'may', 'copy', 'it', 'give', 'it', 'away', 'or', 're', 'use', 'it', 'under', 'the', 'terms', 'of', 'the', 'Project', 'Gutenberg', 'License', 'included', 'with', 'this', 'eBook', 'or', 'online', 'at', 'www', 'gutenberg', 'net', 'Title', 'The', 'Adventure', 'of', 'the', 'Red', 'Circle', 'Author', 'Arthur', 'Conan', 'Doyle', 'Posting', 'Date', 'October', '23', '2008', 'EBook', '2345', 'Release', 'Date', 'October', '2000', 'Last', 'updated', 'December', '16', '2011', 'Language', 'English', 'START', 'OF', 'THIS', 'PROJECT', 'GUTENBERG', 'EBOOK', 'THE', 'ADVENTURE', 'OF', 'THE', 'RED', 'CIRCLE', 'Produced', 'by', 'David', 'Brannan', 'HTML', 'version', 'by', 'Al', 'Haines', 'The', 'Adventure', 'of', 'the', 'Red', 'Circle', 'By', 'Sir', 'Arthur', 'Conan', 'Doyle', 'Well', 'Mrs', 'Warren', 'I', 'cannot', 'see', 'that', 'you', 'have', 'any', 'particular', 'cause', 'for', 'uneasiness', 'nor', 'do', 'I', 'understand', 'why', 'I', 'whose', 'time', 'is', 'of', 'some', 'value', 'should', 'interfere', 'in', 'the', 'matter', 'I', 'really', 'have', 'other', 'things', 'to', 'engage', 'me', 'So', 'spoke', 'Sherlock', 'Holmes', 'and', 'turned', 'back', 'to', 'the', 'great', 'scrapbook', 'in', 'which', 'he', 'was', 'arranging', 'and', 'indexing', 'some', 'of', 'his', 'recent', 'material', 'But', 'the', 'landlady', 'had', 'the', 'pertinacity', 'and', 'also', 'the', 'cunning', 'of', 'her', 'sex', 'She', 'held', 'her', 'ground', 'firmly', 'You', 'arranged', 'an', 'affair', 'for', 'a', 'lodger', 'of', 'mine', 'last', 'year', 'she', 'said', 'Mr', 'Fairdale', 'Hobbs', 'Ah', 'yes', 'a', 'simple', 'matter', 'But', 'he', 'would', 'never', 'cease', 'talking', 'of', 'it', 'your', 'kindness', 'sir', 'and', 'the', 'way', 'in', 'which', 'you', 'brought', 'light', 'into', 'the', 'darkness', 'I', 'remembered', 'his', 'words', 'when', 'I', 'was', 'in', 'doubt', 'and', 'darkness', 'myself', 'I', 'know', 'you', 'could', 'if', 'you', 'only', 'would', 'Holmes', 'was', 'accessible', 'upon', 'the', 'side', 'of', 'flattery', 'and', 'also', 'to', 'do', 'him', 'justice', 'upon', 'the', 'side', 'of', 'kindliness', 'The', 'two', 'forces', 'made', 'him', 'lay', 'down', 'his', 'gum', 'brush', 'with', 'a', 'sigh', 'of', 'resignation', 'and', 'push', 'back', 'his', 'chair', 'Well', 'well', 'Mrs', 'Warren', 'let', 'us', 'hear', 'about', 'it', 'then', 'You', 'don', 't', 'object', 'to', 'tobacco', 'I', 'take', 'it', 'Thank', 'you', 'Watson', 'the', 'matches', 'You', 'are', 'uneasy', 'as', 'I', 'understand', 'because', 'your', 'new', 'lodger', 'remains', 'in', 'his', 'rooms', 'and', 'you', 'cannot', 'see', 'him', 'Why', 'bless', 'you', 'Mrs', 'Warren', 'if', 'I', 'were', 'your', 'lodger', 'you', 'often', 'would', 'not', 'see', 'me', 'for', 'weeks', 'on', 'end', 'No', 'doubt', 'sir', 'but', 'this', 'is', 'different', 'It', 'frightens', 'me', 'Mr', 'Holmes', 'I', 'can', 't', 'sleep', 'for', 'fright', 'To', 'hear', 'his', 'quick', 'step', 'moving', 'here', 'and', 'moving', 'there', 'from', 'early', 'morning', 'to', 'late', 'at', 'night', 'and', 'yet', 'never', 'to', 'catch', 'so', 'much', 'as', 'a', 'glimpse', 'of', 'him', 'it', 's', 'more', 'than', 'I', 'can', 'stand', 'My', 'husband', 'is', 'as', 'nervous', 'over', 'it', 'as', 'I', 'am', 'but', 'he', 'is', 'out', 'at', 'his', 'work', 'all', 'day', 'while', 'I', 'get', 'no', 'rest', 'from', 'it', 'What', 'is', 'he', 'hiding', 'for', 'What', 'has', 'he', 'done', 'Except', 'for', 'the', 'girl', 'I', 'am', 'all', 'alone', 'in', 'the', 'house', 'with', 'him', 'and', 'it', 's', 'more', 'than', 'my', 'nerves', 'can', 'stand', 'Holmes', 'leaned', 'forward', 'and', 'laid', 'his', 'long', 'thin', 'fingers', 'upon', 'the', 'woman', 's', 'shoulder', 'He', 'had', 'an', 'almost', 'hypnotic', 'power', 'of', 'soothing', 'when', 'he', 'wished', 'The', 'scared', 'look', 'faded', 'from', 'her', 'eyes', 'and', 'her', 'agitated', 'features', 'smoothed', 'into', 'their', 'usual', 'commonplace', 'She', 'sat', 'down', 'in', 'the', 'chair', 'which', 'he', 'had', 'indicated', 'If', 'I', 'take', 'it', 'up', 'I', 'must', 'understand', 'every', 'detail', 'said', 'he', 'Take', 'time', 'to', 'consider', 'The', 'smallest', 'point', 'may', 'be', 'the', 'most', 'essential', 'You', 'say', 'that', 'the', 'man', 'came', 'ten', 'days', 'ago', 'and', 'paid', 'you', 'for', 'a', 'fortnight', 's', 'board', 'and', 'lodging', 'He', 'asked', 'my', 'terms', 'sir', 'I', 'said', 'fifty', 'shillings', 'a', 'week', 'There', 'is', 'a', 'small', 'sitting', 'room', 'and', 'bedroom', 'and', 'all', 'complete', 'at', 'the', 'top', 'of', 'the', 'house', 'Well', 'He', 'said', 'I', 'll', 'pay', 'you', 'five', 'pounds', 'a', 'week', 'if', 'I', 'can', 'have', 'it', 'on', 'my', 'own', 'terms', 'I', 'm', 'a', 'poor', 'woman', 'sir', 'and', 'Mr', 'Warren', 'earns', 'little', 'and', 'the', 'money', 'meant', 'much', 'to', 'me', 'He', 'took', 'out', 'a', 'ten', 'pound', 'note', 'and', 'he', 'held', 'it', 'out', 'to', 'me', 'then', 'and', 'there', 'You', 'can', 'have', 'the', 'same', 'every', 'fortnight', 'for', 'a', 'long', 'time', 'to', 'come', 'if', 'you', 'keep', 'the', 'terms', 'he', 'said', 'If', 'not', 'I', 'll', 'have', 'no', 'more', 'to', 'do', 'with', 'you', 'What', 'were', 'the', 'terms', 'Well', 'sir', 'they', 'were', 'that', 'he', 'was', 'to', 'have', 'a', 'key', 'of', 'the', 'house', 'That', 'was', 'all', 'right', 'Lodgers', 'often', 'have', 'them', 'Also', 'that', 'he', 'was', 'to', 'be', 'left', 'entirely', 'to', 'himself', 'and', 'never', 'upon', 'any', 'excuse', 'to', 'be', 'disturbed', 'Nothing', 'wonderful', 'in', 'that', 'surely', 'Not', 'in', 'reason', 'sir', 'But', 'this', 'is', 'out', 'of', 'all', 'reason', 'He', 'has', 'been', 'there', 'for', 'ten', 'days', 'and', 'neither', 'Mr', 'Warren', 'nor', 'I', 'nor', 'the', 'girl', 'has', 'once', 'set', 'eyes', 'upon', 'him', 'We', 'can', 'hear', 'that', 'quick', 'step', 'of', 'his', 'pacing', 'up', 'and', 'down', 'up', 'and', 'down', 'night', 'morning', 'and', 'noon', 'but', 'except', 'on', 'that', 'first', 'night', 'he', 'had', 'never', 'once', 'gone', 'out', 'of', 'the', 'house', 'Oh', 'he', 'went', 'out', 'the', 'first', 'night', 'did', 'he', 'Yes', 'sir', 'and', 'returned', 'very', 'late', 'after', 'we', 'were', 'all', 'in', 'bed', 'He', 'told', 'me', 'after', 'he', 'had', 'taken', 'the', 'rooms', 'that', 'he', 'would', 'do', 'so', 'and', 'asked', 'me', 'not', 'to', 'bar', 'the', 'door', 'I', 'heard', 'him', 'come', 'up', 'the', 'stair', 'after', 'midnight', 'But', 'his', 'meals', 'It', 'was', 'his', 'particular', 'direction', 'that', 'we', 'should', 'always', 'when', 'he', 'rang', 'leave', 'his', 'meal', 'upon', 'a', 'chair', 'outside', 'his', 'door', 'Then', 'he', 'rings', 'again', 'when', 'he', 'has', 'finished', 'and', 'we', 'take', 'it', 'down', 'from', 'the', 'same', 'chair', 'If', 'he', 'wants', 'anything', 'else', 'he', 'prints', 'it', 'on', 'a', 'slip', 'of', 'paper', 'and', 'leaves', 'it', 'Prints', 'it', 'Yes', 'sir', 'prints', 'it', 'in', 'pencil', 'Just', 'the', 'word', 'nothing', 'more', 'Here', 's', 'the', 'one', 'I', 'brought', 'to', 'show', 'you', 'soap', 'Here', 's', 'another', 'match', 'This', 'is', 'one', 'he', 'left', 'the', 'first', 'morning', 'daily', 'gazette', 'I', 'leave', 'that', 'paper', 'with', 'his', 'breakfast', 'every', 'morning', 'Dear', 'me', 'Watson', 'said', 'Homes', 'staring', 'with', 'great', 'curiosity', 'at', 'the', 'slips', 'of', 'foolscap', 'which', 'the', 'landlady', 'had', 'handed', 'to', 'him', 'this', 'is', 'certainly', 'a', 'little', 'unusual', 'Seclusion', 'I', 'can', 'understand', 'but', 'why', 'print', 'Printing', 'is', 'a', 'clumsy', 'process', 'Why', 'not', 'write', 'What', 'would', 'it', 'suggest', 'Watson', 'That', 'he', 'desired', 'to', 'conceal', 'his', 'handwriting', 'But', 'why', 'What', 'can', 'it', 'matter', 'to', 'him', 'that', 'his', 'landlady', 'should', 'have', 'a', 'word', 'of', 'his', 'writing', 'Still', 'it', 'may', 'be', 'as', 'you', 'say', 'Then', 'again', 'why', 'such', 'laconic', 'messages', 'I', 'cannot', 'imagine', 'It', 'opens', 'a', 'pleasing', 'field', 'for', 'intelligent', 'speculation', 'The', 'words', 'are', 'written', 'with', 'a', 'broad', 'pointed', 'violet', 'tinted', 'pencil', 'of', 'a', 'not', 'unusual', 'pattern', 'You', 'will', 'observe', 'that', 'the', 'paper', 'is', 'torn', 'away', 'at', 'the', 'side', 'here', 'after', 'the', 'printing', 'was', 'done', 'so', 'that', 'the', 's', 'of', 'soap', 'is', 'partly', 'gone', 'Suggestive', 'Watson', 'is', 'it', 'not', 'Of', 'caution', 'Exactly', 'There', 'was', 'evidently', 'some', 'mark', 'some', 'thumbprint', 'something', 'which', 'might', 'give', 'a', 'clue', 'to', 'the', 'person', 's', 'identity', 'Now', 'Mrs', 'Warren', 'you', 'say', 'that', 'the', 'man', 'was', 'of', 'middle', 'size', 'dark', 'and', 'bearded', 'What', 'age', 'would', 'he', 'be', 'Youngish', 'sir', 'not', 'over', 'thirty', 'Well', 'can', 'you', 'give', 'me', 'no', 'further', 'indications', 'He', 'spoke', 'good', 'English', 'sir', 'and', 'yet', 'I', 'thought', 'he', 'was', 'a', 'foreigner', 'by', 'his', 'accent', 'And', 'he', 'was', 'well', 'dressed', 'Very', 'smartly', 'dressed', 'sir', 'quite', 'the', 'gentleman', 'Dark', 'clothes', 'nothing', 'you', 'would', 'note', 'He', 'gave', 'no', 'name', 'No', 'sir', 'And', 'has', 'had', 'no', 'letters', 'or', 'callers', 'None', 'But', 'surely', 'you', 'or', 'the', 'girl', 'enter', 'his', 'room', 'of', 'a', 'morning', 'No', 'sir', 'he', 'looks', 'after', 'himself', 'entirely', 'Dear', 'me', 'that', 'is', 'certainly', 'remarkable', 'What', 'about', 'his', 'luggage', 'He', 'had', 'one', 'big', 'brown', 'bag', 'with', 'him', 'nothing', 'else', 'Well', 'we', 'don', 't', 'seem', 'to', 'have', 'much', 'material', 'to', 'help', 'us', 'Do', 'you', 'say', 'nothing', 'has', 'come', 'out', 'of', 'that', 'room', 'absolutely', 'nothing', 'The', 'landlady', 'drew', 'an', 'envelope', 'from', 'her', 'bag', 'from', 'it', 'she', 'shook', 'out', 'two', 'burnt', 'matches', 'and', 'a', 'cigarette', 'end', 'upon', 'the', 'table', 'They', 'were', 'on', 'his', 'tray', 'this', 'morning', 'I', 'brought', 'them', 'because', 'I', 'had', 'heard', 'that', 'you', 'can', 'read', 'great', 'things', 'out', 'of', 'small', 'ones', 'Holmes', 'shrugged', 'his', 'shoulders', 'There', 'is', 'nothing', 'here', 'said', 'he', 'The', 'matches', 'have', 'of', 'course', 'been', 'used', 'to', 'light', 'cigarettes', 'That', 'is', 'obvious', 'from', 'the', 'shortness', 'of', 'the', 'burnt', 'end', 'Half', 'the', 'match', 'is', 'consumed', 'in', 'lighting', 'a', 'pipe', 'or', 'cigar', 'But', 'dear', 'me', 'this', 'cigarette', 'stub', 'is', 'certainly', 'remarkable', 'The', 'gentleman', 'was', 'bearded', 'and', 'moustached', 'you', 'say', 'Yes', 'sir', 'I', 'don', 't', 'understand', 'that', 'I', 'should', 'say', 'that', 'only', 'a', 'clean', 'shaven', 'man', 'could', 'have', 'smoked', 'this', 'Why', 'Watson', 'even', 'your', 'modest', 'moustache', 'would', 'have', 'been', 'singed', 'A', 'holder', 'I', 'suggested', 'No', 'no', 'the', 'end', 'is', 'matted', 'I', 'suppose', 'there', 'could', 'not', 'be', 'two', 'people', 'in', 'your', 'rooms', 'Mrs', 'Warren', 'No', 'sir', 'He', 'eats', 'so', 'little', 'that', 'I', 'often', 'wonder', 'it', 'can', 'keep', 'life', 'in', 'one', 'Well', 'I', 'think', 'we', 'must', 'wait', 'for', 'a', 'little', 'more', 'material', 'After', 'all', 'you', 'have', 'nothing', 'to', 'complain', 'of', 'You', 'have', 'received', 'your', 'rent', 'and', 'he', 'is', 'not', 'a', 'troublesome', 'lodger', 'though', 'he', 'is', 'certainly', 'an', 'unusual', 'one', 'He', 'pays', 'you', 'well', 'and', 'if', 'he', 'chooses', 'to', 'lie', 'concealed', 'it', 'is', 'no', 'direct', 'business', 'of', 'yours', 'We', 'have', 'no', 'excuse', 'for', 'an', 'intrusion', 'upon', 'his', 'privacy', 'until', 'we', 'have', 'some', 'reason', 'to', 'think', 'that', 'there', 'is', 'a', 'guilty', 'reason', 'for', 'it', 'I', 've', 'taken', 'up', 'the', 'matter', 'and', 'I', 'won', 't', 'lose', 'sight', 'of', 'it', 'Report', 'to', 'me', 'if', 'anything', 'fresh', 'occurs', 'and', 'rely', 'upon', 'my', 'assistance', 'if', 'it', 'should', 'be', 'needed', 'There', 'are', 'certainly', 'some', 'points', 'of', 'interest', 'in', 'this', 'case', 'Watson', 'he', 'remarked', 'when', 'the', 'landlady', 'had', 'left', 'us', 'It', 'may', 'of', 'course', 'be', 'trivial', 'individual', 'eccentricity', 'or', 'it', 'may', 'be', 'very', 'much', 'deeper', 'than', 'appears', 'on', 'the', 'surface', 'The', 'first', 'thing', 'that', 'strikes', 'one', 'is', 'the', 'obvious', 'possibility', 'that', 'the', 'person', 'now', 'in', 'the', 'rooms', 'may', 'be', 'entirely', 'different', 'from', 'the', 'one', 'who', 'engaged', 'them', 'Why', 'should', 'you', 'think', 'so', 'Well', 'apart', 'from', 'this', 'cigarette', 'end', 'was', 'it', 'not', 'suggestive', 'that', 'the', 'only', 'time', 'the', 'lodger', 'went', 'out', 'was', 'immediately', 'after', 'his', 'taking', 'the', 'rooms', 'He', 'came', 'back', 'or', 'someone', 'came', 'back', 'when', 'all', 'witnesses', 'were', 'out', 'of', 'the', 'way', 'We', 'have', 'no', 'proof', 'that', 'the', 'person', 'who', 'came', 'back', 'was', 'the', 'person', 'who', 'went', 'out', 'Then', 'again', 'the', 'man', 'who', 'took', 'the', 'rooms', 'spoke', 'English', 'well', 'This', 'other', 'however', 'prints', 'match', 'when', 'it', 'should', 'have', 'been', 'matches', 'I', 'can', 'imagine', 'that', 'the', 'word', 'was', 'taken', 'out', 'of', 'a', 'dictionary', 'which', 'would', 'give', 'the', 'noun', 'but', 'not', 'the', 'plural', 'The', 'laconic', 'style', 'may', 'be', 'to', 'conceal', 'the', 'absence', 'of', 'knowledge', 'of', 'English', 'Yes', 'Watson', 'there', 'are', 'good', 'reasons', 'to', 'suspect', 'that', 'there', 'has', 'been', 'a', 'substitution', 'of', 'lodgers', 'But', 'for', 'what', 'possible', 'end', 'Ah', 'there', 'lies', 'our', 'problem', 'There', 'is', 'one', 'rather', 'obvious', 'line', 'of', 'investigation', 'He', 'took', 'down', 'the', 'great', 'book', 'in', 'which', 'day', 'by', 'day', 'he', 'filed', 'the', 'agony', 'columns', 'of', 'the', 'various', 'London', 'journals', 'Dear', 'me', 'said', 'he', 'turning', 'over', 'the', 'pages', 'what', 'a', 'chorus', 'of', 'groans', 'cries', 'and', 'bleatings', 'What', 'a', 'rag', 'bag', 'of', 'singular', 'happenings', 'But', 'surely', 'the', 'most', 'valuable', 'hunting', 'ground', 'that', 'ever', 'was', 'given', 'to', 'a', 'student', 'of', 'the', 'unusual', 'This', 'person', 'is', 'alone', 'and', 'cannot', 'be', 'approached', 'by', 'letter', 'without', 'a', 'breach', 'of', 'that', 'absolute', 'secrecy', 'which', 'is', 'desired', 'How', 'is', 'any', 'news', 'or', 'any', 'message', 'to', 'reach', 'him', 'from', 'without', 'Obviously', 'by', 'advertisement', 'through', 'a', 'newspaper', 'There', 'seems', 'no', 'other', 'way', 'and', 'fortunately', 'we', 'need', 'concern', 'ourselves', 'with', 'the', 'one', 'paper', 'only', 'Here', 'are', 'the', 'Daily', 'Gazette', 'extracts', 'of', 'the', 'last', 'fortnight', 'Lady', 'with', 'a', 'black', 'boa', 'at', 'Prince', 's', 'Skating', 'Club', 'that', 'we', 'may', 'pass', 'Surely', 'Jimmy', 'will', 'not', 'break', 'his', 'mother', 's', 'heart', 'that', 'appears', 'to', 'be', 'irrelevant', 'If', 'the', 'lady', 'who', 'fainted', 'on', 'Brixton', 'bus', 'she', 'does', 'not', 'interest', 'me', 'Every', 'day', 'my', 'heart', 'longs', 'Bleat', 'Watson', 'unmitigated', 'bleat', 'Ah', 'this', 'is', 'a', 'little', 'more', 'possible', 'Listen', 'to', 'this', 'Be', 'patient', 'Will', 'find', 'some', 'sure', 'means', 'of', 'communications', 'Meanwhile', 'this', 'column', 'G', 'That', 'is', 'two', 'days', 'after', 'Mrs', 'Warren', 's', 'lodger', 'arrived', 'It', 'sounds', 'plausible', 'does', 'it', 'not', 'The', 'mysterious', 'one', 'could', 'understand', 'English', 'even', 'if', 'he', 'could', 'not', 'print', 'it', 'Let', 'us', 'see', 'if', 'we', 'can', 'pick', 'up', 'the', 'trace', 'again', 'Yes', 'here', 'we', 'are', 'three', 'days', 'later', 'Am', 'making', 'successful', 'arrangements', 'Patience', 'and', 'prudence', 'The', 'clouds', 'will', 'pass', 'G', 'Nothing', 'for', 'a', 'week', 'after', 'that', 'Then', 'comes', 'something', 'much', 'more', 'definite', 'The', 'path', 'is', 'clearing', 'If', 'I', 'find', 'chance', 'signal', 'message', 'remember', 'code', 'agreed', 'One', 'A', 'two', 'B', 'and', 'so', 'on', 'You', 'will', 'hear', 'soon', 'G', 'That', 'was', 'in', 'yesterday', 's', 'paper', 'and', 'there', 'is', 'nothing', 'in', 'to', 'day', 's', 'It', 's', 'all', 'very', 'appropriate', 'to', 'Mrs', 'Warren', 's', 'lodger', 'If', 'we', 'wait', 'a', 'little', 'Watson', 'I', 'don', 't', 'doubt', 'that', 'the', 'affair', 'will', 'grow', 'more', 'intelligible', 'So', 'it', 'proved', 'for', 'in', 'the', 'morning', 'I', 'found', 'my', 'friend', 'standing', 'on', 'the', 'hearthrug', 'with', 'his', 'back', 'to', 'the', 'fire', 'and', 'a', 'smile', 'of', 'complete', 'satisfaction', 'upon', 'his', 'face', 'How', 's', 'this', 'Watson', 'he', 'cried', 'picking', 'up', 'the', 'paper', 'from', 'the', 'table', 'High', 'red', 'house', 'with', 'white', 'stone', 'facings', 'Third', 'floor', 'Second', 'window', 'left', 'After', 'dusk', 'G', 'That', 'is', 'definite', 'enough', 'I', 'think', 'after', 'breakfast', 'we', 'must', 'make', 'a', 'little', 'reconnaissance', 'of', 'Mrs', 'Warren', 's', 'neighbourhood', 'Ah', 'Mrs', 'Warren', 'what', 'news', 'do', 'you', 'bring', 'us', 'this', 'morning', 'Our', 'client', 'had', 'suddenly', 'burst', 'into', 'the', 'room', 'with', 'an', 'explosive', 'energy', 'which', 'told', 'of', 'some', 'new', 'and', 'momentous', 'development', 'It', 's', 'a', 'police', 'matter', 'Mr', 'Holmes', 'she', 'cried', 'I', 'll', 'have', 'no', 'more', 'of', 'it', 'He', 'shall', 'pack', 'out', 'of', 'there', 'with', 'his', 'baggage', 'I', 'would', 'have', 'gone', 'straight', 'up', 'and', 'told', 'him', 'so', 'only', 'I', 'thought', 'it', 'was', 'but', 'fair', 'to', 'you', 'to', 'take', 'your', 'opinion', 'first', 'But', 'I', 'm', 'at', 'the', 'end', 'of', 'my', 'patience', 'and', 'when', 'it', 'comes', 'to', 'knocking', 'my', 'old', 'man', 'about', 'Knocking', 'Mr', 'Warren', 'about', 'Using', 'him', 'roughly', 'anyway', 'But', 'who', 'used', 'him', 'roughly', 'Ah', 'that', 's', 'what', 'we', 'want', 'to', 'know', 'It', 'was', 'this', 'morning', 'sir', 'Mr', 'Warren', 'is', 'a', 'timekeeper', 'at', 'Morton', 'and', 'Waylight', 's', 'in', 'Tottenham', 'Court', 'Road', 'He', 'has', 'to', 'be', 'out', 'of', 'the', 'house', 'before', 'seven', 'Well', 'this', 'morning', 'he', 'had', 'not', 'gone', 'ten', 'paces', 'down', 'the', 'road', 'when', 'two', 'men', 'came', 'up', 'behind', 'him', 'threw', 'a', 'coat', 'over', 'his', 'head', 'and', 'bundled', 'him', 'into', 'a', 'cab', 'that', 'was', 'beside', 'the', 'curb', 'They', 'drove', 'him', 'an', 'hour', 'and', 'then', 'opened', 'the', 'door', 'and', 'shot', 'him', 'out', 'He', 'lay', 'in', 'the', 'roadway', 'so', 'shaken', 'in', 'his', 'wits', 'that', 'he', 'never', 'saw', 'what', 'became', 'of', 'the', 'cab', 'When', 'he', 'picked', 'himself', 'up', 'he', 'found', 'he', 'was', 'on', 'Hampstead', 'Heath', 'so', 'he', 'took', 'a', 'bus', 'home', 'and', 'there', 'he', 'lies', 'now', 'on', 'his', 'sofa', 'while', 'I', 'came', 'straight', 'round', 'to', 'tell', 'you', 'what', 'had', 'happened', 'Most', 'interesting', 'said', 'Holmes', 'Did', 'he', 'observe', 'the', 'appearance', 'of', 'these', 'men', 'did', 'he', 'hear', 'them', 'talk', 'No', 'he', 'is', 'clean', 'dazed', 'He', 'just', 'knows', 'that', 'he', 'was', 'lifted', 'up', 'as', 'if', 'by', 'magic', 'and', 'dropped', 'as', 'if', 'by', 'magic', 'Two', 'at', 'least', 'were', 'in', 'it', 'and', 'maybe', 'three', 'And', 'you', 'connect', 'this', 'attack', 'with', 'your', 'lodger', 'Well', 'we', 've', 'lived', 'there', 'fifteen', 'years', 'and', 'no', 'such', 'happenings', 'ever', 'came', 'before', 'I', 've', 'had', 'enough', 'of', 'him', 'Money', 's', 'not', 'everything', 'I', 'll', 'have', 'him', 'out', 'of', 'my', 'house', 'before', 'the', 'day', 'is', 'done', 'Wait', 'a', 'bit', 'Mrs', 'Warren', 'Do', 'nothing', 'rash', 'I', 'begin', 'to', 'think', 'that', 'this', 'affair', 'may', 'be', 'very', 'much', 'more', 'important', 'than', 'appeared', 'at', 'first', 'sight', 'It', 'is', 'clear', 'now', 'that', 'some', 'danger', 'is', 'threatening', 'your', 'lodger', 'It', 'is', 'equally', 'clear', 'that', 'his', 'enemies', 'lying', 'in', 'wait', 'for', 'him', 'near', 'your', 'door', 'mistook', 'your', 'husband', 'for', 'him', 'in', 'the', 'foggy', 'morning', 'light', 'On', 'discovering', 'their', 'mistake', 'they', 'released', 'him', 'What', 'they', 'would', 'have', 'done', 'had', 'it', 'not', 'been', 'a', 'mistake', 'we', 'can', 'only', 'conjecture', 'Well', 'what', 'am', 'I', 'to', 'do', 'Mr', 'Holmes', 'I', 'have', 'a', 'great', 'fancy', 'to', 'see', 'this', 'lodger', 'of', 'yours', 'Mrs', 'Warren', 'I', 'don', 't', 'see', 'how', 'that', 'is', 'to', 'be', 'managed', 'unless', 'you', 'break', 'in', 'the', 'door', 'I', 'always', 'hear', 'him', 'unlock', 'it', 'as', 'I', 'go', 'down', 'the', 'stair', 'after', 'I', 'leave', 'the', 'tray', 'He', 'has', 'to', 'take', 'the', 'tray', 'in', 'Surely', 'we', 'could', 'conceal', 'ourselves', 'and', 'see', 'him', 'do', 'it', 'The', 'landlady', 'thought', 'for', 'a', 'moment', 'Well', 'sir', 'there', 's', 'the', 'box', 'room', 'opposite', 'I', 'could', 'arrange', 'a', 'looking', 'glass', 'maybe', 'and', 'if', 'you', 'were', 'behind', 'the', 'door', 'Excellent', 'said', 'Holmes', 'When', 'does', 'he', 'lunch', 'About', 'one', 'sir', 'Then', 'Dr', 'Watson', 'and', 'I', 'will', 'come', 'round', 'in', 'time', 'For', 'the', 'present', 'Mrs', 'Warren', 'good', 'bye', 'At', 'half', 'past', 'twelve', 'we', 'found', 'ourselves', 'upon', 'the', 'steps', 'of', 'Mrs', 'Warren', 's', 'house', 'a', 'high', 'thin', 'yellow', 'brick', 'edifice', 'in', 'Great', 'Orme', 'Street', 'a', 'narrow', 'thoroughfare', 'at', 'the', 'northeast', 'side', 'of', 'the', 'British', 'Museum', 'Standing', 'as', 'it', 'does', 'near', 'the', 'corner', 'of', 'the', 'street', 'it', 'commands', 'a', 'view', 'down', 'Howe', 'Street', 'with', 'its', 'more', 'pretentious', 'houses', 'Holmes', 'pointed', 'with', 'a', 'chuckle', 'to', 'one', 'of', 'these', 'a', 'row', 'of', 'residential', 'flats', 'which', 'projected', 'so', 'that', 'they', 'could', 'not', 'fail', 'to', 'catch', 'the', 'eye', 'See', 'Watson', 'said', 'he', 'High', 'red', 'house', 'with', 'stone', 'facings', 'There', 'is', 'the', 'signal', 'station', 'all', 'right', 'We', 'know', 'the', 'place', 'and', 'we', 'know', 'the', 'code', 'so', 'surely', 'our', 'task', 'should', 'be', 'simple', 'There', 's', 'a', 'to', 'let', 'card', 'in', 'that', 'window', 'It', 'is', 'evidently', 'an', 'empty', 'flat', 'to', 'which', 'the', 'confederate', 'has', 'access', 'Well', 'Mrs', 'Warren', 'what', 'now', 'I', 'have', 'it', 'all', 'ready', 'for', 'you', 'If', 'you', 'will', 'both', 'come', 'up', 'and', 'leave', 'your', 'boots', 'below', 'on', 'the', 'landing', 'I', 'll', 'put', 'you', 'there', 'now', 'It', 'was', 'an', 'excellent', 'hiding', 'place', 'which', 'she', 'had', 'arranged', 'The', 'mirror', 'was', 'so', 'placed', 'that', 'seated', 'in', 'the', 'dark', 'we', 'could', 'very', 'plainly', 'see', 'the', 'door', 'opposite', 'We', 'had', 'hardly', 'settled', 'down', 'in', 'it', 'and', 'Mrs', 'Warren', 'left', 'us', 'when', 'a', 'distant', 'tinkle', 'announced', 'that', 'our', 'mysterious', 'neighbour', 'had', 'rung', 'Presently', 'the', 'landlady', 'appeared', 'with', 'the', 'tray', 'laid', 'it', 'down', 'upon', 'a', 'chair', 'beside', 'the', 'closed', 'door', 'and', 'then', 'treading', 'heavily', 'departed', 'Crouching', 'together', 'in', 'the', 'angle', 'of', 'the', 'door', 'we', 'kept', 'our', 'eyes', 'fixed', 'upon', 'the', 'mirror', 'Suddenly', 'as', 'the', 'landlady', 's', 'footsteps', 'died', 'away', 'there', 'was', 'the', 'creak', 'of', 'a', 'turning', 'key', 'the', 'handle', 'revolved', 'and', 'two', 'thin', 'hands', 'darted', 'out', 'and', 'lifted', 'the', 'tray', 'from', 'the', 'chair', 'An', 'instant', 'later', 'it', 'was', 'hurriedly', 'replaced', 'and', 'I', 'caught', 'a', 'glimpse', 'of', 'a', 'dark', 'beautiful', 'horrified', 'face', 'glaring', 'at', 'the', 'narrow', 'opening', 'of', 'the', 'box', 'room', 'Then', 'the', 'door', 'crashed', 'to', 'the', 'key', 'turned', 'once', 'more', 'and', 'all', 'was', 'silence', 'Holmes', 'twitched', 'my', 'sleeve', 'and', 'together', 'we', 'stole', 'down', 'the', 'stair', 'I', 'will', 'call', 'again', 'in', 'the', 'evening', 'said', 'he', 'to', 'the', 'expectant', 'landlady', 'I', 'think', 'Watson', 'we', 'can', 'discuss', 'this', 'business', 'better', 'in', 'our', 'own', 'quarters', 'My', 'surmise', 'as', 'you', 'saw', 'proved', 'to', 'be', 'correct', 'said', 'he', 'speaking', 'from', 'the', 'depths', 'of', 'his', 'easy', 'chair', 'There', 'has', 'been', 'a', 'substitution', 'of', 'lodgers', 'What', 'I', 'did', 'not', 'foresee', 'is', 'that', 'we', 'should', 'find', 'a', 'woman', 'and', 'no', 'ordinary', 'woman', 'Watson', 'She', 'saw', 'us', 'Well', 'she', 'saw', 'something', 'to', 'alarm', 'her', 'That', 'is', 'certain', 'The', 'general', 'sequence', 'of', 'events', 'is', 'pretty', 'clear', 'is', 'it', 'not', 'A', 'couple', 'seek', 'refuge', 'in', 'London', 'from', 'a', 'very', 'terrible', 'and', 'instant', 'danger', 'The', 'measure', 'of', 'that', 'danger', 'is', 'the', 'rigour', 'of', 'their', 'precautions', 'The', 'man', 'who', 'has', 'some', 'work', 'which', 'he', 'must', 'do', 'desires', 'to', 'leave', 'the', 'woman', 'in', 'absolute', 'safety', 'while', 'he', 'does', 'it', 'It', 'is', 'not', 'an', 'easy', 'problem', 'but', 'he', 'solved', 'it', 'in', 'an', 'original', 'fashion', 'and', 'so', 'effectively', 'that', 'her', 'presence', 'was', 'not', 'even', 'known', 'to', 'the', 'landlady', 'who', 'supplies', 'her', 'with', 'food', 'The', 'printed', 'messages', 'as', 'is', 'now', 'evident', 'were', 'to', 'prevent', 'her', 'sex', 'being', 'discovered', 'by', 'her', 'writing', 'The', 'man', 'cannot', 'come', 'near', 'the', 'woman', 'or', 'he', 'will', 'guide', 'their', 'enemies', 'to', 'her', 'Since', 'he', 'cannot', 'communicate', 'with', 'her', 'direct', 'he', 'has', 'recourse', 'to', 'the', 'agony', 'column', 'of', 'a', 'paper', 'So', 'far', 'all', 'is', 'clear', 'But', 'what', 'is', 'at', 'the', 'root', 'of', 'it', 'Ah', 'yes', 'Watson', 'severely', 'practical', 'as', 'usual', 'What', 'is', 'at', 'the', 'root', 'of', 'it', 'all', 'Mrs', 'Warren', 's', 'whimsical', 'problem', 'enlarges', 'somewhat', 'and', 'assumes', 'a', 'more', 'sinister', 'aspect', 'as', 'we', 'proceed', 'This', 'much', 'we', 'can', 'say', 'that', 'it', 'is', 'no', 'ordinary', 'love', 'escapade', 'You', 'saw', 'the', 'woman', 's', 'face', 'at', 'the', 'sign', 'of', 'danger', 'We', 'have', 'heard', 'too', 'of', 'the', 'attack', 'upon', 'the', 'landlord', 'which', 'was', 'undoubtedly', 'meant', 'for', 'the', 'lodger', 'These', 'alarms', 'and', 'the', 'desperate', 'need', 'for', 'secrecy', 'argue', 'that', 'the', 'matter', 'is', 'one', 'of', 'life', 'or', 'death', 'The', 'attack', 'upon', 'Mr', 'Warren', 'further', 'shows', 'that', 'the', 'enemy', 'whoever', 'they', 'are', 'are', 'themselves', 'not', 'aware', 'of', 'the', 'substitution', 'of', 'the', 'female', 'lodger', 'for', 'the', 'male', 'It', 'is', 'very', 'curious', 'and', 'complex', 'Watson', 'Why', 'should', 'you', 'go', 'further', 'in', 'it', 'What', 'have', 'you', 'to', 'gain', 'from', 'it', 'What', 'indeed', 'It', 'is', 'art', 'for', 'art', 's', 'sake', 'Watson', 'I', 'suppose', 'when', 'you', 'doctored', 'you', 'found', 'yourself', 'studying', 'cases', 'without', 'thought', 'of', 'a', 'fee', 'For', 'my', 'education', 'Holmes', 'Education', 'never', 'ends', 'Watson', 'It', 'is', 'a', 'series', 'of', 'lessons', 'with', 'the', 'greatest', 'for', 'the', 'last', 'This', 'is', 'an', 'instructive', 'case', 'There', 'is', 'neither', 'money', 'nor', 'credit', 'in', 'it', 'and', 'yet', 'one', 'would', 'wish', 'to', 'tidy', 'it', 'up', 'When', 'dusk', 'comes', 'we', 'should', 'find', 'ourselves', 'one', 'stage', 'advanced', 'in', 'our', 'investigation', 'When', 'we', 'returned', 'to', 'Mrs', 'Warren', 's', 'rooms', 'the', 'gloom', 'of', 'a', 'London', 'winter', 'evening', 'had', 'thickened', 'into', 'one', 'gray', 'curtain', 'a', 'dead', 'monotone', 'of', 'colour', 'broken', 'only', 'by', 'the', 'sharp', 'yellow', 'squares', 'of', 'the', 'windows', 'and', 'the', 'blurred', 'haloes', 'of', 'the', 'gas', 'lamps', 'As', 'we', 'peered', 'from', 'the', 'darkened', 'sitting', 'room', 'of', 'the', 'lodging', 'house', 'one', 'more', 'dim', 'light', 'glimmered', 'high', 'up', 'through', 'the', 'obscurity', 'Someone', 'is', 'moving', 'in', 'that', 'room', 'said', 'Holmes', 'in', 'a', 'whisper', 'his', 'gaunt', 'and', 'eager', 'face', 'thrust', 'forward', 'to', 'the', 'window', 'pane', 'Yes', 'I', 'can', 'see', 'his', 'shadow', 'There', 'he', 'is', 'again', 'He', 'has', 'a', 'candle', 'in', 'his', 'hand', 'Now', 'he', 'is', 'peering', 'across', 'He', 'wants', 'to', 'be', 'sure', 'that', 'she', 'is', 'on', 'the', 'lookout', 'Now', 'he', 'begins', 'to', 'flash', 'Take', 'the', 'message', 'also', 'Watson', 'that', 'we', 'may', 'check', 'each', 'other', 'A', 'single', 'flash', 'that', 'is', 'A', 'surely', 'Now', 'then', 'How', 'many', 'did', 'you', 'make', 'it', 'Twenty', 'So', 'did', 'I', 'That', 'should', 'mean', 'T', 'AT', 'that', 's', 'intelligible', 'enough', 'Another', 'T', 'Surely', 'this', 'is', 'the', 'beginning', 'of', 'a', 'second', 'word', 'Now', 'then', 'TENTA', 'Dead', 'stop', 'That', 'can', 't', 'be', 'all', 'Watson', 'ATTENTA', 'gives', 'no', 'sense', 'Nor', 'is', 'it', 'any', 'better', 'as', 'three', 'words', 'AT', 'TEN', 'TA', 'unless', 'T', 'A', 'are', 'a', 'person', 's', 'initials', 'There', 'it', 'goes', 'again', 'What', 's', 'that', 'ATTE', 'why', 'it', 'is', 'the', 'same', 'message', 'over', 'again', 'Curious', 'Watson', 'very', 'curious', 'Now', 'he', 'is', 'off', 'once', 'more', 'AT', 'why', 'he', 'is', 'repeating', 'it', 'for', 'the', 'third', 'time', 'ATTENTA', 'three', 'times', 'How', 'often', 'will', 'he', 'repeat', 'it', 'No', 'that', 'seems', 'to', 'be', 'the', 'finish', 'He', 'has', 'withdrawn', 'from', 'the', 'window', 'What', 'do', 'you', 'make', 'of', 'it', 'Watson', 'A', 'cipher', 'message', 'Holmes', 'My', 'companion', 'gave', 'a', 'sudden', 'chuckle', 'of', 'comprehension', 'And', 'not', 'a', 'very', 'obscure', 'cipher', 'Watson', 'said', 'he', 'Why', 'of', 'course', 'it', 'is', 'Italian', 'The', 'A', 'means', 'that', 'it', 'is', 'addressed', 'to', 'a', 'woman', 'Beware', 'Beware', 'Beware', 'How', 's', 'that', 'Watson', 'I', 'believe', 'you', 'have', 'hit', 'it', 'Not', 'a', 'doubt', 'of', 'it', 'It', 'is', 'a', 'very', 'urgent', 'message', 'thrice', 'repeated', 'to', 'make', 'it', 'more', 'so', 'But', 'beware', 'of', 'what', 'Wait', 'a', 'bit', 'he', 'is', 'coming', 'to', 'the', 'window', 'once', 'more', 'Again', 'we', 'saw', 'the', 'dim', 'silhouette', 'of', 'a', 'crouching', 'man', 'and', 'the', 'whisk', 'of', 'the', 'small', 'flame', 'across', 'the', 'window', 'as', 'the', 'signals', 'were', 'renewed', 'They', 'came', 'more', 'rapidly', 'than', 'before', 'so', 'rapid', 'that', 'it', 'was', 'hard', 'to', 'follow', 'them', 'PERICOLO', 'pericolo', 'eh', 'what', 's', 'that', 'Watson', 'Danger', 'isn', 't', 'it', 'Yes', 'by', 'Jove', 'it', 's', 'a', 'danger', 'signal', 'There', 'he', 'goes', 'again', 'PERI', 'Halloa', 'what', 'on', 'earth', 'The', 'light', 'had', 'suddenly', 'gone', 'out', 'the', 'glimmering', 'square', 'of', 'window', 'had', 'disappeared', 'and', 'the', 'third', 'floor', 'formed', 'a', 'dark', 'band', 'round', 'the', 'lofty', 'building', 'with', 'its', 'tiers', 'of', 'shining', 'casements', 'That', 'last', 'warning', 'cry', 'had', 'been', 'suddenly', 'cut', 'short', 'How', 'and', 'by', 'whom', 'The', 'same', 'thought', 'occurred', 'on', 'the', 'instant', 'to', 'us', 'both', 'Holmes', 'sprang', 'up', 'from', 'where', 'he', 'crouched', 'by', 'the', 'window', 'This', 'is', 'serious', 'Watson', 'he', 'cried', 'There', 'is', 'some', 'devilry', 'going', 'forward', 'Why', 'should', 'such', 'a', 'message', 'stop', 'in', 'such', 'a', 'way', 'I', 'should', 'put', 'Scotland', 'Yard', 'in', 'touch', 'with', 'this', 'business', 'and', 'yet', 'it', 'is', 'too', 'pressing', 'for', 'us', 'to', 'leave', 'Shall', 'I', 'go', 'for', 'the', 'police', 'We', 'must', 'define', 'the', 'situation', 'a', 'little', 'more', 'clearly', 'It', 'may', 'bear', 'some', 'more', 'innocent', 'interpretation', 'Come', 'Watson', 'let', 'us', 'go', 'across', 'ourselves', 'and', 'see', 'what', 'we', 'can', 'make', 'of', 'it', 'Two', 'As', 'we', 'walked', 'rapidly', 'down', 'Howe', 'Street', 'I', 'glanced', 'back', 'at', 'the', 'building', 'which', 'we', 'had', 'left', 'There', 'dimly', 'outlined', 'at', 'the', 'top', 'window', 'I', 'could', 'see', 'the', 'shadow', 'of', 'a', 'head', 'a', 'woman', 's', 'head', 'gazing', 'tensely', 'rigidly', 'out', 'into', 'the', 'night', 'waiting', 'with', 'breathless', 'suspense', 'for', 'the', 'renewal', 'of', 'that', 'interrupted', 'message', 'At', 'the', 'doorway', 'of', 'the', 'Howe', 'Street', 'flats', 'a', 'man', 'muffled', 'in', 'a', 'cravat', 'and', 'greatcoat', 'was', 'leaning', 'against', 'the', 'railing', 'He', 'started', 'as', 'the', 'hall', 'light', 'fell', 'upon', 'our', 'faces', 'Holmes', 'he', 'cried', 'Why', 'Gregson', 'said', 'my', 'companion', 'as', 'he', 'shook', 'hands', 'with', 'the', 'Scotland', 'Yard', 'detective', 'Journeys', 'end', 'with', 'lovers', 'meetings', 'What', 'brings', 'you', 'here', 'The', 'same', 'reasons', 'that', 'bring', 'you', 'I', 'expect', 'said', 'Gregson', 'How', 'you', 'got', 'on', 'to', 'it', 'I', 'can', 't', 'imagine', 'Different', 'threads', 'but', 'leading', 'up', 'to', 'the', 'same', 'tangle', 'I', 've', 'been', 'taking', 'the', 'signals', 'Signals', 'Yes', 'from', 'that', 'window', 'They', 'broke', 'off', 'in', 'the', 'middle', 'We', 'came', 'over', 'to', 'see', 'the', 'reason', 'But', 'since', 'it', 'is', 'safe', 'in', 'your', 'hands', 'I', 'see', 'no', 'object', 'in', 'continuing', 'this', 'business', 'Wait', 'a', 'bit', 'cried', 'Gregson', 'eagerly', 'I', 'll', 'do', 'you', 'this', 'justice', 'Mr', 'Holmes', 'that', 'I', 'was', 'never', 'in', 'a', 'case', 'yet', 'that', 'I', 'didn', 't', 'feel', 'stronger', 'for', 'having', 'you', 'on', 'my', 'side', 'There', 's', 'only', 'the', 'one', 'exit', 'to', 'these', 'flats', 'so', 'we', 'have', 'him', 'safe', 'Who', 'is', 'he', 'Well', 'well', 'we', 'score', 'over', 'you', 'for', 'once', 'Mr', 'Holmes', 'You', 'must', 'give', 'us', 'best', 'this', 'time', 'He', 'struck', 'his', 'stick', 'sharply', 'upon', 'the', 'ground', 'on', 'which', 'a', 'cabman', 'his', 'whip', 'in', 'his', 'hand', 'sauntered', 'over', 'from', 'a', 'four', 'wheeler', 'which', 'stood', 'on', 'the', 'far', 'side', 'of', 'the', 'street', 'May', 'I', 'introduce', 'you', 'to', 'Mr', 'Sherlock', 'Holmes', 'he', 'said', 'to', 'the', 'cabman', 'This', 'is', 'Mr', 'Leverton', 'of', 'Pinkerton', 's', 'American', 'Agency', 'The', 'hero', 'of', 'the', 'Long', 'Island', 'cave', 'mystery', 'said', 'Holmes', 'Sir', 'I', 'am', 'pleased', 'to', 'meet', 'you', 'The', 'American', 'a', 'quiet', 'businesslike', 'young', 'man', 'with', 'a', 'clean', 'shaven', 'hatchet', 'face', 'flushed', 'up', 'at', 'the', 'words', 'of', 'commendation', 'I', 'am', 'on', 'the', 'trail', 'of', 'my', 'life', 'now', 'Mr', 'Holmes', 'said', 'he', 'If', 'I', 'can', 'get', 'Gorgiano', 'What', 'Gorgiano', 'of', 'the', 'Red', 'Circle', 'Oh', 'he', 'has', 'a', 'European', 'fame', 'has', 'he', 'Well', 'we', 've', 'learned', 'all', 'about', 'him', 'in', 'America', 'We', 'KNOW', 'he', 'is', 'at', 'the', 'bottom', 'of', 'fifty', 'murders', 'and', 'yet', 'we', 'have', 'nothing', 'positive', 'we', 'can', 'take', 'him', 'on', 'I', 'tracked', 'him', 'over', 'from', 'New', 'York', 'and', 'I', 've', 'been', 'close', 'to', 'him', 'for', 'a', 'week', 'in', 'London', 'waiting', 'some', 'excuse', 'to', 'get', 'my', 'hand', 'on', 'his', 'collar', 'Mr', 'Gregson', 'and', 'I', 'ran', 'him', 'to', 'ground', 'in', 'that', 'big', 'tenement', 'house', 'and', 'there', 's', 'only', 'one', 'door', 'so', 'he', 'can', 't', 'slip', 'us', 'There', 's', 'three', 'folk', 'come', 'out', 'since', 'he', 'went', 'in', 'but', 'I', 'll', 'swear', 'he', 'wasn', 't', 'one', 'of', 'them', 'Mr', 'Holmes', 'talks', 'of', 'signals', 'said', 'Gregson', 'I', 'expect', 'as', 'usual', 'he', 'knows', 'a', 'good', 'deal', 'that', 'we', 'don', 't', 'In', 'a', 'few', 'clear', 'words', 'Holmes', 'explained', 'the', 'situation', 'as', 'it', 'had', 'appeared', 'to', 'us', 'The', 'American', 'struck', 'his', 'hands', 'together', 'with', 'vexation', 'He', 's', 'on', 'to', 'us', 'he', 'cried', 'Why', 'do', 'you', 'think', 'so', 'Well', 'it', 'figures', 'out', 'that', 'way', 'does', 'it', 'not', 'Here', 'he', 'is', 'sending', 'out', 'messages', 'to', 'an', 'accomplice', 'there', 'are', 'several', 'of', 'his', 'gang', 'in', 'London', 'Then', 'suddenly', 'just', 'as', 'by', 'your', 'own', 'account', 'he', 'was', 'telling', 'them', 'that', 'there', 'was', 'danger', 'he', 'broke', 'short', 'off', 'What', 'could', 'it', 'mean', 'except', 'that', 'from', 'the', 'window', 'he', 'had', 'suddenly', 'either', 'caught', 'sight', 'of', 'us', 'in', 'the', 'street', 'or', 'in', 'some', 'way', 'come', 'to', 'understand', 'how', 'close', 'the', 'danger', 'was', 'and', 'that', 'he', 'must', 'act', 'right', 'away', 'if', 'he', 'was', 'to', 'avoid', 'it', 'What', 'do', 'you', 'suggest', 'Mr', 'Holmes', 'That', 'we', 'go', 'up', 'at', 'once', 'and', 'see', 'for', 'ourselves', 'But', 'we', 'have', 'no', 'warrant', 'for', 'his', 'arrest', 'He', 'is', 'in', 'unoccupied', 'premises', 'under', 'suspicious', 'circumstances', 'said', 'Gregson', 'That', 'is', 'good', 'enough', 'for', 'the', 'moment', 'When', 'we', 'have', 'him', 'by', 'the', 'heels', 'we', 'can', 'see', 'if', 'New', 'York', 'can', 't', 'help', 'us', 'to', 'keep', 'him', 'I', 'll', 'take', 'the', 'responsibility', 'of', 'arresting', 'him', 'now', 'Our', 'official', 'detectives', 'may', 'blunder', 'in', 'the', 'matter', 'of', 'intelligence', 'but', 'never', 'in', 'that', 'of', 'courage', 'Gregson', 'climbed', 'the', 'stair', 'to', 'arrest', 'this', 'desperate', 'murderer', 'with', 'the', 'same', 'absolutely', 'quiet', 'and', 'businesslike', 'bearing', 'with', 'which', 'he', 'would', 'have', 'ascended', 'the', 'official', 'staircase', 'of', 'Scotland', 'Yard', 'The', 'Pinkerton', 'man', 'had', 'tried', 'to', 'push', 'past', 'him', 'but', 'Gregson', 'had', 'firmly', 'elbowed', 'him', 'back', 'London', 'dangers', 'were', 'the', 'privilege', 'of', 'the', 'London', 'force', 'The', 'door', 'of', 'the', 'left', 'hand', 'flat', 'upon', 'the', 'third', 'landing', 'was', 'standing', 'ajar', 'Gregson', 'pushed', 'it', 'open', 'Within', 'all', 'was', 'absolute', 'silence', 'and', 'darkness', 'I', 'struck', 'a', 'match', 'and', 'lit', 'the', 'detective', 's', 'lantern', 'As', 'I', 'did', 'so', 'and', 'as', 'the', 'flicker', 'steadied', 'into', 'a', 'flame', 'we', 'all', 'gave', 'a', 'gasp', 'of', 'surprise', 'On', 'the', 'deal', 'boards', 'of', 'the', 'carpetless', 'floor', 'there', 'was', 'outlined', 'a', 'fresh', 'track', 'of', 'blood', 'The', 'red', 'steps', 'pointed', 'towards', 'us', 'and', 'led', 'away', 'from', 'an', 'inner', 'room', 'the', 'door', 'of', 'which', 'was', 'closed', 'Gregson', 'flung', 'it', 'open', 'and', 'held', 'his', 'light', 'full', 'blaze', 'in', 'front', 'of', 'him', 'while', 'we', 'all', 'peered', 'eagerly', 'over', 'his', 'shoulders', 'In', 'the', 'middle', 'of', 'the', 'floor', 'of', 'the', 'empty', 'room', 'was', 'huddled', 'the', 'figure', 'of', 'an', 'enormous', 'man', 'his', 'clean', 'shaven', 'swarthy', 'face', 'grotesquely', 'horrible', 'in', 'its', 'contortion', 'and', 'his', 'head', 'encircled', 'by', 'a', 'ghastly', 'crimson', 'halo', 'of', 'blood', 'lying', 'in', 'a', 'broad', 'wet', 'circle', 'upon', 'the', 'white', 'woodwork', 'His', 'knees', 'were', 'drawn', 'up', 'his', 'hands', 'thrown', 'out', 'in', 'agony', 'and', 'from', 'the', 'centre', 'of', 'his', 'broad', 'brown', 'upturned', 'throat', 'there', 'projected', 'the', 'white', 'haft', 'of', 'a', 'knife', 'driven', 'blade', 'deep', 'into', 'his', 'body', 'Giant', 'as', 'he', 'was', 'the', 'man', 'must', 'have', 'gone', 'down', 'like', 'a', 'pole', 'axed', 'ox', 'before', 'that', 'terrific', 'blow', 'Beside', 'his', 'right', 'hand', 'a', 'most', 'formidable', 'horn', 'handled', 'two', 'edged', 'dagger', 'lay', 'upon', 'the', 'floor', 'and', 'near', 'it', 'a', 'black', 'kid', 'glove', 'By', 'George', 'it', 's', 'Black', 'Gorgiano', 'himself', 'cried', 'the', 'American', 'detective', 'Someone', 'has', 'got', 'ahead', 'of', 'us', 'this', 'time', 'Here', 'is', 'the', 'candle', 'in', 'the', 'window', 'Mr', 'Holmes', 'said', 'Gregson', 'Why', 'whatever', 'are', 'you', 'doing', 'Holmes', 'had', 'stepped', 'across', 'had', 'lit', 'the', 'candle', 'and', 'was', 'passing', 'it', 'backward', 'and', 'forward', 'across', 'the', 'window', 'panes', 'Then', 'he', 'peered', 'into', 'the', 'darkness', 'blew', 'the', 'candle', 'out', 'and', 'threw', 'it', 'on', 'the', 'floor', 'I', 'rather', 'think', 'that', 'will', 'be', 'helpful', 'said', 'he', 'He', 'came', 'over', 'and', 'stood', 'in', 'deep', 'thought', 'while', 'the', 'two', 'professionals', 'were', 'examining', 'the', 'body', 'You', 'say', 'that', 'three', 'people', 'came', 'out', 'from', 'the', 'flat', 'while', 'you', 'were', 'waiting', 'downstairs', 'said', 'he', 'at', 'last', 'Did', 'you', 'observe', 'them', 'closely', 'Yes', 'I', 'did', 'Was', 'there', 'a', 'fellow', 'about', 'thirty', 'black', 'bearded', 'dark', 'of', 'middle', 'size', 'Yes', 'he', 'was', 'the', 'last', 'to', 'pass', 'me', 'That', 'is', 'your', 'man', 'I', 'fancy', 'I', 'can', 'give', 'you', 'his', 'description', 'and', 'we', 'have', 'a', 'very', 'excellent', 'outline', 'of', 'his', 'footmark', 'That', 'should', 'be', 'enough', 'for', 'you', 'Not', 'much', 'Mr', 'Holmes', 'among', 'the', 'millions', 'of', 'London', 'Perhaps', 'not', 'That', 'is', 'why', 'I', 'thought', 'it', 'best', 'to', 'summon', 'this', 'lady', 'to', 'your', 'aid', 'We', 'all', 'turned', 'round', 'at', 'the', 'words', 'There', 'framed', 'in', 'the', 'doorway', 'was', 'a', 'tall', 'and', 'beautiful', 'woman', 'the', 'mysterious', 'lodger', 'of', 'Bloomsbury', 'Slowly', 'she', 'advanced', 'her', 'face', 'pale', 'and', 'drawn', 'with', 'a', 'frightful', 'apprehension', 'her', 'eyes', 'fixed', 'and', 'staring', 'her', 'terrified', 'gaze', 'riveted', 'upon', 'the', 'dark', 'figure', 'on', 'the', 'floor', 'You', 'have', 'killed', 'him', 'she', 'muttered', 'Oh', 'Dio', 'mio', 'you', 'have', 'killed', 'him', 'Then', 'I', 'heard', 'a', 'sudden', 'sharp', 'intake', 'of', 'her', 'breath', 'and', 'she', 'sprang', 'into', 'the', 'air', 'with', 'a', 'cry', 'of', 'joy', 'Round', 'and', 'round', 'the', 'room', 'she', 'danced', 'her', 'hands', 'clapping', 'her', 'dark', 'eyes', 'gleaming', 'with', 'delighted', 'wonder', 'and', 'a', 'thousand', 'pretty', 'Italian', 'exclamations', 'pouring', 'from', 'her', 'lips', 'It', 'was', 'terrible', 'and', 'amazing', 'to', 'see', 'such', 'a', 'woman', 'so', 'convulsed', 'with', 'joy', 'at', 'such', 'a', 'sight', 'Suddenly', 'she', 'stopped', 'and', 'gazed', 'at', 'us', 'all', 'with', 'a', 'questioning', 'stare', 'But', 'you', 'You', 'are', 'police', 'are', 'you', 'not', 'You', 'have', 'killed', 'Giuseppe', 'Gorgiano', 'Is', 'it', 'not', 'so', 'We', 'are', 'police', 'madam', 'She', 'looked', 'round', 'into', 'the', 'shadows', 'of', 'the', 'room', 'But', 'where', 'then', 'is', 'Gennaro', 'she', 'asked', 'He', 'is', 'my', 'husband', 'Gennaro', 'Lucca', 'I', 'am', 'Emilia', 'Lucca', 'and', 'we', 'are', 'both', 'from', 'New', 'York', 'Where', 'is', 'Gennaro', 'He', 'called', 'me', 'this', 'moment', 'from', 'this', 'window', 'and', 'I', 'ran', 'with', 'all', 'my', 'speed', 'It', 'was', 'I', 'who', 'called', 'said', 'Holmes', 'You', 'How', 'could', 'you', 'call', 'Your', 'cipher', 'was', 'not', 'difficult', 'madam', 'Your', 'presence', 'here', 'was', 'desirable', 'I', 'knew', 'that', 'I', 'had', 'only', 'to', 'flash', 'Vieni', 'and', 'you', 'would', 'surely', 'come', 'The', 'beautiful', 'Italian', 'looked', 'with', 'awe', 'at', 'my', 'companion', 'I', 'do', 'not', 'understand', 'how', 'you', 'know', 'these', 'things', 'she', 'said', 'Giuseppe', 'Gorgiano', 'how', 'did', 'he', 'She', 'paused', 'and', 'then', 'suddenly', 'her', 'face', 'lit', 'up', 'with', 'pride', 'and', 'delight', 'Now', 'I', 'see', 'it', 'My', 'Gennaro', 'My', 'splendid', 'beautiful', 'Gennaro', 'who', 'has', 'guarded', 'me', 'safe', 'from', 'all', 'harm', 'he', 'did', 'it', 'with', 'his', 'own', 'strong', 'hand', 'he', 'killed', 'the', 'monster', 'Oh', 'Gennaro', 'how', 'wonderful', 'you', 'are', 'What', 'woman', 'could', 'ever', 'be', 'worthy', 'of', 'such', 'a', 'man', 'Well', 'Mrs', 'Lucca', 'said', 'the', 'prosaic', 'Gregson', 'laying', 'his', 'hand', 'upon', 'the', 'lady', 's', 'sleeve', 'with', 'as', 'little', 'sentiment', 'as', 'if', 'she', 'were', 'a', 'Notting', 'Hill', 'hooligan', 'I', 'am', 'not', 'very', 'clear', 'yet', 'who', 'you', 'are', 'or', 'what', 'you', 'are', 'but', 'you', 've', 'said', 'enough', 'to', 'make', 'it', 'very', 'clear', 'that', 'we', 'shall', 'want', 'you', 'at', 'the', 'Yard', 'One', 'moment', 'Gregson', 'said', 'Holmes', 'I', 'rather', 'fancy', 'that', 'this', 'lady', 'may', 'be', 'as', 'anxious', 'to', 'give', 'us', 'information', 'as', 'we', 'can', 'be', 'to', 'get', 'it', 'You', 'understand', 'madam', 'that', 'your', 'husband', 'will', 'be', 'arrested', 'and', 'tried', 'for', 'the', 'death', 'of', 'the', 'man', 'who', 'lies', 'before', 'us', 'What', 'you', 'say', 'may', 'be', 'used', 'in', 'evidence', 'But', 'if', 'you', 'think', 'that', 'he', 'has', 'acted', 'from', 'motives', 'which', 'are', 'not', 'criminal', 'and', 'which', 'he', 'would', 'wish', 'to', 'have', 'known', 'then', 'you', 'cannot', 'serve', 'him', 'better', 'than', 'by', 'telling', 'us', 'the', 'whole', 'story', 'Now', 'that', 'Gorgiano', 'is', 'dead', 'we', 'fear', 'nothing', 'said', 'the', 'lady', 'He', 'was', 'a', 'devil', 'and', 'a', 'monster', 'and', 'there', 'can', 'be', 'no', 'judge', 'in', 'the', 'world', 'who', 'would', 'punish', 'my', 'husband', 'for', 'having', 'killed', 'him', 'In', 'that', 'case', 'said', 'Holmes', 'my', 'suggestion', 'is', 'that', 'we', 'lock', 'this', 'door', 'leave', 'things', 'as', 'we', 'found', 'them', 'go', 'with', 'this', 'lady', 'to', 'her', 'room', 'and', 'form', 'our', 'opinion', 'after', 'we', 'have', 'heard', 'what', 'it', 'is', 'that', 'she', 'has', 'to', 'say', 'to', 'us', 'Half', 'an', 'hour', 'later', 'we', 'were', 'seated', 'all', 'four', 'in', 'the', 'small', 'sitting', 'room', 'of', 'Signora', 'Lucca', 'listening', 'to', 'her', 'remarkable', 'narrative', 'of', 'those', 'sinister', 'events', 'the', 'ending', 'of', 'which', 'we', 'had', 'chanced', 'to', 'witness', 'She', 'spoke', 'in', 'rapid', 'and', 'fluent', 'but', 'very', 'unconventional', 'English', 'which', 'for', 'the', 'sake', 'of', 'clearness', 'I', 'will', 'make', 'grammatical', 'I', 'was', 'born', 'in', 'Posilippo', 'near', 'Naples', 'said', 'she', 'and', 'was', 'the', 'daughter', 'of', 'Augusto', 'Barelli', 'who', 'was', 'the', 'chief', 'lawyer', 'and', 'once', 'the', 'deputy', 'of', 'that', 'part', 'Gennaro', 'was', 'in', 'my', 'father', 's', 'employment', 'and', 'I', 'came', 'to', 'love', 'him', 'as', 'any', 'woman', 'must', 'He', 'had', 'neither', 'money', 'nor', 'position', 'nothing', 'but', 'his', 'beauty', 'and', 'strength', 'and', 'energy', 'so', 'my', 'father', 'forbade', 'the', 'match', 'We', 'fled', 'together', 'were', 'married', 'at', 'Bari', 'and', 'sold', 'my', 'jewels', 'to', 'gain', 'the', 'money', 'which', 'would', 'take', 'us', 'to', 'America', 'This', 'was', 'four', 'years', 'ago', 'and', 'we', 'have', 'been', 'in', 'New', 'York', 'ever', 'since', 'Fortune', 'was', 'very', 'good', 'to', 'us', 'at', 'first', 'Gennaro', 'was', 'able', 'to', 'do', 'a', 'service', 'to', 'an', 'Italian', 'gentleman', 'he', 'saved', 'him', 'from', 'some', 'ruffians', 'in', 'the', 'place', 'called', 'the', 'Bowery', 'and', 'so', 'made', 'a', 'powerful', 'friend', 'His', 'name', 'was', 'Tito', 'Castalotte', 'and', 'he', 'was', 'the', 'senior', 'partner', 'of', 'the', 'great', 'firm', 'of', 'Castalotte', 'and', 'Zamba', 'who', 'are', 'the', 'chief', 'fruit', 'importers', 'of', 'New', 'York', 'Signor', 'Zamba', 'is', 'an', 'invalid', 'and', 'our', 'new', 'friend', 'Castalotte', 'has', 'all', 'power', 'within', 'the', 'firm', 'which', 'employs', 'more', 'than', 'three', 'hundred', 'men', 'He', 'took', 'my', 'husband', 'into', 'his', 'employment', 'made', 'him', 'head', 'of', 'a', 'department', 'and', 'showed', 'his', 'good', 'will', 'towards', 'him', 'in', 'every', 'way', 'Signor', 'Castalotte', 'was', 'a', 'bachelor', 'and', 'I', 'believe', 'that', 'he', 'felt', 'as', 'if', 'Gennaro', 'was', 'his', 'son', 'and', 'both', 'my', 'husband', 'and', 'I', 'loved', 'him', 'as', 'if', 'he', 'were', 'our', 'father', 'We', 'had', 'taken', 'and', 'furnished', 'a', 'little', 'house', 'in', 'Brooklyn', 'and', 'our', 'whole', 'future', 'seemed', 'assured', 'when', 'that', 'black', 'cloud', 'appeared', 'which', 'was', 'soon', 'to', 'overspread', 'our', 'sky', 'One', 'night', 'when', 'Gennaro', 'returned', 'from', 'his', 'work', 'he', 'brought', 'a', 'fellow', 'countryman', 'back', 'with', 'him', 'His', 'name', 'was', 'Gorgiano', 'and', 'he', 'had', 'come', 'also', 'from', 'Posilippo', 'He', 'was', 'a', 'huge', 'man', 'as', 'you', 'can', 'testify', 'for', 'you', 'have', 'looked', 'upon', 'his', 'corpse', 'Not', 'only', 'was', 'his', 'body', 'that', 'of', 'a', 'giant', 'but', 'everything', 'about', 'him', 'was', 'grotesque', 'gigantic', 'and', 'terrifying', 'His', 'voice', 'was', 'like', 'thunder', 'in', 'our', 'little', 'house', 'There', 'was', 'scarce', 'room', 'for', 'the', 'whirl', 'of', 'his', 'great', 'arms', 'as', 'he', 'talked', 'His', 'thoughts', 'his', 'emotions', 'his', 'passions', 'all', 'were', 'exaggerated', 'and', 'monstrous', 'He', 'talked', 'or', 'rather', 'roared', 'with', 'such', 'energy', 'that', 'others', 'could', 'but', 'sit', 'and', 'listen', 'cowed', 'with', 'the', 'mighty', 'stream', 'of', 'words', 'His', 'eyes', 'blazed', 'at', 'you', 'and', 'held', 'you', 'at', 'his', 'mercy', 'He', 'was', 'a', 'terrible', 'and', 'wonderful', 'man', 'I', 'thank', 'God', 'that', 'he', 'is', 'dead', 'He', 'came', 'again', 'and', 'again', 'Yet', 'I', 'was', 'aware', 'that', 'Gennaro', 'was', 'no', 'more', 'happy', 'than', 'I', 'was', 'in', 'his', 'presence', 'My', 'poor', 'husband', 'would', 'sit', 'pale', 'and', 'listless', 'listening', 'to', 'the', 'endless', 'raving', 'upon', 'politics', 'and', 'upon', 'social', 'questions', 'which', 'made', 'up', 'our', 'visitor', 's', 'conversation', 'Gennaro', 'said', 'nothing', 'but', 'I', 'who', 'knew', 'him', 'so', 'well', 'could', 'read', 'in', 'his', 'face', 'some', 'emotion', 'which', 'I', 'had', 'never', 'seen', 'there', 'before', 'At', 'first', 'I', 'thought', 'that', 'it', 'was', 'dislike', 'And', 'then', 'gradually', 'I', 'understood', 'that', 'it', 'was', 'more', 'than', 'dislike', 'It', 'was', 'fear', 'a', 'deep', 'secret', 'shrinking', 'fear', 'That', 'night', 'the', 'night', 'that', 'I', 'read', 'his', 'terror', 'I', 'put', 'my', 'arms', 'round', 'him', 'and', 'I', 'implored', 'him', 'by', 'his', 'love', 'for', 'me', 'and', 'by', 'all', 'that', 'he', 'held', 'dear', 'to', 'hold', 'nothing', 'from', 'me', 'and', 'to', 'tell', 'me', 'why', 'this', 'huge', 'man', 'overshadowed', 'him', 'so', 'He', 'told', 'me', 'and', 'my', 'own', 'heart', 'grew', 'cold', 'as', 'ice', 'as', 'I', 'listened', 'My', 'poor', 'Gennaro', 'in', 'his', 'wild', 'and', 'fiery', 'days', 'when', 'all', 'the', 'world', 'seemed', 'against', 'him', 'and', 'his', 'mind', 'was', 'driven', 'half', 'mad', 'by', 'the', 'injustices', 'of', 'life', 'had', 'joined', 'a', 'Neapolitan', 'society', 'the', 'Red', 'Circle', 'which', 'was', 'allied', 'to', 'the', 'old', 'Carbonari', 'The', 'oaths', 'and', 'secrets', 'of', 'this', 'brotherhood', 'were', 'frightful', 'but', 'once', 'within', 'its', 'rule', 'no', 'escape', 'was', 'possible', 'When', 'we', 'had', 'fled', 'to', 'America', 'Gennaro', 'thought', 'that', 'he', 'had', 'cast', 'it', 'all', 'off', 'forever', 'What', 'was', 'his', 'horror', 'one', 'evening', 'to', 'meet', 'in', 'the', 'streets', 'the', 'very', 'man', 'who', 'had', 'initiated', 'him', 'in', 'Naples', 'the', 'giant', 'Gorgiano', 'a', 'man', 'who', 'had', 'earned', 'the', 'name', 'of', 'Death', 'in', 'the', 'south', 'of', 'Italy', 'for', 'he', 'was', 'red', 'to', 'the', 'elbow', 'in', 'murder', 'He', 'had', 'come', 'to', 'New', 'York', 'to', 'avoid', 'the', 'Italian', 'police', 'and', 'he', 'had', 'already', 'planted', 'a', 'branch', 'of', 'this', 'dreadful', 'society', 'in', 'his', 'new', 'home', 'All', 'this', 'Gennaro', 'told', 'me', 'and', 'showed', 'me', 'a', 'summons', 'which', 'he', 'had', 'received', 'that', 'very', 'day', 'a', 'Red', 'Circle', 'drawn', 'upon', 'the', 'head', 'of', 'it', 'telling', 'him', 'that', 'a', 'lodge', 'would', 'be', 'held', 'upon', 'a', 'certain', 'date', 'and', 'that', 'his', 'presence', 'at', 'it', 'was', 'required', 'and', 'ordered', 'That', 'was', 'bad', 'enough', 'but', 'worse', 'was', 'to', 'come', 'I', 'had', 'noticed', 'for', 'some', 'time', 'that', 'when', 'Gorgiano', 'came', 'to', 'us', 'as', 'he', 'constantly', 'did', 'in', 'the', 'evening', 'he', 'spoke', 'much', 'to', 'me', 'and', 'even', 'when', 'his', 'words', 'were', 'to', 'my', 'husband', 'those', 'terrible', 'glaring', 'wild', 'beast', 'eyes', 'of', 'his', 'were', 'always', 'turned', 'upon', 'me', 'One', 'night', 'his', 'secret', 'came', 'out', 'I', 'had', 'awakened', 'what', 'he', 'called', 'love', 'within', 'him', 'the', 'love', 'of', 'a', 'brute', 'a', 'savage', 'Gennaro', 'had', 'not', 'yet', 'returned', 'when', 'he', 'came', 'He', 'pushed', 'his', 'way', 'in', 'seized', 'me', 'in', 'his', 'mighty', 'arms', 'hugged', 'me', 'in', 'his', 'bear', 's', 'embrace', 'covered', 'me', 'with', 'kisses', 'and', 'implored', 'me', 'to', 'come', 'away', 'with', 'him', 'I', 'was', 'struggling', 'and', 'screaming', 'when', 'Gennaro', 'entered', 'and', 'attacked', 'him', 'He', 'struck', 'Gennaro', 'senseless', 'and', 'fled', 'from', 'the', 'house', 'which', 'he', 'was', 'never', 'more', 'to', 'enter', 'It', 'was', 'a', 'deadly', 'enemy', 'that', 'we', 'made', 'that', 'night', 'A', 'few', 'days', 'later', 'came', 'the', 'meeting', 'Gennaro', 'returned', 'from', 'it', 'with', 'a', 'face', 'which', 'told', 'me', 'that', 'something', 'dreadful', 'had', 'occurred', 'It', 'was', 'worse', 'than', 'we', 'could', 'have', 'imagined', 'possible', 'The', 'funds', 'of', 'the', 'society', 'were', 'raised', 'by', 'blackmailing', 'rich', 'Italians', 'and', 'threatening', 'them', 'with', 'violence', 'should', 'they', 'refuse', 'the', 'money', 'It', 'seems', 'that', 'Castalotte', 'our', 'dear', 'friend', 'and', 'benefactor', 'had', 'been', 'approached', 'He', 'had', 'refused', 'to', 'yield', 'to', 'threats', 'and', 'he', 'had', 'handed', 'the', 'notices', 'to', 'the', 'police', 'It', 'was', 'resolved', 'now', 'that', 'such', 'an', 'example', 'should', 'be', 'made', 'of', 'them', 'as', 'would', 'prevent', 'any', 'other', 'victim', 'from', 'rebelling', 'At', 'the', 'meeting', 'it', 'was', 'arranged', 'that', 'he', 'and', 'his', 'house', 'should', 'be', 'blown', 'up', 'with', 'dynamite', 'There', 'was', 'a', 'drawing', 'of', 'lots', 'as', 'to', 'who', 'should', 'carry', 'out', 'the', 'deed', 'Gennaro', 'saw', 'our', 'enemy', 's', 'cruel', 'face', 'smiling', 'at', 'him', 'as', 'he', 'dipped', 'his', 'hand', 'in', 'the', 'bag', 'No', 'doubt', 'it', 'had', 'been', 'prearranged', 'in', 'some', 'fashion', 'for', 'it', 'was', 'the', 'fatal', 'disc', 'with', 'the', 'Red', 'Circle', 'upon', 'it', 'the', 'mandate', 'for', 'murder', 'which', 'lay', 'upon', 'his', 'palm', 'He', 'was', 'to', 'kill', 'his', 'best', 'friend', 'or', 'he', 'was', 'to', 'expose', 'himself', 'and', 'me', 'to', 'the', 'vengeance', 'of', 'his', 'comrades', 'It', 'was', 'part', 'of', 'their', 'fiendish', 'system', 'to', 'punish', 'those', 'whom', 'they', 'feared', 'or', 'hated', 'by', 'injuring', 'not', 'only', 'their', 'own', 'persons', 'but', 'those', 'whom', 'they', 'loved', 'and', 'it', 'was', 'the', 'knowledge', 'of', 'this', 'which', 'hung', 'as', 'a', 'terror', 'over', 'my', 'poor', 'Gennaro', 's', 'head', 'and', 'drove', 'him', 'nearly', 'crazy', 'with', 'apprehension', 'All', 'that', 'night', 'we', 'sat', 'together', 'our', 'arms', 'round', 'each', 'other', 'each', 'strengthening', 'each', 'for', 'the', 'troubles', 'that', 'lay', 'before', 'us', 'The', 'very', 'next', 'evening', 'had', 'been', 'fixed', 'for', 'the', 'attempt', 'By', 'midday', 'my', 'husband', 'and', 'I', 'were', 'on', 'our', 'way', 'to', 'London', 'but', 'not', 'before', 'he', 'had', 'given', 'our', 'benefactor', 'full', 'warning', 'of', 'this', 'danger', 'and', 'had', 'also', 'left', 'such', 'information', 'for', 'the', 'police', 'as', 'would', 'safeguard', 'his', 'life', 'for', 'the', 'future', 'The', 'rest', 'gentlemen', 'you', 'know', 'for', 'yourselves', 'We', 'were', 'sure', 'that', 'our', 'enemies', 'would', 'be', 'behind', 'us', 'like', 'our', 'own', 'shadows', 'Gorgiano', 'had', 'his', 'private', 'reasons', 'for', 'vengeance', 'but', 'in', 'any', 'case', 'we', 'knew', 'how', 'ruthless', 'cunning', 'and', 'untiring', 'he', 'could', 'be', 'Both', 'Italy', 'and', 'America', 'are', 'full', 'of', 'stories', 'of', 'his', 'dreadful', 'powers', 'If', 'ever', 'they', 'were', 'exerted', 'it', 'would', 'be', 'now', 'My', 'darling', 'made', 'use', 'of', 'the', 'few', 'clear', 'days', 'which', 'our', 'start', 'had', 'given', 'us', 'in', 'arranging', 'for', 'a', 'refuge', 'for', 'me', 'in', 'such', 'a', 'fashion', 'that', 'no', 'possible', 'danger', 'could', 'reach', 'me', 'For', 'his', 'own', 'part', 'he', 'wished', 'to', 'be', 'free', 'that', 'he', 'might', 'communicate', 'both', 'with', 'the', 'American', 'and', 'with', 'the', 'Italian', 'police', 'I', 'do', 'not', 'myself', 'know', 'where', 'he', 'lived', 'or', 'how', 'All', 'that', 'I', 'learned', 'was', 'through', 'the', 'columns', 'of', 'a', 'newspaper', 'But', 'once', 'as', 'I', 'looked', 'through', 'my', 'window', 'I', 'saw', 'two', 'Italians', 'watching', 'the', 'house', 'and', 'I', 'understood', 'that', 'in', 'some', 'way', 'Gorgiano', 'had', 'found', 'our', 'retreat', 'Finally', 'Gennaro', 'told', 'me', 'through', 'the', 'paper', 'that', 'he', 'would', 'signal', 'to', 'me', 'from', 'a', 'certain', 'window', 'but', 'when', 'the', 'signals', 'came', 'they', 'were', 'nothing', 'but', 'warnings', 'which', 'were', 'suddenly', 'interrupted', 'It', 'is', 'very', 'clear', 'to', 'me', 'now', 'that', 'he', 'knew', 'Gorgiano', 'to', 'be', 'close', 'upon', 'him', 'and', 'that', 'thank', 'God', 'he', 'was', 'ready', 'for', 'him', 'when', 'he', 'came', 'And', 'now', 'gentleman', 'I', 'would', 'ask', 'you', 'whether', 'we', 'have', 'anything', 'to', 'fear', 'from', 'the', 'law', 'or', 'whether', 'any', 'judge', 'upon', 'earth', 'would', 'condemn', 'my', 'Gennaro', 'for', 'what', 'he', 'has', 'done', 'Well', 'Mr', 'Gregson', 'said', 'the', 'American', 'looking', 'across', 'at', 'the', 'official', 'I', 'don', 't', 'know', 'what', 'your', 'British', 'point', 'of', 'view', 'may', 'be', 'but', 'I', 'guess', 'that', 'in', 'New', 'York', 'this', 'lady', 's', 'husband', 'will', 'receive', 'a', 'pretty', 'general', 'vote', 'of', 'thanks', 'She', 'will', 'have', 'to', 'come', 'with', 'me', 'and', 'see', 'the', 'chief', 'Gregson', 'answered', 'If', 'what', 'she', 'says', 'is', 'corroborated', 'I', 'do', 'not', 'think', 'she', 'or', 'her', 'husband', 'has', 'much', 'to', 'fear', 'But', 'what', 'I', 'can', 't', 'make', 'head', 'or', 'tail', 'of', 'Mr', 'Holmes', 'is', 'how', 'on', 'earth', 'YOU', 'got', 'yourself', 'mixed', 'up', 'in', 'the', 'matter', 'Education', 'Gregson', 'education', 'Still', 'seeking', 'knowledge', 'at', 'the', 'old', 'university', 'Well', 'Watson', 'you', 'have', 'one', 'more', 'specimen', 'of', 'the', 'tragic', 'and', 'grotesque', 'to', 'add', 'to', 'your', 'collection', 'By', 'the', 'way', 'it', 'is', 'not', 'eight', 'o', 'clock', 'and', 'a', 'Wagner', 'night', 'at', 'Covent', 'Garden', 'If', 'we', 'hurry', 'we', 'might', 'be', 'in', 'time', 'for', 'the', 'second', 'act', 'End', 'of', 'the', 'Project', 'Gutenberg', 'EBook', 'of', 'The', 'Adventure', 'of', 'the', 'Red', 'Circle', 'by', 'Arthur', 'Conan', 'Doyle', 'END', 'OF', 'THIS', 'PROJECT', 'GUTENBERG', 'EBOOK', 'THE', 'ADVENTURE', 'OF', 'THE', 'RED', 'CIRCLE', 'This', 'file', 'should', 'be', 'named', '2345', 'txt', 'or', '2345', 'zip', 'This', 'and', 'all', 'associated', 'files', 'of', 'various', 'formats', 'will', 'be', 'found', 'in', 'http', 'www', 'gutenberg', 'org', '2', '3', '4', '2345', '']\n"
     ]
    }
   ],
   "source": [
    "# YOUR CODE:\n",
    "\n",
    "textwords = re.split(r\"\\W+\", alltext)\n",
    "print(textwords)"
   ]
  },
  {
   "cell_type": "markdown",
   "metadata": {},
   "source": [
    "What if we also want to be able to see the punctuation? What if we\n",
    "don't want to break up words like \"It's\" and \"don't\", that contain an\n",
    "apostrophe? No problem, regular expressions can do all this. But it\n",
    "gets complicated. Here's an expression that will break up a string\n",
    "into tokens, where a token is either a sequence of punctuation or a\n",
    "word that may contain _internal_ apostrophes (but not at the start or\n",
    "end). Yeah, it's complicated. Usually it's enough to split on\n",
    "whitespace, or with the regexp `r\"\\W+\"`."
   ]
  },
  {
   "cell_type": "code",
   "execution_count": 90,
   "metadata": {},
   "outputs": [
    {
     "name": "stdout",
     "output_type": "stream",
     "text": [
      "Some  text  (  containing  punctuation  ).  It's  an  '  example  '...  "
     ]
    }
   ],
   "source": [
    "tokens = [w for w in re.split(r\"\\s+|((?:\\w|(?<=\\w)'(?=\\w))+)\", example) if w]\n",
    "for tok in tokens:\n",
    "    print(tok, end=\"  \")"
   ]
  },
  {
   "cell_type": "markdown",
   "metadata": {},
   "source": [
    "### Your turn:\n",
    "\n",
    "Scan the list `textwords` and print all words that end with `ings`.\n",
    "Separate words with spaces, not newlines."
   ]
  },
  {
   "cell_type": "code",
   "execution_count": null,
   "metadata": {},
   "outputs": [],
   "source": [
    "# YOUR CODE:\n",
    "\n"
   ]
  },
  {
   "cell_type": "markdown",
   "metadata": {},
   "source": [
    "Because we have tokenized our text so carefully, there is no\n",
    "punctuation stuck to the end of words and we can search with simple\n",
    "string methods. But solutions that use regexps are also correct."
   ]
  },
  {
   "cell_type": "markdown",
   "metadata": {},
   "source": [
    "### 3.8 Scenario 3: Searching for sentences\n",
    "\n",
    "As linguists, we are rarely interested in lines per se; lines are a\n",
    "convenient way to see a word used in context, but what we are really\n",
    "after are sentences. But splitting up a text into sentences is\n",
    "complicated: A variety of punctuation marks could end a sentence, and\n",
    "worse, periods don't always terminate a sentence.\n",
    "\n",
    "> \"Well, well, Mrs. Warren, let us hear about it, then.  You don't\n",
    "object\n",
    "  to tobacco, I take it?  Thank you, Watson--the matches! You are\n",
    "uneasy,\n",
    "  as I understand, because your new lodger remains in his rooms and\n",
    "you\n",
    "  cannot see him.  Why, bless you, Mrs. Warren, if I were your lodger\n",
    "you\n",
    "  often would not see me for weeks on end.\"\n",
    "\n",
    "The problem is actually quite hard. We'll borrow a sentence-splitting\n",
    "function from the Natural Language Toolkit (nltk). (The NLTK is not a\n",
    "standard part of python; but it is included with Anaconda). It uses\n",
    "statistical methods to decide, with reasonable success, where\n",
    "sentences end. Before we use it on our computer for the first time, we\n",
    "must download the statistical \"model\" that the sentence-splitter\n",
    "relies on.  (This is a ONE-TIME thing; the model is then available\n",
    "until you remove it or change computers)."
   ]
  },
  {
   "cell_type": "code",
   "execution_count": null,
   "metadata": {},
   "outputs": [],
   "source": [
    "import nltk\n",
    "nltk.download(\"punkt\")"
   ]
  },
  {
   "cell_type": "markdown",
   "metadata": {},
   "source": [
    "We can now call the function `sent_tokenize()`, which processes a\n",
    "string and gives us a list of strings, each containing a single\n",
    "sentence."
   ]
  },
  {
   "cell_type": "code",
   "execution_count": null,
   "metadata": {},
   "outputs": [],
   "source": [
    "import nltk\n",
    "sentences = nltk.sent_tokenize(alltext)\n",
    "# Here is our sample text fragment\n",
    "for s in sentences[15:20]:\n",
    "    print(s)\n",
    "    print(\"****\")"
   ]
  },
  {
   "cell_type": "markdown",
   "metadata": {},
   "source": [
    "The splitting was successful, but our sentences still contain newlines where the file's lines ended! To\n",
    "simplify printing and searching with regular expressions, we can\n",
    "replace each newline with a space."
   ]
  },
  {
   "cell_type": "code",
   "execution_count": null,
   "metadata": {},
   "outputs": [],
   "source": [
    "cleansents = [ s.replace(\"\\n\", \" \") for s in sentences ]"
   ]
  },
  {
   "cell_type": "markdown",
   "metadata": {},
   "source": [
    "Note that we used a list comprehension to call each string's `replace()` method, and collect the results.\n",
    "\n",
    "The string method `replace()` will replace all instances of its first argument with a copy of the second. An optional third argument can be used to specify a maximum number of replacements, e.g., `s.replace(\"\\n\", \" \", 1)` will only replace one newline in `s`."
   ]
  },
  {
   "cell_type": "markdown",
   "metadata": {},
   "source": [
    "Once we have a list of sentences, we can use it just like our list of\n",
    "lines before: It's just another list of multi-word strings."
   ]
  },
  {
   "cell_type": "markdown",
   "metadata": {},
   "source": [
    "### 3.9 Case-insensitive search\n",
    "\n",
    "Matching words regardless of capitalization is a common task. We have practiced writing character ranges, e.g. to match the words `him` and `Him` you might use the  regexp `/[Hh]im/`. This is tiresome and error-prone-- it easy to forget to do it, and it won't even find words like `HIM` that are capitalized in their entirety. Often it is preferable to make our entire search ignore case.\n",
    "\n",
    "The simplest way to do that is to simply force our strings to be in lower-case: Instead of matching against a string `line`, search a lowercased version of it:"
   ]
  },
  {
   "cell_type": "code",
   "execution_count": null,
   "metadata": {},
   "outputs": [],
   "source": [
    "line = '\"LET HIM GO!\", I said.'\n",
    "\n",
    "if re.search(r\"\\bhim\\b\", line.lower()):\n",
    "        print(line)"
   ]
  },
  {
   "cell_type": "markdown",
   "metadata": {},
   "source": [
    "        \n",
    "It is also possible to tell the regexp engine to ignore case entirely, by passing the flag `re.I` (or its long version, `re.IGNORECASE`) as a third argument to `re.search`:"
   ]
  },
  {
   "cell_type": "code",
   "execution_count": null,
   "metadata": {},
   "outputs": [],
   "source": [
    "if re.search(r\"\\bhim\\b\", line, re.IGNORECASE):\n",
    "    print(line)"
   ]
  },
  {
   "cell_type": "markdown",
   "metadata": {},
   "source": [
    "Instead of adding the flag, we can embed an \"ignore-case\" directive, `(?i)`, in the regexp string itself. This is sometimes necessary, if we want to write a loop where a single statement executes a whole list of regexps."
   ]
  },
  {
   "cell_type": "code",
   "execution_count": null,
   "metadata": {},
   "outputs": [],
   "source": [
    "if re.search(r\"(?i)\\bhim\\b\", line):\n",
    "    print(line)"
   ]
  },
  {
   "cell_type": "markdown",
   "metadata": {},
   "source": [
    "## 4. Search tasks"
   ]
  },
  {
   "cell_type": "markdown",
   "metadata": {},
   "source": [
    "### 4.1 Preparation: Download a story"
   ]
  },
  {
   "cell_type": "markdown",
   "metadata": {},
   "source": [
    "1. Go to [www.gutenberg.org](http://www.gutenberg.org) and choose an English-language text you want to work with. (But don't get carried away and spend too long on this step! If you can't decide, try any novel by by Jane Austen.)\n",
    "\n",
    "2. Follow the link \"More Files...\" and find the non-UTF plain text version, which ends in `.txt`.\n",
    "\n",
    "2. Download the file and save it in the folder that contains this Notebook.\n",
    "\n",
    "3. From your computer's file manager, open the folder where you created the file, open the file in a plain text editor like Notepad, and ensure that you can read it. You can edit out the Project Gutenberg license if you wish. Now you can close it.\n"
   ]
  },
  {
   "cell_type": "markdown",
   "metadata": {},
   "source": [
    "### 4.2 Search for words in your story"
   ]
  },
  {
   "cell_type": "markdown",
   "metadata": {},
   "source": [
    "Write code to carry out the following tasks. Use a different, MEANINGFUL\n",
    "variable name for each list you create. "
   ]
  },
  {
   "cell_type": "markdown",
   "metadata": {},
   "source": [
    "**Task 1:** Read in your file\n",
    "\n",
    "1. Open your text file from python and read it in as a single string.\n",
    "   Close the file and **do not read it again** for the rest of the\n",
    "tasks.\n",
    "\n",
    "2. Split it up as a list of lines, and as a list of words.\n",
    "\n",
    "For the rest of the tasks in this section you can decide which of the two lists to\n",
    "use, and whether to use regular expressions or another (possibly\n",
    "simpler) method. (If the \"words\" were generated with `split()`, results may be slightly different.)"
   ]
  },
  {
   "cell_type": "code",
   "execution_count": null,
   "metadata": {},
   "outputs": [],
   "source": [
    "# YOUR CODE:\n",
    "\n"
   ]
  },
  {
   "cell_type": "markdown",
   "metadata": {},
   "source": [
    "**Task 2:** Print all words that:\n",
    "\n",
    "    a) begin with \"un\"\n",
    "    b) end in \"ions\"\n",
    "    c) contain \"ck\" anywere in the word\n",
    "    d) have exactly four letters (including any attached punctuation)\n",
    "\n",
    "   Print a message before each search, saying what you'll look for.\n",
    "   For better readability, print each group of words on one line."
   ]
  },
  {
   "cell_type": "code",
   "execution_count": null,
   "metadata": {},
   "outputs": [],
   "source": [
    "# YOUR CODE:\n",
    "\n"
   ]
  },
  {
   "cell_type": "markdown",
   "metadata": {},
   "source": [
    "**Task 3 (Challenge):**  Find and print all words that contain \"ck\" _inside_ the word, not at the end. (There are no words that begin with \"ck\".)"
   ]
  },
  {
   "cell_type": "code",
   "execution_count": null,
   "metadata": {},
   "outputs": [],
   "source": [
    "# YOUR CODE:\n",
    "\n"
   ]
  },
  {
   "cell_type": "markdown",
   "metadata": {},
   "source": [
    "# The rest of this notebook is optional"
   ]
  },
  {
   "cell_type": "markdown",
   "metadata": {},
   "source": [
    "### 4.3 Search for lines\n",
    "\n",
    "Word matching tasks are often equally easy to do with regular expressions or with ordinary string methods. \n",
    "Searching in lines, however, is best approached with the help of regular expressions. Use regular expressions to solve the following tasks."
   ]
  },
  {
   "cell_type": "markdown",
   "metadata": {},
   "source": [
    "**Task 4:** Print all lines that contain a word ending in \"ion\"."
   ]
  },
  {
   "cell_type": "code",
   "execution_count": null,
   "metadata": {},
   "outputs": [],
   "source": [
    "# YOUR CODE:\n",
    "\n"
   ]
  },
  {
   "cell_type": "markdown",
   "metadata": {},
   "source": [
    "**Task 5:** Print all lines containing any form of the verb go: _go,\n",
    "goes, went,_ etc. (Take a minute to make a list of such forms.)\n",
    "   Careful not to match partial words! (\"Long ago\" etc.) Use just one\n",
    "loop to do this."
   ]
  },
  {
   "cell_type": "code",
   "execution_count": null,
   "metadata": {},
   "outputs": [],
   "source": [
    "# YOUR CODE:\n",
    "\n"
   ]
  },
  {
   "cell_type": "markdown",
   "metadata": {},
   "source": [
    "**Task 6:** Choose the names of 2-3 main characters from your story.\n",
    "   Count and report how many times each of the names is used."
   ]
  },
  {
   "cell_type": "code",
   "execution_count": null,
   "metadata": {},
   "outputs": [],
   "source": [
    "# YOUR CODE:\n",
    "\n"
   ]
  },
  {
   "cell_type": "markdown",
   "metadata": {},
   "source": [
    "### 4.4 Other searches"
   ]
  },
  {
   "cell_type": "markdown",
   "metadata": {},
   "source": [
    "**Task 7:**  Open the file `RedCircle.txt` and **build a list** of the\n",
    "lines that contain both the pronoun \"he\" and the word \"sir\" on the\n",
    "same line. (There are eight of them-- don't forget capitalized words.) \n",
    "Then print out each line of this list.\n",
    "\n",
    "Recall that an `if`-test can consist of several independent tests\n",
    "combined with `and` or `or`. You might find this simpler than building\n",
    "a single regular expression."
   ]
  },
  {
   "cell_type": "code",
   "execution_count": null,
   "metadata": {},
   "outputs": [],
   "source": [
    "# YOUR CODE:\n",
    "\n"
   ]
  },
  {
   "cell_type": "markdown",
   "metadata": {},
   "source": [
    "**Task 8:** Count the number of *lines* that contain the pronoun \"he\",\n",
    "   lines that contain the pronoun \"she\", and lines that contain both pronouns.\n",
    "   Don't forget about capitalization and punctuation."
   ]
  },
  {
   "cell_type": "code",
   "execution_count": null,
   "metadata": {},
   "outputs": [],
   "source": [
    "# YOUR CODE:\n",
    "\n"
   ]
  },
  {
   "cell_type": "markdown",
   "metadata": {},
   "source": [
    "## 5. What we learned\n",
    "\n",
    "### What you'll need to know by heart\n",
    "\n",
    "Practice with this notebook until you can do the following without having to look anything up:\n",
    "\n",
    "- Use `import` to import optional Python modules.\n",
    "- Display the help text for a function or module.\n",
    "- Open a file, read its contents, and split it into a list of words or lines.\n",
    "- Search for words or lines using a regular expression, and collect the results in a list.\n",
    "- Print out a list of results \"nicely\".\n",
    "- Use the `repr()` function to inspect a string or other variable."
   ]
  },
  {
   "cell_type": "markdown",
   "metadata": {},
   "source": [
    "### What you should remember you saw\n",
    "\n",
    "Here are some things you will not need as often; make sure you\n",
    "remember that they exist, and where you saw them, and you can always\n",
    "google them or come back to this notebook when you need them.\n",
    "\n",
    "- How to provide help text for your own functions\n",
    "- The list comprehension syntax\n",
    "- There are ways to split a long text into sentences"
   ]
  }
 ],
 "metadata": {
  "kernelspec": {
   "display_name": "Python 3 (ipykernel)",
   "language": "python",
   "name": "python3"
  },
  "language_info": {
   "codemirror_mode": {
    "name": "ipython",
    "version": 3
   },
   "file_extension": ".py",
   "mimetype": "text/x-python",
   "name": "python",
   "nbconvert_exporter": "python",
   "pygments_lexer": "ipython3",
   "version": "3.12.7"
  }
 },
 "nbformat": 4,
 "nbformat_minor": 4
}
