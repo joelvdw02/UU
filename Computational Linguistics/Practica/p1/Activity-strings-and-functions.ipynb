{
 "cells": [
  {
   "cell_type": "markdown",
   "metadata": {},
   "source": [
    "# Strings and functions\n",
    "\n",
    "_Practical Python for Linguistics and the Humanities -- Alexis Dimitriadis_"
   ]
  },
  {
   "cell_type": "markdown",
   "metadata": {},
   "source": [
    "## Background reading\n",
    "\n",
    "1. On strings: [Section 3.2][nltk] of the NLTK book. Ignore references to things (such as lists) that we haven't covered yet.\n",
    "2. On functions: [Chapter 3][tp3] (basics), [Chapter 6][tp6] (function values) of _Think Python._\n",
    "\n",
    "\n",
    "[nltk]: http://www.nltk.org/book/ch03.html#strings-text-processing-at-the-lowest-level\n",
    "[tp3]: http://greenteapress.com/thinkpython2/html/thinkpython2004.html\n",
    "[tp6]: http://greenteapress.com/thinkpython2/html/thinkpython2007.html"
   ]
  },
  {
   "cell_type": "markdown",
   "metadata": {
    "TableOfContents": 1
   },
   "source": [
    "<h2>Contents</h2>\n",
    "\n",
    "\n",
    "**<a href=\"#1.-Basic-string-syntax\">1.&nbsp; Basic string syntax</a>**  \n",
    "\n",
    "**<a href=\"#2.-Indexing-and-slicing-strings\">2.&nbsp; Indexing and slicing strings</a>**  \n",
    "&nbsp;&nbsp;&nbsp;&nbsp;<a href=\"#2.1-Operations-on-strings\">2.1&nbsp; Operations on strings</a>  \n",
    "&nbsp;&nbsp;&nbsp;&nbsp;<a href=\"#2.2-String-indexing\">2.2&nbsp; String indexing</a>  \n",
    "&nbsp;&nbsp;&nbsp;&nbsp;<a href=\"#2.3-Looping-over-strings\">2.3&nbsp; Looping over strings</a>  \n",
    "&nbsp;&nbsp;&nbsp;&nbsp;<a href=\"#2.4-Negative-indexes\">2.4&nbsp; Negative indexes</a>  \n",
    "&nbsp;&nbsp;&nbsp;&nbsp;<a href=\"#2.5-String-&quot;slices&quot;\">2.5&nbsp; String \"slices\"</a>  \n",
    "\n",
    "**<a href=\"#3.-&quot;Casting&quot;-variables\">3.&nbsp; \"Casting\" variables</a>**  \n",
    "\n",
    "**<a href=\"#4.-Functions-and-methods\">4.&nbsp; Functions and methods</a>**  \n",
    "&nbsp;&nbsp;&nbsp;&nbsp;<a href=\"#4.1-Finer-control-of-printing-(keyword-arguments)\">4.1&nbsp; Finer control of printing (keyword arguments)</a>  \n",
    "\n",
    "**<a href=\"#5.-Writing-our-own-functions\">5.&nbsp; Writing our own functions</a>**  \n",
    "&nbsp;&nbsp;&nbsp;&nbsp;<a href=\"#5.1-Functions-with-arguments\">5.1&nbsp; Functions with arguments</a>  \n",
    "&nbsp;&nbsp;&nbsp;&nbsp;<a href=\"#5.2-Functions-can-return-a-value\">5.2&nbsp; Functions can return a value</a>  \n"
   ]
  },
  {
   "cell_type": "markdown",
   "metadata": {},
   "source": [
    "## 1. Basic string syntax\n",
    "\n",
    "Strings are delimited by single or double quotes: `\"string\"` or `'string'`.\n",
    "The quotes are **not** part of the string.\n",
    "\n",
    "To avoid a frequent source of hard to spot errors, python requires string definitions (\"string literals\") to start\n",
    "and end on the same line. To create a multi-line string, use three\n",
    "sets of quotes:"
   ]
  },
  {
   "cell_type": "code",
   "execution_count": null,
   "metadata": {
    "collapsed": true,
    "jupyter": {
     "outputs_hidden": true
    }
   },
   "outputs": [],
   "source": [
    "lots_of_text = \"\"\"King Arthur: The Lady of the Lake,\n",
    "her arm clad in the purest shimmering samite\n",
    "held aloft Excalibur from the bosom of the water,\n",
    "signifying by divine providence that I, Arthur, was\n",
    "to carry Excalibur. THAT is why I am your king.\n",
    "\"\"\""
   ]
  },
  {
   "cell_type": "markdown",
   "metadata": {},
   "source": [
    "Single quotes also work (as long as start and end match):"
   ]
  },
  {
   "cell_type": "code",
   "execution_count": null,
   "metadata": {
    "collapsed": false,
    "jupyter": {
     "outputs_hidden": false
    }
   },
   "outputs": [],
   "source": [
    "'''Another long string (potentially multi-line)'''"
   ]
  },
  {
   "cell_type": "markdown",
   "metadata": {},
   "source": [
    "We can also create a multi-line string by writing a newline as the _escape sequence_ `\\n`:"
   ]
  },
  {
   "cell_type": "code",
   "execution_count": 1,
   "metadata": {
    "collapsed": false,
    "jupyter": {
     "outputs_hidden": false
    }
   },
   "outputs": [
    {
     "name": "stdout",
     "output_type": "stream",
     "text": [
      "This string\n",
      " is actually two lines\n"
     ]
    }
   ],
   "source": [
    "escaped  = \"This string\\n is actually two lines\"\n",
    "print(escaped)"
   ]
  },
  {
   "cell_type": "markdown",
   "metadata": {},
   "source": [
    "Execute the above code cell, and notice that there's a space at the start of the second line. That's because there's a space after the `\\n` in our code. To avoid it, we would write: \n",
    "\n",
    "    \"This string\\nis actually two lines\""
   ]
  },
  {
   "cell_type": "markdown",
   "metadata": {},
   "source": [
    "## 2. Indexing and slicing strings"
   ]
  },
  {
   "cell_type": "markdown",
   "metadata": {},
   "source": [
    "-- Based on _A Python Course for the Humanities_ (Chapter 1), by Folgert Karsdorp and Maarten van Gompel; edits by Mike Kestemont, Lars Wieneke, Eva D'hondt, Alexis Dimitriadis."
   ]
  },
  {
   "cell_type": "markdown",
   "metadata": {},
   "source": [
    "### 2.1 Operations on strings"
   ]
  },
  {
   "cell_type": "markdown",
   "metadata": {},
   "source": [
    "Some of the familiar arithmetic operators can also be used to do useful things with strings. Both the multiplication operator (`*`) and the addition operator (`+`) provide interesting functionality for dealing with strings, as the block below illustrates."
   ]
  },
  {
   "cell_type": "code",
   "execution_count": 2,
   "metadata": {
    "collapsed": false,
    "jupyter": {
     "outputs_hidden": false
    }
   },
   "outputs": [
    {
     "name": "stdout",
     "output_type": "stream",
     "text": [
      "blabla\n",
      "blablah\n"
     ]
    }
   ],
   "source": [
    "original_string = \"bla\"\n",
    "new_string = 2*original_string\n",
    "print(new_string)\n",
    "new_string = new_string+\"h\"\n",
    "print(new_string)"
   ]
  },
  {
   "cell_type": "markdown",
   "metadata": {},
   "source": [
    "Adding strings together is called 'string concatenation' or simply 'concatenation' in programming. Use the block below to find out whether you could can also use the shortcut `+=` operator for adding an 'h' to the variable `original_string`. Don't forget to check the result by printing it!"
   ]
  },
  {
   "cell_type": "code",
   "execution_count": null,
   "metadata": {
    "collapsed": false,
    "jupyter": {
     "outputs_hidden": false
    }
   },
   "outputs": [],
   "source": [
    "original_string = \"blabla\""
   ]
  },
  {
   "cell_type": "code",
   "execution_count": 9,
   "metadata": {
    "collapsed": false,
    "jupyter": {
     "outputs_hidden": false
    }
   },
   "outputs": [
    {
     "name": "stdout",
     "output_type": "stream",
     "text": [
      "blablah\n"
     ]
    }
   ],
   "source": [
    "# YOUR SOLUTION: Add an h, then print the result\n",
    "newer_string = \"blabla\"\n",
    "newer_string += \"h\"\n",
    "print(newer_string)"
   ]
  },
  {
   "cell_type": "markdown",
   "metadata": {},
   "source": [
    "Now write some code that defines a variable called **`name`**, and assigns to it a string that contains your name. If your first name is shorter than 5 characters, use your last name. If your last name is also shorter than 5 characters, use the combination of your first and last name. Now print the variable containing your name to the screen."
   ]
  },
  {
   "cell_type": "code",
   "execution_count": 11,
   "metadata": {
    "collapsed": false,
    "jupyter": {
     "outputs_hidden": false
    }
   },
   "outputs": [
    {
     "name": "stdout",
     "output_type": "stream",
     "text": [
      "van de Water\n"
     ]
    }
   ],
   "source": [
    "# YOUR SOLUTION: \n",
    "name = \"van de Water\"\n",
    "print(name)"
   ]
  },
  {
   "cell_type": "markdown",
   "metadata": {},
   "source": [
    "### 2.2 String indexing"
   ]
  },
  {
   "cell_type": "markdown",
   "metadata": {},
   "source": [
    "Strings are called strings because they consist of a series (or 'string') of individual characters. We can access these individual characters in Python with the help of 'indexing', because each character in a string has a unique 'index'. Recall that indexes start at zero: To print the first letter of your name, you can type:"
   ]
  },
  {
   "cell_type": "code",
   "execution_count": 12,
   "metadata": {
    "collapsed": false,
    "jupyter": {
     "outputs_hidden": false
    }
   },
   "outputs": [
    {
     "name": "stdout",
     "output_type": "stream",
     "text": [
      "v\n"
     ]
    }
   ],
   "source": [
    "first_letter = name[0]\n",
    "print(first_letter)"
   ]
  },
  {
   "cell_type": "markdown",
   "metadata": {},
   "source": [
    "Remember that you can also use any complex expression directly as an argument to `print`. We used the variable `first_letter` to make its meaning clear, but we could have printed it out in one step:"
   ]
  },
  {
   "cell_type": "code",
   "execution_count": 13,
   "metadata": {
    "collapsed": false,
    "jupyter": {
     "outputs_hidden": false
    }
   },
   "outputs": [
    {
     "name": "stdout",
     "output_type": "stream",
     "text": [
      "v\n"
     ]
    }
   ],
   "source": [
    "print(name[0])"
   ]
  },
  {
   "cell_type": "markdown",
   "metadata": {},
   "source": [
    "Because you know the length of your name you can ask for the last letter of your name:"
   ]
  },
  {
   "cell_type": "code",
   "execution_count": 14,
   "metadata": {
    "collapsed": false,
    "jupyter": {
     "outputs_hidden": false
    }
   },
   "outputs": [
    {
     "name": "stdout",
     "output_type": "stream",
     "text": [
      "r\n"
     ]
    }
   ],
   "source": [
    "last_letter = name[11]  # fill in the index of the last letter of your name\n",
    "print(last_letter)"
   ]
  },
  {
   "cell_type": "markdown",
   "metadata": {},
   "source": [
    "If you don't know the length of a string, you can always find out using `len(mystring)` and subtract 1 (or more) as needed. "
   ]
  },
  {
   "cell_type": "markdown",
   "metadata": {},
   "source": [
    "### Your turn:\n",
    "\n",
    "Use the function `len()` to compute the length of the string `\"The quick brown fox jumps over the lazy dog\"`, and save the length in a variable. Use this variable to print out the last letter of the string. Hint: If a string has five letters, what is the index of its last letter? "
   ]
  },
  {
   "cell_type": "code",
   "execution_count": 16,
   "metadata": {
    "collapsed": false,
    "jupyter": {
     "outputs_hidden": false
    }
   },
   "outputs": [
    {
     "name": "stdout",
     "output_type": "stream",
     "text": [
      "g\n"
     ]
    }
   ],
   "source": [
    "# YOUR SOLUTION:\n",
    "tekst = \"The quick brown fox jumps over the lazy dog\"\n",
    "lengte = len(tekst)-1\n",
    "laatste = tekst[lengte]\n",
    "print(laatste)"
   ]
  },
  {
   "cell_type": "markdown",
   "metadata": {},
   "source": [
    "### 2.3 Looping over strings\n",
    "\n",
    "A string is a sequence of characters, and sometimes we want to know things about these characters. To examine each character in turn, we write a loop that examines the characters at all valid indexes of the string. (If your command of `while` loops is shaky, refresh your memory now before you go on.) \n",
    "\n",
    "Here how we'd print out the letters of the string `humpty`, one per line. The valid indexes for a string start at zero and stop just short of its `len()`, so our loop must look like this:"
   ]
  },
  {
   "cell_type": "code",
   "execution_count": 17,
   "metadata": {
    "collapsed": false,
    "jupyter": {
     "outputs_hidden": false
    }
   },
   "outputs": [
    {
     "name": "stdout",
     "output_type": "stream",
     "text": [
      "H\n",
      "u\n",
      "m\n",
      "p\n",
      "t\n",
      "y\n",
      " \n",
      "D\n",
      "u\n",
      "m\n",
      "p\n",
      "t\n",
      "y\n",
      " \n",
      "s\n",
      "a\n",
      "t\n",
      " \n",
      "o\n",
      "n\n",
      " \n",
      "a\n",
      " \n",
      "w\n",
      "a\n",
      "l\n",
      "l\n"
     ]
    }
   ],
   "source": [
    "humpty = \"Humpty Dumpty sat on a wall\"\n",
    "\n",
    "n = 0\n",
    "while n < len(humpty):\n",
    "    print(humpty[n])\n",
    "    n = n + 1"
   ]
  },
  {
   "cell_type": "markdown",
   "metadata": {},
   "source": [
    "### Your turn:\n",
    "\n",
    "* Use a `while` loop to count how many times the letter \"a\" occurs in the string `humpty`. In addition to the loop variable, you'll need a helper variable that you use to count the _a_'s."
   ]
  },
  {
   "cell_type": "code",
   "execution_count": 20,
   "metadata": {},
   "outputs": [
    {
     "name": "stdout",
     "output_type": "stream",
     "text": [
      "3\n"
     ]
    }
   ],
   "source": [
    "# YOUR SOLUTION:\n",
    "humpty = \"Humpty Dumpty sat on a wall\"\n",
    "letter_a = 0\n",
    "n = 0\n",
    "while n < len(humpty):\n",
    "    if humpty[n] == \"a\":\n",
    "        letter_a = letter_a + 1\n",
    "    n = n + 1\n",
    "print(letter_a)"
   ]
  },
  {
   "cell_type": "markdown",
   "metadata": {},
   "source": [
    "* Using a single `while` loop, count how many capital letters and how many small letters are in the string `humpty`. Hint: Use two helper variables, and the string methods `.isupper()` and `.islower()`."
   ]
  },
  {
   "cell_type": "code",
   "execution_count": 25,
   "metadata": {},
   "outputs": [
    {
     "name": "stdout",
     "output_type": "stream",
     "text": [
      "2\n",
      "20\n",
      "5\n",
      "27\n"
     ]
    }
   ],
   "source": [
    "# YOUR SOLUTION:\n",
    "# YOUR SOLUTION:\n",
    "humpty = \"Humpty Dumpty sat on a wall\"\n",
    "groot = 0\n",
    "klein = 0\n",
    "spatie = 0\n",
    "n = 0\n",
    "while n < len(humpty):\n",
    "    if humpty[n].isupper():\n",
    "        groot = groot + 1\n",
    "    elif humpty[n].islower():\n",
    "        klein = klein + 1\n",
    "    elif humpty[n] == \" \":\n",
    "        spatie = spatie + 1\n",
    "    n = n + 1\n",
    "print(groot)\n",
    "print(klein)\n",
    "print(spatie)\n",
    "print(len(humpty))"
   ]
  },
  {
   "cell_type": "markdown",
   "metadata": {},
   "source": [
    "### 2.4 Negative indexes"
   ]
  },
  {
   "cell_type": "markdown",
   "metadata": {},
   "source": [
    "Subtracting from the length of the string is not hard, but python provides a simpler way of accessing characters from the end of a string:"
   ]
  },
  {
   "cell_type": "code",
   "execution_count": null,
   "metadata": {
    "collapsed": false,
    "jupyter": {
     "outputs_hidden": false
    }
   },
   "outputs": [],
   "source": [
    "last_letter = name[-1]\n",
    "print(last_letter)"
   ]
  },
  {
   "cell_type": "markdown",
   "metadata": {},
   "source": [
    "The index `[-1]` retrieves the last letter, `[-2]` the letter before that, etc.\n",
    "\n",
    "Note the similarity between negative indexes and the corresponding solution using `len()`: A negative index is interpreted as if subtracted from the string's length. The index **`-2`**, for example, is equivalent to **`len(thestring)-2`**."
   ]
  },
  {
   "cell_type": "markdown",
   "metadata": {},
   "source": [
    "Now can you write some code that defines a variable `third_from_end_letter` and assigns to this variable the **third last** letter of your name? (I.e., the third letter if we count backwards.)\n",
    "    \n",
    "    third_from_end_letter = name[ ??? ] # Add an appropriate index here\n",
    "    print(third_from_end_letter)"
   ]
  },
  {
   "cell_type": "code",
   "execution_count": 27,
   "metadata": {
    "collapsed": false,
    "jupyter": {
     "outputs_hidden": false
    }
   },
   "outputs": [
    {
     "name": "stdout",
     "output_type": "stream",
     "text": [
      "t\n"
     ]
    }
   ],
   "source": [
    "# YOUR SOLUTION:\n",
    "name = \"van de Water\"\n",
    "third_from_end_letter = name[-3]\n",
    "print(third_from_end_letter)"
   ]
  },
  {
   "cell_type": "markdown",
   "metadata": {},
   "source": [
    "### 2.5 String \"slices\""
   ]
  },
  {
   "cell_type": "markdown",
   "metadata": {},
   "source": [
    "Now what if we would like to find out what the last two or three letters of our name are? In Python we can use a so-called \"slice-indexes\" or \"slices\" for short. To find the first two letters of our name, we write:"
   ]
  },
  {
   "cell_type": "code",
   "execution_count": 28,
   "metadata": {
    "collapsed": false,
    "jupyter": {
     "outputs_hidden": false
    }
   },
   "outputs": [
    {
     "name": "stdout",
     "output_type": "stream",
     "text": [
      "va\n"
     ]
    }
   ],
   "source": [
    "first_two_letters = name[0:2]\n",
    "print(first_two_letters)"
   ]
  },
  {
   "cell_type": "markdown",
   "metadata": {},
   "source": [
    "If the _starting_ index is `0`, it is optional: we could also write this as `name[:2]`. This says: take all characters of `name` up to, **but not including,** index 2. I.e., stop just before the third letter. (In Dutch: _\"tot\"_, not _\"tot en met\"._) So to print all the way to the end of the string, we could write this:"
   ]
  },
  {
   "cell_type": "code",
   "execution_count": 29,
   "metadata": {
    "collapsed": false,
    "jupyter": {
     "outputs_hidden": false
    }
   },
   "outputs": [
    {
     "name": "stdout",
     "output_type": "stream",
     "text": [
      "n de Water\n"
     ]
    }
   ],
   "source": [
    "final_part = name[2:len(name)]\n",
    "print(final_part)"
   ]
  },
  {
   "cell_type": "markdown",
   "metadata": {},
   "source": [
    "(Recall that `len(name)` is _one larger_ than the index of the last character in our string, so this prints up to and including the last character). Python also allows us to get the same result by omitting the second index:"
   ]
  },
  {
   "cell_type": "code",
   "execution_count": 30,
   "metadata": {
    "collapsed": false,
    "jupyter": {
     "outputs_hidden": false
    }
   },
   "outputs": [
    {
     "name": "stdout",
     "output_type": "stream",
     "text": [
      "n de Water\n"
     ]
    }
   ],
   "source": [
    "without_first_two_letters = name[2:]\n",
    "print(without_first_two_letters)"
   ]
  },
  {
   "cell_type": "markdown",
   "metadata": {},
   "source": [
    "In other words, a missing second index is equivalent to `len(thestring)`. We can also use negative indexes in slices, with their usual meaning. E.g., the following _starts_ two characters before the end of the string, and continues to the end:"
   ]
  },
  {
   "cell_type": "code",
   "execution_count": 31,
   "metadata": {
    "collapsed": false,
    "jupyter": {
     "outputs_hidden": false
    }
   },
   "outputs": [
    {
     "name": "stdout",
     "output_type": "stream",
     "text": [
      "er\n"
     ]
    }
   ],
   "source": [
    "last_two_letters = name[-2:]\n",
    "print(last_two_letters)"
   ]
  },
  {
   "cell_type": "markdown",
   "metadata": {},
   "source": [
    "### Your turn:\n",
    "\n",
    "* Define a variable `middle_letters` and assign to it all letters of your name except for the first two and the last two. Try to use a slice that will work correctly for names of any length."
   ]
  },
  {
   "cell_type": "code",
   "execution_count": 32,
   "metadata": {
    "collapsed": false,
    "jupyter": {
     "outputs_hidden": false
    }
   },
   "outputs": [
    {
     "name": "stdout",
     "output_type": "stream",
     "text": [
      "n de Wat\n"
     ]
    }
   ],
   "source": [
    "# YOUR SOLUTION: \n",
    "middle_letters = name[2:-2]\n",
    "print(middle_letters)"
   ]
  },
  {
   "cell_type": "markdown",
   "metadata": {},
   "source": [
    "* Given the following two words, can you write code that prints out the word **humanities** using only bits and pieces the following two variables?  Can you print out how many characters the word **humanities** contains?"
   ]
  },
  {
   "cell_type": "code",
   "execution_count": null,
   "metadata": {
    "collapsed": false,
    "jupyter": {
     "outputs_hidden": false
    }
   },
   "outputs": [],
   "source": [
    "word1 = \"human\"\n",
    "word2 = \"opportunities\""
   ]
  },
  {
   "cell_type": "code",
   "execution_count": 34,
   "metadata": {
    "collapsed": false,
    "jupyter": {
     "outputs_hidden": false
    }
   },
   "outputs": [
    {
     "name": "stdout",
     "output_type": "stream",
     "text": [
      "humanities\n"
     ]
    }
   ],
   "source": [
    "# YOUR SOLUTION: \n",
    "word1 = \"human\"\n",
    "word2 = \"opportunities\"\n",
    "word3 = word2[-5:]\n",
    "word4 = word1 + word3\n",
    "print(word4)"
   ]
  },
  {
   "cell_type": "markdown",
   "metadata": {},
   "source": [
    "* The sentence `\"The quick brown fox jumps over the lazy dog!\"` was traditionally used for typing practice because it contains all the letters of the alphabet. Save it in a variable and use it as a source of letters to print out your name. Recall that there are functions that change capital letters to small, and vice versa; use them to capitalize your name properly."
   ]
  },
  {
   "cell_type": "code",
   "execution_count": 46,
   "metadata": {
    "collapsed": false,
    "jupyter": {
     "outputs_hidden": false
    }
   },
   "outputs": [
    {
     "name": "stdout",
     "output_type": "stream",
     "text": [
      "Joel van de Water\n"
     ]
    }
   ],
   "source": [
    "# YOUR SOLUTION: \n",
    "sentence = \"The quick brown fox jumps over the lazy dog!\"\n",
    "\n",
    "spatie = \" \"\n",
    "\n",
    "l1 = sentence[20].upper()\n",
    "l1 += sentence[12]\n",
    "l1 += sentence[2]\n",
    "l1 += sentence[35]\n",
    "l1 += spatie\n",
    "l1 += sentence[27]\n",
    "l1 += sentence[36]\n",
    "l1 += sentence[14]\n",
    "l1 += spatie\n",
    "l1 += sentence[40]\n",
    "l1 += sentence[2]\n",
    "l1 += spatie\n",
    "l1 += sentence[13].upper()\n",
    "l1 += sentence[36]\n",
    "l1 += sentence[0].lower()\n",
    "l1 += sentence[2]\n",
    "l1 += sentence[29]\n",
    "\n",
    "print(l1)"
   ]
  },
  {
   "cell_type": "markdown",
   "metadata": {},
   "source": [
    "## 3. \"Casting\" variables"
   ]
  },
  {
   "cell_type": "markdown",
   "metadata": {},
   "source": [
    "We have previously learned that each variable has a data type: variables can be strings, floats, integers, etc. Sometimes it is necessary to convert one type into the other. Consider this:"
   ]
  },
  {
   "cell_type": "code",
   "execution_count": null,
   "metadata": {
    "collapsed": false,
    "jupyter": {
     "outputs_hidden": false
    }
   },
   "outputs": [],
   "source": [
    "x = \"5\"\n",
    "y = 2\n",
    "print(x + y)"
   ]
  },
  {
   "cell_type": "markdown",
   "metadata": {},
   "source": [
    "This should raise an error on your machine: does the error message gives you a hint as to why this doesn't work? **`x` is a string, and `y` is an integer.** Because of this, you cannot sum them. Luckily there exist ways to 'cast' values from one data type to another.\n",
    "\n",
    "- Do you understand the outcome of the following code?\n",
    "- Can you comment in your own words on the effect of applying `int()` and `str()` to variables?"
   ]
  },
  {
   "cell_type": "code",
   "execution_count": 47,
   "metadata": {
    "collapsed": false,
    "jupyter": {
     "outputs_hidden": false
    }
   },
   "outputs": [
    {
     "name": "stdout",
     "output_type": "stream",
     "text": [
      "52\n",
      "7\n"
     ]
    }
   ],
   "source": [
    "x = \"5\"\n",
    "y = 2\n",
    "print(x + str(y))\n",
    "print(int(x) + y)"
   ]
  },
  {
   "cell_type": "markdown",
   "metadata": {},
   "source": [
    "Other types of conversions are possible as well, and we will see some of them in the future. You can check a variable's type using the `type()`command."
   ]
  },
  {
   "cell_type": "code",
   "execution_count": 48,
   "metadata": {
    "collapsed": false,
    "jupyter": {
     "outputs_hidden": false
    }
   },
   "outputs": [
    {
     "name": "stdout",
     "output_type": "stream",
     "text": [
      "<class 'int'>\n",
      "<class 'float'>\n",
      "<class 'str'>\n"
     ]
    }
   ],
   "source": [
    "x=5\n",
    "print(type(x))\n",
    "x=float(x)\n",
    "print(type(x))\n",
    "x=str(x)\n",
    "print(type(x))"
   ]
  },
  {
   "cell_type": "markdown",
   "metadata": {},
   "source": [
    "<hr style=\"height:2px;border:none\" />"
   ]
  },
  {
   "cell_type": "markdown",
   "metadata": {},
   "source": [
    "### Your turn:\n",
    "\n",
    "* Use python's exponentiation operator `**` to calculate the value of 2 to the 64th power (2 multiplied with itself 64 times). How many digits does the result have when printed out? An easy way to find out is to convert the result to a string. Use this method to print out the number of digits, with a suitable message like *`The number ... has ... digits`.*"
   ]
  },
  {
   "cell_type": "code",
   "execution_count": 51,
   "metadata": {
    "collapsed": false,
    "jupyter": {
     "outputs_hidden": false
    }
   },
   "outputs": [
    {
     "name": "stdout",
     "output_type": "stream",
     "text": [
      "The number 18446744073709551616  has  20  digits\n"
     ]
    }
   ],
   "source": [
    "# YOUR SOLUTION: \n",
    "x = 2**64\n",
    "y = str(x)\n",
    "print(\"The number\" , x, \" has \", len(y), \" digits\")"
   ]
  },
  {
   "cell_type": "markdown",
   "metadata": {},
   "source": [
    "## 4. Functions and methods"
   ]
  },
  {
   "cell_type": "markdown",
   "metadata": {},
   "source": [
    "Functions do something with their \"argument\", or return a result\n",
    "to python (which we can print, assign to a variable, or ignore). We have been using the function `len()`, which gives us the length of a string:"
   ]
  },
  {
   "cell_type": "code",
   "execution_count": 53,
   "metadata": {
    "collapsed": false,
    "jupyter": {
     "outputs_hidden": false
    }
   },
   "outputs": [
    {
     "name": "stdout",
     "output_type": "stream",
     "text": [
      "15\n",
      "x now has 15 letters.\n"
     ]
    }
   ],
   "source": [
    "x = \"spam \" * 3\n",
    "print(len(x))\n",
    "print(\"x now has\", len(x), \"letters.\")"
   ]
  },
  {
   "cell_type": "markdown",
   "metadata": {},
   "source": [
    "The _argument_ of `len()` is the string whose length we want to know. Function arguments appear within the parentheses that follow the function.  As a matter of style, **do not** add a space between the function name and the parentheses. \n",
    "\n",
    "The function `print` can take any number of arguments, which are separated by commas. (`print` is special in this way: Most functions require a fixed number of arguments.) The argument can be a variable name, a \"literal\" string or number, or a complex expression. If it is a complex expression, python will calculate it and use the result as the function argument-- the expression itself is never seen by the function. In the following, `print()` is called with _one_ argument, the value 4."
   ]
  },
  {
   "cell_type": "code",
   "execution_count": 52,
   "metadata": {
    "collapsed": false,
    "jupyter": {
     "outputs_hidden": false
    }
   },
   "outputs": [
    {
     "name": "stdout",
     "output_type": "stream",
     "text": [
      "4\n"
     ]
    }
   ],
   "source": [
    "print(2+2) "
   ]
  },
  {
   "cell_type": "markdown",
   "metadata": {},
   "source": [
    "**Methods** are also functions, but they are conceptually \"properties\"\n",
    "of an object or variable.\n",
    "We write them after the variable name, connected with a dot:"
   ]
  },
  {
   "cell_type": "code",
   "execution_count": 54,
   "metadata": {
    "collapsed": false,
    "jupyter": {
     "outputs_hidden": false
    }
   },
   "outputs": [
    {
     "name": "stdout",
     "output_type": "stream",
     "text": [
      "Upper case: THAT'S THE SPIRIT!\n",
      "Lower case: that's the spirit!\n",
      "\"Title\" case: That'S The Spirit!\n"
     ]
    }
   ],
   "source": [
    "x = \"That's the SPIrit!\"\n",
    "print(\"Upper case:\", x.upper())   # THAT'S THE SPIRIT!\n",
    "print(\"Lower case:\", x.lower())   # that's the spirit!\n",
    "print('\"Title\" case:', x.title()) # That'S The Spirit!"
   ]
  },
  {
   "cell_type": "markdown",
   "metadata": {},
   "source": [
    "Note that the \"title case\" method, `title()`, is very simplistic: It capitalizes the first letter of every continuous sequence of letters.\n",
    "\n",
    "The parentheses signal that we call a function or method.\n",
    "**Use them** even if no argument is needed. (Since methods are called for a particular object, it is often unnecessary to provide additional arguments in the parentheses.)\n",
    "\n",
    "What happens if we forget the parentheses? An expression like `x.upper` does not give us a new string, but the method itself. Try it below! While this is legal in python, it is usually not what you wanted. Missing parentheses are a common error for new programmers."
   ]
  },
  {
   "cell_type": "code",
   "execution_count": 55,
   "metadata": {
    "collapsed": false,
    "jupyter": {
     "outputs_hidden": false
    }
   },
   "outputs": [
    {
     "name": "stdout",
     "output_type": "stream",
     "text": [
      "<built-in method upper of str object at 0x000001BF0DE80D30>\n"
     ]
    }
   ],
   "source": [
    "print(x.upper)"
   ]
  },
  {
   "cell_type": "markdown",
   "metadata": {},
   "source": [
    "### Your turn:\n",
    "\n",
    "Save the string `\"Humpty Dumpty had a great fall\"` into a variable, convert it to title case, and print out the resulting string and its length."
   ]
  },
  {
   "cell_type": "code",
   "execution_count": 57,
   "metadata": {
    "collapsed": false,
    "jupyter": {
     "outputs_hidden": false
    }
   },
   "outputs": [
    {
     "name": "stdout",
     "output_type": "stream",
     "text": [
      "Humpty Dumpty Had A Great Fall\n",
      "30\n"
     ]
    }
   ],
   "source": [
    "# YOUR SOLUTION:\n",
    "string = \"Humpty Dumpty had a great fall\"\n",
    "print(string.title())\n",
    "print(len(string))"
   ]
  },
  {
   "cell_type": "markdown",
   "metadata": {},
   "source": [
    "### 4.1 Finer control of printing (keyword arguments)\n",
    "\n",
    "Python starts a new line of output after each `print` command:"
   ]
  },
  {
   "cell_type": "code",
   "execution_count": 58,
   "metadata": {
    "collapsed": false,
    "jupyter": {
     "outputs_hidden": false
    }
   },
   "outputs": [
    {
     "name": "stdout",
     "output_type": "stream",
     "text": [
      "Hello, world!\n",
      "My name is Rumpelstilzchen\n"
     ]
    }
   ],
   "source": [
    "print(\"Hello, world!\")\n",
    "print(\"My name is Rumpelstilzchen\")"
   ]
  },
  {
   "cell_type": "markdown",
   "metadata": {},
   "source": [
    "This is often what we want, but some times we want to print more things\n",
    "on the same line.\n",
    "**To remain on the same line,** add the special _keyword argument_ `end=\" \"`:"
   ]
  },
  {
   "cell_type": "code",
   "execution_count": 59,
   "metadata": {},
   "outputs": [
    {
     "name": "stdout",
     "output_type": "stream",
     "text": [
      "spam more spam 35 kinds of spam\n"
     ]
    }
   ],
   "source": [
    "print(\"spam\", end=\" \")\n",
    "print(\"more spam\", 35, \"kinds of\", end=\" \")\n",
    "print(\"spam\")"
   ]
  },
  {
   "cell_type": "markdown",
   "metadata": {},
   "source": [
    "Keyword arguments let us identify a function argument by name, not position. \n",
    "The argument `end=\" \"` tells `print` to append a space instead of a newline.\n",
    "Also useful is `end=\"\"` (an empty string), which will add absolutely\n",
    "nothing: The next word will be stuck to whatever we are printing now."
   ]
  },
  {
   "cell_type": "code",
   "execution_count": 60,
   "metadata": {},
   "outputs": [
    {
     "name": "stdout",
     "output_type": "stream",
     "text": [
      "012345678910\n"
     ]
    }
   ],
   "source": [
    "print(\"012345\", end=\"\")\n",
    "print(\"678910\")"
   ]
  },
  {
   "cell_type": "markdown",
   "metadata": {},
   "source": [
    "It is also possible, and occasionally useful, to use a non-blank\n",
    "string with `end`."
   ]
  },
  {
   "cell_type": "markdown",
   "metadata": {},
   "source": [
    "## 5. Writing our own functions"
   ]
  },
  {
   "cell_type": "markdown",
   "metadata": {},
   "source": [
    "In addition to python's built-in functions, we can write our own. Function definitions allow us to encapsulate a series of commands, and later execute them with a simple function call. A simple definition looks like this:"
   ]
  },
  {
   "cell_type": "code",
   "execution_count": 61,
   "metadata": {
    "collapsed": false,
    "jupyter": {
     "outputs_hidden": false
    }
   },
   "outputs": [],
   "source": [
    "def cheer():\n",
    "    print(\"hieperdepiep hoera!\")\n",
    "    print(\"hieperdepiep hoera!\")\n",
    "    print(\"hieperdepiep hoeraaaaa!\")"
   ]
  },
  {
   "cell_type": "markdown",
   "metadata": {},
   "source": [
    "Run the above code and note that _defining_ the function produced no output: A function definition does not execute the body of the function, it just stores it for later use. We use, or \"call\", the function like this:"
   ]
  },
  {
   "cell_type": "code",
   "execution_count": 62,
   "metadata": {
    "collapsed": false,
    "jupyter": {
     "outputs_hidden": false
    }
   },
   "outputs": [
    {
     "name": "stdout",
     "output_type": "stream",
     "text": [
      "hieperdepiep hoera!\n",
      "hieperdepiep hoera!\n",
      "hieperdepiep hoeraaaaa!\n"
     ]
    }
   ],
   "source": [
    "cheer()"
   ]
  },
  {
   "cell_type": "markdown",
   "metadata": {},
   "source": [
    "Once defined, a function can be called any number of times. When python reaches a function call, it executes the \"body\" of the function (which may take a long time if it contains loops and other function calls). When the end of the function is reached, python continues with the line that follows the function call. Run the following snippet and trace the flow of execution in your head:"
   ]
  },
  {
   "cell_type": "code",
   "execution_count": 63,
   "metadata": {
    "collapsed": false,
    "jupyter": {
     "outputs_hidden": false
    }
   },
   "outputs": [
    {
     "name": "stdout",
     "output_type": "stream",
     "text": [
      "hieperdepiep hoera!\n",
      "hieperdepiep hoera!\n",
      "hieperdepiep hoeraaaaa!\n",
      "And again:\n",
      "hieperdepiep hoera!\n",
      "hieperdepiep hoera!\n",
      "hieperdepiep hoeraaaaa!\n"
     ]
    }
   ],
   "source": [
    "cheer()\n",
    "print(\"And again:\")\n",
    "cheer()"
   ]
  },
  {
   "cell_type": "markdown",
   "metadata": {},
   "source": [
    "**Note again** that defining a function does not run it. We can even define a function that tries to use undefined variables (normally an error), or contains an infinite loop, and there is no problem as long as we don't execute the function. \n",
    "\n",
    "Go ahead and run the following block of code:"
   ]
  },
  {
   "cell_type": "code",
   "execution_count": 64,
   "metadata": {
    "collapsed": false,
    "jupyter": {
     "outputs_hidden": false
    }
   },
   "outputs": [
    {
     "name": "stdout",
     "output_type": "stream",
     "text": [
      "The definition is finished!\n"
     ]
    }
   ],
   "source": [
    "def infinite_loop():\n",
    "    x = 0\n",
    "    while x == 0:\n",
    "        print(\"This could run forever...\")\n",
    "        \n",
    "print(\"The definition is finished!\")"
   ]
  },
  {
   "cell_type": "markdown",
   "metadata": {},
   "source": [
    "### 5.1 Functions with arguments"
   ]
  },
  {
   "cell_type": "markdown",
   "metadata": {},
   "source": [
    "It is far more useful to write functions that don't do exactly the\n",
    "same thing every time. We use function arguments to control the function's operation."
   ]
  },
  {
   "cell_type": "code",
   "execution_count": 65,
   "metadata": {
    "collapsed": false,
    "jupyter": {
     "outputs_hidden": false
    }
   },
   "outputs": [],
   "source": [
    "def write_on_blackboard(message):\n",
    "    n = 0\n",
    "    while n < 10:\n",
    "        print(n, message)\n",
    "        n = n + 1\n",
    "        "
   ]
  },
  {
   "cell_type": "markdown",
   "metadata": {},
   "source": [
    "The definition includes a variable, `message`, that represents the string to be printed. We have assigned no value to this variable: It will get a value only when we **call** the function:"
   ]
  },
  {
   "cell_type": "code",
   "execution_count": 66,
   "metadata": {
    "collapsed": false,
    "jupyter": {
     "outputs_hidden": false
    }
   },
   "outputs": [
    {
     "name": "stdout",
     "output_type": "stream",
     "text": [
      "0 Python is great\n",
      "1 Python is great\n",
      "2 Python is great\n",
      "3 Python is great\n",
      "4 Python is great\n",
      "5 Python is great\n",
      "6 Python is great\n",
      "7 Python is great\n",
      "8 Python is great\n",
      "9 Python is great\n"
     ]
    }
   ],
   "source": [
    "write_on_blackboard(\"Python is great\")"
   ]
  },
  {
   "cell_type": "markdown",
   "metadata": {},
   "source": [
    "When python starts to execute the function call, the variable `message` will first be set to the argument we supplied in the function call. Then the body of the function will be executed.\n",
    "\n",
    "Every time we call our function, we can of course call it with a different argument. This is what makes functions so useful.\n",
    "\n",
    "(Incidentally, if you have a long stream of program output in a Notebook, you can click on the left margin to limit it to a window with a scroll bar. Double-click to hide the output altogether.)"
   ]
  },
  {
   "cell_type": "raw",
   "metadata": {},
   "source": [
    "write_on_blackboard(\"Python is great\")\n",
    "write_on_blackboard(\"Python sucks\")"
   ]
  },
  {
   "cell_type": "markdown",
   "metadata": {},
   "source": [
    "Functions can have multiple arguments, which must be given\n",
    "in the proper order."
   ]
  },
  {
   "cell_type": "code",
   "execution_count": 67,
   "metadata": {
    "collapsed": false,
    "jupyter": {
     "outputs_hidden": false
    }
   },
   "outputs": [
    {
     "name": "stdout",
     "output_type": "stream",
     "text": [
      "0 I won't skateboard in class\n",
      "1 I won't skateboard in class\n",
      "2 I won't skateboard in class\n",
      "3 I won't skateboard in class\n",
      "4 I won't skateboard in class\n",
      "5 I won't skateboard in class\n",
      "6 I won't skateboard in class\n",
      "7 I won't skateboard in class\n",
      "8 I won't skateboard in class\n",
      "9 I won't skateboard in class\n",
      "10 I won't skateboard in class\n",
      "11 I won't skateboard in class\n",
      "12 I won't skateboard in class\n",
      "13 I won't skateboard in class\n",
      "14 I won't skateboard in class\n",
      "15 I won't skateboard in class\n",
      "16 I won't skateboard in class\n",
      "17 I won't skateboard in class\n",
      "18 I won't skateboard in class\n",
      "19 I won't skateboard in class\n",
      "20 I won't skateboard in class\n",
      "21 I won't skateboard in class\n",
      "22 I won't skateboard in class\n",
      "23 I won't skateboard in class\n",
      "24 I won't skateboard in class\n",
      "25 I won't skateboard in class\n",
      "26 I won't skateboard in class\n",
      "27 I won't skateboard in class\n",
      "28 I won't skateboard in class\n",
      "29 I won't skateboard in class\n",
      "30 I won't skateboard in class\n",
      "31 I won't skateboard in class\n",
      "32 I won't skateboard in class\n",
      "33 I won't skateboard in class\n",
      "34 I won't skateboard in class\n",
      "35 I won't skateboard in class\n",
      "36 I won't skateboard in class\n",
      "37 I won't skateboard in class\n",
      "38 I won't skateboard in class\n",
      "39 I won't skateboard in class\n",
      "40 I won't skateboard in class\n",
      "41 I won't skateboard in class\n",
      "42 I won't skateboard in class\n",
      "43 I won't skateboard in class\n",
      "44 I won't skateboard in class\n",
      "45 I won't skateboard in class\n",
      "46 I won't skateboard in class\n",
      "47 I won't skateboard in class\n",
      "48 I won't skateboard in class\n",
      "49 I won't skateboard in class\n",
      "0 All work and no play makes Jack a dull boy\n",
      "1 All work and no play makes Jack a dull boy\n",
      "2 All work and no play makes Jack a dull boy\n",
      "3 All work and no play makes Jack a dull boy\n",
      "4 All work and no play makes Jack a dull boy\n",
      "5 All work and no play makes Jack a dull boy\n",
      "6 All work and no play makes Jack a dull boy\n",
      "7 All work and no play makes Jack a dull boy\n",
      "8 All work and no play makes Jack a dull boy\n",
      "9 All work and no play makes Jack a dull boy\n",
      "10 All work and no play makes Jack a dull boy\n",
      "11 All work and no play makes Jack a dull boy\n",
      "12 All work and no play makes Jack a dull boy\n",
      "13 All work and no play makes Jack a dull boy\n",
      "14 All work and no play makes Jack a dull boy\n",
      "15 All work and no play makes Jack a dull boy\n",
      "16 All work and no play makes Jack a dull boy\n",
      "17 All work and no play makes Jack a dull boy\n",
      "18 All work and no play makes Jack a dull boy\n",
      "19 All work and no play makes Jack a dull boy\n",
      "20 All work and no play makes Jack a dull boy\n",
      "21 All work and no play makes Jack a dull boy\n",
      "22 All work and no play makes Jack a dull boy\n",
      "23 All work and no play makes Jack a dull boy\n",
      "24 All work and no play makes Jack a dull boy\n",
      "25 All work and no play makes Jack a dull boy\n",
      "26 All work and no play makes Jack a dull boy\n",
      "27 All work and no play makes Jack a dull boy\n",
      "28 All work and no play makes Jack a dull boy\n",
      "29 All work and no play makes Jack a dull boy\n",
      "30 All work and no play makes Jack a dull boy\n",
      "31 All work and no play makes Jack a dull boy\n",
      "32 All work and no play makes Jack a dull boy\n",
      "33 All work and no play makes Jack a dull boy\n",
      "34 All work and no play makes Jack a dull boy\n",
      "35 All work and no play makes Jack a dull boy\n",
      "36 All work and no play makes Jack a dull boy\n",
      "37 All work and no play makes Jack a dull boy\n",
      "38 All work and no play makes Jack a dull boy\n",
      "39 All work and no play makes Jack a dull boy\n",
      "40 All work and no play makes Jack a dull boy\n",
      "41 All work and no play makes Jack a dull boy\n",
      "42 All work and no play makes Jack a dull boy\n",
      "43 All work and no play makes Jack a dull boy\n",
      "44 All work and no play makes Jack a dull boy\n",
      "45 All work and no play makes Jack a dull boy\n",
      "46 All work and no play makes Jack a dull boy\n",
      "47 All work and no play makes Jack a dull boy\n",
      "48 All work and no play makes Jack a dull boy\n",
      "49 All work and no play makes Jack a dull boy\n",
      "50 All work and no play makes Jack a dull boy\n",
      "51 All work and no play makes Jack a dull boy\n",
      "52 All work and no play makes Jack a dull boy\n",
      "53 All work and no play makes Jack a dull boy\n",
      "54 All work and no play makes Jack a dull boy\n",
      "55 All work and no play makes Jack a dull boy\n",
      "56 All work and no play makes Jack a dull boy\n",
      "57 All work and no play makes Jack a dull boy\n",
      "58 All work and no play makes Jack a dull boy\n",
      "59 All work and no play makes Jack a dull boy\n",
      "60 All work and no play makes Jack a dull boy\n",
      "61 All work and no play makes Jack a dull boy\n",
      "62 All work and no play makes Jack a dull boy\n",
      "63 All work and no play makes Jack a dull boy\n",
      "64 All work and no play makes Jack a dull boy\n",
      "65 All work and no play makes Jack a dull boy\n",
      "66 All work and no play makes Jack a dull boy\n",
      "67 All work and no play makes Jack a dull boy\n",
      "68 All work and no play makes Jack a dull boy\n",
      "69 All work and no play makes Jack a dull boy\n",
      "70 All work and no play makes Jack a dull boy\n",
      "71 All work and no play makes Jack a dull boy\n",
      "72 All work and no play makes Jack a dull boy\n",
      "73 All work and no play makes Jack a dull boy\n",
      "74 All work and no play makes Jack a dull boy\n",
      "75 All work and no play makes Jack a dull boy\n",
      "76 All work and no play makes Jack a dull boy\n",
      "77 All work and no play makes Jack a dull boy\n",
      "78 All work and no play makes Jack a dull boy\n",
      "79 All work and no play makes Jack a dull boy\n",
      "80 All work and no play makes Jack a dull boy\n",
      "81 All work and no play makes Jack a dull boy\n",
      "82 All work and no play makes Jack a dull boy\n",
      "83 All work and no play makes Jack a dull boy\n",
      "84 All work and no play makes Jack a dull boy\n",
      "85 All work and no play makes Jack a dull boy\n",
      "86 All work and no play makes Jack a dull boy\n",
      "87 All work and no play makes Jack a dull boy\n",
      "88 All work and no play makes Jack a dull boy\n",
      "89 All work and no play makes Jack a dull boy\n",
      "90 All work and no play makes Jack a dull boy\n",
      "91 All work and no play makes Jack a dull boy\n",
      "92 All work and no play makes Jack a dull boy\n",
      "93 All work and no play makes Jack a dull boy\n",
      "94 All work and no play makes Jack a dull boy\n",
      "95 All work and no play makes Jack a dull boy\n",
      "96 All work and no play makes Jack a dull boy\n",
      "97 All work and no play makes Jack a dull boy\n",
      "98 All work and no play makes Jack a dull boy\n",
      "99 All work and no play makes Jack a dull boy\n",
      "100 All work and no play makes Jack a dull boy\n",
      "101 All work and no play makes Jack a dull boy\n",
      "102 All work and no play makes Jack a dull boy\n",
      "103 All work and no play makes Jack a dull boy\n",
      "104 All work and no play makes Jack a dull boy\n",
      "105 All work and no play makes Jack a dull boy\n",
      "106 All work and no play makes Jack a dull boy\n",
      "107 All work and no play makes Jack a dull boy\n",
      "108 All work and no play makes Jack a dull boy\n",
      "109 All work and no play makes Jack a dull boy\n",
      "110 All work and no play makes Jack a dull boy\n",
      "111 All work and no play makes Jack a dull boy\n",
      "112 All work and no play makes Jack a dull boy\n",
      "113 All work and no play makes Jack a dull boy\n",
      "114 All work and no play makes Jack a dull boy\n",
      "115 All work and no play makes Jack a dull boy\n",
      "116 All work and no play makes Jack a dull boy\n",
      "117 All work and no play makes Jack a dull boy\n",
      "118 All work and no play makes Jack a dull boy\n",
      "119 All work and no play makes Jack a dull boy\n",
      "120 All work and no play makes Jack a dull boy\n",
      "121 All work and no play makes Jack a dull boy\n",
      "122 All work and no play makes Jack a dull boy\n",
      "123 All work and no play makes Jack a dull boy\n",
      "124 All work and no play makes Jack a dull boy\n",
      "125 All work and no play makes Jack a dull boy\n",
      "126 All work and no play makes Jack a dull boy\n",
      "127 All work and no play makes Jack a dull boy\n",
      "128 All work and no play makes Jack a dull boy\n",
      "129 All work and no play makes Jack a dull boy\n",
      "130 All work and no play makes Jack a dull boy\n",
      "131 All work and no play makes Jack a dull boy\n",
      "132 All work and no play makes Jack a dull boy\n",
      "133 All work and no play makes Jack a dull boy\n",
      "134 All work and no play makes Jack a dull boy\n",
      "135 All work and no play makes Jack a dull boy\n",
      "136 All work and no play makes Jack a dull boy\n",
      "137 All work and no play makes Jack a dull boy\n",
      "138 All work and no play makes Jack a dull boy\n",
      "139 All work and no play makes Jack a dull boy\n",
      "140 All work and no play makes Jack a dull boy\n",
      "141 All work and no play makes Jack a dull boy\n",
      "142 All work and no play makes Jack a dull boy\n",
      "143 All work and no play makes Jack a dull boy\n",
      "144 All work and no play makes Jack a dull boy\n",
      "145 All work and no play makes Jack a dull boy\n",
      "146 All work and no play makes Jack a dull boy\n",
      "147 All work and no play makes Jack a dull boy\n",
      "148 All work and no play makes Jack a dull boy\n",
      "149 All work and no play makes Jack a dull boy\n",
      "150 All work and no play makes Jack a dull boy\n",
      "151 All work and no play makes Jack a dull boy\n",
      "152 All work and no play makes Jack a dull boy\n",
      "153 All work and no play makes Jack a dull boy\n",
      "154 All work and no play makes Jack a dull boy\n",
      "155 All work and no play makes Jack a dull boy\n",
      "156 All work and no play makes Jack a dull boy\n",
      "157 All work and no play makes Jack a dull boy\n",
      "158 All work and no play makes Jack a dull boy\n",
      "159 All work and no play makes Jack a dull boy\n",
      "160 All work and no play makes Jack a dull boy\n",
      "161 All work and no play makes Jack a dull boy\n",
      "162 All work and no play makes Jack a dull boy\n",
      "163 All work and no play makes Jack a dull boy\n",
      "164 All work and no play makes Jack a dull boy\n",
      "165 All work and no play makes Jack a dull boy\n",
      "166 All work and no play makes Jack a dull boy\n",
      "167 All work and no play makes Jack a dull boy\n",
      "168 All work and no play makes Jack a dull boy\n",
      "169 All work and no play makes Jack a dull boy\n",
      "170 All work and no play makes Jack a dull boy\n",
      "171 All work and no play makes Jack a dull boy\n",
      "172 All work and no play makes Jack a dull boy\n",
      "173 All work and no play makes Jack a dull boy\n",
      "174 All work and no play makes Jack a dull boy\n",
      "175 All work and no play makes Jack a dull boy\n",
      "176 All work and no play makes Jack a dull boy\n",
      "177 All work and no play makes Jack a dull boy\n",
      "178 All work and no play makes Jack a dull boy\n",
      "179 All work and no play makes Jack a dull boy\n",
      "180 All work and no play makes Jack a dull boy\n",
      "181 All work and no play makes Jack a dull boy\n",
      "182 All work and no play makes Jack a dull boy\n",
      "183 All work and no play makes Jack a dull boy\n",
      "184 All work and no play makes Jack a dull boy\n",
      "185 All work and no play makes Jack a dull boy\n",
      "186 All work and no play makes Jack a dull boy\n",
      "187 All work and no play makes Jack a dull boy\n",
      "188 All work and no play makes Jack a dull boy\n",
      "189 All work and no play makes Jack a dull boy\n",
      "190 All work and no play makes Jack a dull boy\n",
      "191 All work and no play makes Jack a dull boy\n",
      "192 All work and no play makes Jack a dull boy\n",
      "193 All work and no play makes Jack a dull boy\n",
      "194 All work and no play makes Jack a dull boy\n",
      "195 All work and no play makes Jack a dull boy\n",
      "196 All work and no play makes Jack a dull boy\n",
      "197 All work and no play makes Jack a dull boy\n",
      "198 All work and no play makes Jack a dull boy\n",
      "199 All work and no play makes Jack a dull boy\n",
      "200 All work and no play makes Jack a dull boy\n",
      "201 All work and no play makes Jack a dull boy\n",
      "202 All work and no play makes Jack a dull boy\n",
      "203 All work and no play makes Jack a dull boy\n",
      "204 All work and no play makes Jack a dull boy\n",
      "205 All work and no play makes Jack a dull boy\n",
      "206 All work and no play makes Jack a dull boy\n",
      "207 All work and no play makes Jack a dull boy\n",
      "208 All work and no play makes Jack a dull boy\n",
      "209 All work and no play makes Jack a dull boy\n",
      "210 All work and no play makes Jack a dull boy\n",
      "211 All work and no play makes Jack a dull boy\n",
      "212 All work and no play makes Jack a dull boy\n",
      "213 All work and no play makes Jack a dull boy\n",
      "214 All work and no play makes Jack a dull boy\n",
      "215 All work and no play makes Jack a dull boy\n",
      "216 All work and no play makes Jack a dull boy\n",
      "217 All work and no play makes Jack a dull boy\n",
      "218 All work and no play makes Jack a dull boy\n",
      "219 All work and no play makes Jack a dull boy\n",
      "220 All work and no play makes Jack a dull boy\n",
      "221 All work and no play makes Jack a dull boy\n",
      "222 All work and no play makes Jack a dull boy\n",
      "223 All work and no play makes Jack a dull boy\n",
      "224 All work and no play makes Jack a dull boy\n",
      "225 All work and no play makes Jack a dull boy\n",
      "226 All work and no play makes Jack a dull boy\n",
      "227 All work and no play makes Jack a dull boy\n",
      "228 All work and no play makes Jack a dull boy\n",
      "229 All work and no play makes Jack a dull boy\n",
      "230 All work and no play makes Jack a dull boy\n",
      "231 All work and no play makes Jack a dull boy\n",
      "232 All work and no play makes Jack a dull boy\n",
      "233 All work and no play makes Jack a dull boy\n",
      "234 All work and no play makes Jack a dull boy\n",
      "235 All work and no play makes Jack a dull boy\n",
      "236 All work and no play makes Jack a dull boy\n",
      "237 All work and no play makes Jack a dull boy\n",
      "238 All work and no play makes Jack a dull boy\n",
      "239 All work and no play makes Jack a dull boy\n",
      "240 All work and no play makes Jack a dull boy\n",
      "241 All work and no play makes Jack a dull boy\n",
      "242 All work and no play makes Jack a dull boy\n",
      "243 All work and no play makes Jack a dull boy\n",
      "244 All work and no play makes Jack a dull boy\n",
      "245 All work and no play makes Jack a dull boy\n",
      "246 All work and no play makes Jack a dull boy\n",
      "247 All work and no play makes Jack a dull boy\n",
      "248 All work and no play makes Jack a dull boy\n",
      "249 All work and no play makes Jack a dull boy\n",
      "250 All work and no play makes Jack a dull boy\n",
      "251 All work and no play makes Jack a dull boy\n",
      "252 All work and no play makes Jack a dull boy\n",
      "253 All work and no play makes Jack a dull boy\n",
      "254 All work and no play makes Jack a dull boy\n",
      "255 All work and no play makes Jack a dull boy\n",
      "256 All work and no play makes Jack a dull boy\n",
      "257 All work and no play makes Jack a dull boy\n",
      "258 All work and no play makes Jack a dull boy\n",
      "259 All work and no play makes Jack a dull boy\n",
      "260 All work and no play makes Jack a dull boy\n",
      "261 All work and no play makes Jack a dull boy\n",
      "262 All work and no play makes Jack a dull boy\n",
      "263 All work and no play makes Jack a dull boy\n",
      "264 All work and no play makes Jack a dull boy\n",
      "265 All work and no play makes Jack a dull boy\n",
      "266 All work and no play makes Jack a dull boy\n",
      "267 All work and no play makes Jack a dull boy\n",
      "268 All work and no play makes Jack a dull boy\n",
      "269 All work and no play makes Jack a dull boy\n",
      "270 All work and no play makes Jack a dull boy\n",
      "271 All work and no play makes Jack a dull boy\n",
      "272 All work and no play makes Jack a dull boy\n",
      "273 All work and no play makes Jack a dull boy\n",
      "274 All work and no play makes Jack a dull boy\n",
      "275 All work and no play makes Jack a dull boy\n",
      "276 All work and no play makes Jack a dull boy\n",
      "277 All work and no play makes Jack a dull boy\n",
      "278 All work and no play makes Jack a dull boy\n",
      "279 All work and no play makes Jack a dull boy\n",
      "280 All work and no play makes Jack a dull boy\n",
      "281 All work and no play makes Jack a dull boy\n",
      "282 All work and no play makes Jack a dull boy\n",
      "283 All work and no play makes Jack a dull boy\n",
      "284 All work and no play makes Jack a dull boy\n",
      "285 All work and no play makes Jack a dull boy\n",
      "286 All work and no play makes Jack a dull boy\n",
      "287 All work and no play makes Jack a dull boy\n",
      "288 All work and no play makes Jack a dull boy\n",
      "289 All work and no play makes Jack a dull boy\n",
      "290 All work and no play makes Jack a dull boy\n",
      "291 All work and no play makes Jack a dull boy\n",
      "292 All work and no play makes Jack a dull boy\n",
      "293 All work and no play makes Jack a dull boy\n",
      "294 All work and no play makes Jack a dull boy\n",
      "295 All work and no play makes Jack a dull boy\n",
      "296 All work and no play makes Jack a dull boy\n",
      "297 All work and no play makes Jack a dull boy\n",
      "298 All work and no play makes Jack a dull boy\n",
      "299 All work and no play makes Jack a dull boy\n",
      "300 All work and no play makes Jack a dull boy\n",
      "301 All work and no play makes Jack a dull boy\n",
      "302 All work and no play makes Jack a dull boy\n",
      "303 All work and no play makes Jack a dull boy\n",
      "304 All work and no play makes Jack a dull boy\n",
      "305 All work and no play makes Jack a dull boy\n",
      "306 All work and no play makes Jack a dull boy\n",
      "307 All work and no play makes Jack a dull boy\n",
      "308 All work and no play makes Jack a dull boy\n",
      "309 All work and no play makes Jack a dull boy\n",
      "310 All work and no play makes Jack a dull boy\n",
      "311 All work and no play makes Jack a dull boy\n",
      "312 All work and no play makes Jack a dull boy\n",
      "313 All work and no play makes Jack a dull boy\n",
      "314 All work and no play makes Jack a dull boy\n",
      "315 All work and no play makes Jack a dull boy\n",
      "316 All work and no play makes Jack a dull boy\n",
      "317 All work and no play makes Jack a dull boy\n",
      "318 All work and no play makes Jack a dull boy\n",
      "319 All work and no play makes Jack a dull boy\n",
      "320 All work and no play makes Jack a dull boy\n",
      "321 All work and no play makes Jack a dull boy\n",
      "322 All work and no play makes Jack a dull boy\n",
      "323 All work and no play makes Jack a dull boy\n",
      "324 All work and no play makes Jack a dull boy\n",
      "325 All work and no play makes Jack a dull boy\n",
      "326 All work and no play makes Jack a dull boy\n",
      "327 All work and no play makes Jack a dull boy\n",
      "328 All work and no play makes Jack a dull boy\n",
      "329 All work and no play makes Jack a dull boy\n",
      "330 All work and no play makes Jack a dull boy\n",
      "331 All work and no play makes Jack a dull boy\n",
      "332 All work and no play makes Jack a dull boy\n",
      "333 All work and no play makes Jack a dull boy\n",
      "334 All work and no play makes Jack a dull boy\n",
      "335 All work and no play makes Jack a dull boy\n",
      "336 All work and no play makes Jack a dull boy\n",
      "337 All work and no play makes Jack a dull boy\n",
      "338 All work and no play makes Jack a dull boy\n",
      "339 All work and no play makes Jack a dull boy\n",
      "340 All work and no play makes Jack a dull boy\n",
      "341 All work and no play makes Jack a dull boy\n",
      "342 All work and no play makes Jack a dull boy\n",
      "343 All work and no play makes Jack a dull boy\n",
      "344 All work and no play makes Jack a dull boy\n",
      "345 All work and no play makes Jack a dull boy\n",
      "346 All work and no play makes Jack a dull boy\n",
      "347 All work and no play makes Jack a dull boy\n",
      "348 All work and no play makes Jack a dull boy\n",
      "349 All work and no play makes Jack a dull boy\n",
      "350 All work and no play makes Jack a dull boy\n",
      "351 All work and no play makes Jack a dull boy\n",
      "352 All work and no play makes Jack a dull boy\n",
      "353 All work and no play makes Jack a dull boy\n",
      "354 All work and no play makes Jack a dull boy\n",
      "355 All work and no play makes Jack a dull boy\n",
      "356 All work and no play makes Jack a dull boy\n",
      "357 All work and no play makes Jack a dull boy\n",
      "358 All work and no play makes Jack a dull boy\n",
      "359 All work and no play makes Jack a dull boy\n",
      "360 All work and no play makes Jack a dull boy\n",
      "361 All work and no play makes Jack a dull boy\n",
      "362 All work and no play makes Jack a dull boy\n",
      "363 All work and no play makes Jack a dull boy\n",
      "364 All work and no play makes Jack a dull boy\n",
      "365 All work and no play makes Jack a dull boy\n",
      "366 All work and no play makes Jack a dull boy\n",
      "367 All work and no play makes Jack a dull boy\n",
      "368 All work and no play makes Jack a dull boy\n",
      "369 All work and no play makes Jack a dull boy\n",
      "370 All work and no play makes Jack a dull boy\n",
      "371 All work and no play makes Jack a dull boy\n",
      "372 All work and no play makes Jack a dull boy\n",
      "373 All work and no play makes Jack a dull boy\n",
      "374 All work and no play makes Jack a dull boy\n",
      "375 All work and no play makes Jack a dull boy\n",
      "376 All work and no play makes Jack a dull boy\n",
      "377 All work and no play makes Jack a dull boy\n",
      "378 All work and no play makes Jack a dull boy\n",
      "379 All work and no play makes Jack a dull boy\n",
      "380 All work and no play makes Jack a dull boy\n",
      "381 All work and no play makes Jack a dull boy\n",
      "382 All work and no play makes Jack a dull boy\n",
      "383 All work and no play makes Jack a dull boy\n",
      "384 All work and no play makes Jack a dull boy\n",
      "385 All work and no play makes Jack a dull boy\n",
      "386 All work and no play makes Jack a dull boy\n",
      "387 All work and no play makes Jack a dull boy\n",
      "388 All work and no play makes Jack a dull boy\n",
      "389 All work and no play makes Jack a dull boy\n",
      "390 All work and no play makes Jack a dull boy\n",
      "391 All work and no play makes Jack a dull boy\n",
      "392 All work and no play makes Jack a dull boy\n",
      "393 All work and no play makes Jack a dull boy\n",
      "394 All work and no play makes Jack a dull boy\n",
      "395 All work and no play makes Jack a dull boy\n",
      "396 All work and no play makes Jack a dull boy\n",
      "397 All work and no play makes Jack a dull boy\n",
      "398 All work and no play makes Jack a dull boy\n",
      "399 All work and no play makes Jack a dull boy\n",
      "400 All work and no play makes Jack a dull boy\n",
      "401 All work and no play makes Jack a dull boy\n",
      "402 All work and no play makes Jack a dull boy\n",
      "403 All work and no play makes Jack a dull boy\n",
      "404 All work and no play makes Jack a dull boy\n",
      "405 All work and no play makes Jack a dull boy\n",
      "406 All work and no play makes Jack a dull boy\n",
      "407 All work and no play makes Jack a dull boy\n",
      "408 All work and no play makes Jack a dull boy\n",
      "409 All work and no play makes Jack a dull boy\n",
      "410 All work and no play makes Jack a dull boy\n",
      "411 All work and no play makes Jack a dull boy\n",
      "412 All work and no play makes Jack a dull boy\n",
      "413 All work and no play makes Jack a dull boy\n",
      "414 All work and no play makes Jack a dull boy\n",
      "415 All work and no play makes Jack a dull boy\n",
      "416 All work and no play makes Jack a dull boy\n",
      "417 All work and no play makes Jack a dull boy\n",
      "418 All work and no play makes Jack a dull boy\n",
      "419 All work and no play makes Jack a dull boy\n",
      "420 All work and no play makes Jack a dull boy\n",
      "421 All work and no play makes Jack a dull boy\n",
      "422 All work and no play makes Jack a dull boy\n",
      "423 All work and no play makes Jack a dull boy\n",
      "424 All work and no play makes Jack a dull boy\n",
      "425 All work and no play makes Jack a dull boy\n",
      "426 All work and no play makes Jack a dull boy\n",
      "427 All work and no play makes Jack a dull boy\n",
      "428 All work and no play makes Jack a dull boy\n",
      "429 All work and no play makes Jack a dull boy\n",
      "430 All work and no play makes Jack a dull boy\n",
      "431 All work and no play makes Jack a dull boy\n",
      "432 All work and no play makes Jack a dull boy\n",
      "433 All work and no play makes Jack a dull boy\n",
      "434 All work and no play makes Jack a dull boy\n",
      "435 All work and no play makes Jack a dull boy\n",
      "436 All work and no play makes Jack a dull boy\n",
      "437 All work and no play makes Jack a dull boy\n",
      "438 All work and no play makes Jack a dull boy\n",
      "439 All work and no play makes Jack a dull boy\n",
      "440 All work and no play makes Jack a dull boy\n",
      "441 All work and no play makes Jack a dull boy\n",
      "442 All work and no play makes Jack a dull boy\n",
      "443 All work and no play makes Jack a dull boy\n",
      "444 All work and no play makes Jack a dull boy\n",
      "445 All work and no play makes Jack a dull boy\n",
      "446 All work and no play makes Jack a dull boy\n",
      "447 All work and no play makes Jack a dull boy\n",
      "448 All work and no play makes Jack a dull boy\n",
      "449 All work and no play makes Jack a dull boy\n",
      "450 All work and no play makes Jack a dull boy\n",
      "451 All work and no play makes Jack a dull boy\n",
      "452 All work and no play makes Jack a dull boy\n",
      "453 All work and no play makes Jack a dull boy\n",
      "454 All work and no play makes Jack a dull boy\n",
      "455 All work and no play makes Jack a dull boy\n",
      "456 All work and no play makes Jack a dull boy\n",
      "457 All work and no play makes Jack a dull boy\n",
      "458 All work and no play makes Jack a dull boy\n",
      "459 All work and no play makes Jack a dull boy\n",
      "460 All work and no play makes Jack a dull boy\n",
      "461 All work and no play makes Jack a dull boy\n",
      "462 All work and no play makes Jack a dull boy\n",
      "463 All work and no play makes Jack a dull boy\n",
      "464 All work and no play makes Jack a dull boy\n",
      "465 All work and no play makes Jack a dull boy\n",
      "466 All work and no play makes Jack a dull boy\n",
      "467 All work and no play makes Jack a dull boy\n",
      "468 All work and no play makes Jack a dull boy\n",
      "469 All work and no play makes Jack a dull boy\n",
      "470 All work and no play makes Jack a dull boy\n",
      "471 All work and no play makes Jack a dull boy\n",
      "472 All work and no play makes Jack a dull boy\n",
      "473 All work and no play makes Jack a dull boy\n",
      "474 All work and no play makes Jack a dull boy\n",
      "475 All work and no play makes Jack a dull boy\n",
      "476 All work and no play makes Jack a dull boy\n",
      "477 All work and no play makes Jack a dull boy\n",
      "478 All work and no play makes Jack a dull boy\n",
      "479 All work and no play makes Jack a dull boy\n",
      "480 All work and no play makes Jack a dull boy\n",
      "481 All work and no play makes Jack a dull boy\n",
      "482 All work and no play makes Jack a dull boy\n",
      "483 All work and no play makes Jack a dull boy\n",
      "484 All work and no play makes Jack a dull boy\n",
      "485 All work and no play makes Jack a dull boy\n",
      "486 All work and no play makes Jack a dull boy\n",
      "487 All work and no play makes Jack a dull boy\n",
      "488 All work and no play makes Jack a dull boy\n",
      "489 All work and no play makes Jack a dull boy\n",
      "490 All work and no play makes Jack a dull boy\n",
      "491 All work and no play makes Jack a dull boy\n",
      "492 All work and no play makes Jack a dull boy\n",
      "493 All work and no play makes Jack a dull boy\n",
      "494 All work and no play makes Jack a dull boy\n",
      "495 All work and no play makes Jack a dull boy\n",
      "496 All work and no play makes Jack a dull boy\n",
      "497 All work and no play makes Jack a dull boy\n",
      "498 All work and no play makes Jack a dull boy\n",
      "499 All work and no play makes Jack a dull boy\n"
     ]
    }
   ],
   "source": [
    "def write_on_blackboard(message, howmany):\n",
    "    n = 0\n",
    "    while n < howmany:\n",
    "        print(n, message)\n",
    "        n = n + 1\n",
    "\n",
    "write_on_blackboard(\"I won't skateboard in class\", 50)\n",
    "\n",
    "jack = \"All work and no play makes Jack a dull boy\"\n",
    "write_on_blackboard(jack, 500)"
   ]
  },
  {
   "cell_type": "markdown",
   "metadata": {},
   "source": [
    "Writing the arguments in the wrong order causes errors or weird behavior-- try it! The error messages reveal python's confusion as it encounters unexpected argument types. Be on the lookout for similar error messages if your own code should inadvertently mix up its arguments."
   ]
  },
  {
   "cell_type": "code",
   "execution_count": 68,
   "metadata": {},
   "outputs": [
    {
     "ename": "TypeError",
     "evalue": "'<' not supported between instances of 'int' and 'str'",
     "output_type": "error",
     "traceback": [
      "\u001b[1;31m---------------------------------------------------------------------------\u001b[0m",
      "\u001b[1;31mTypeError\u001b[0m                                 Traceback (most recent call last)",
      "Cell \u001b[1;32mIn[68], line 9\u001b[0m\n\u001b[0;32m      6\u001b[0m         \u001b[38;5;28mprint\u001b[39m(n, message)\n\u001b[0;32m      7\u001b[0m         n \u001b[38;5;241m=\u001b[39m n \u001b[38;5;241m+\u001b[39m \u001b[38;5;241m1\u001b[39m\n\u001b[1;32m----> 9\u001b[0m write_on_blackboard(\u001b[38;5;241m3\u001b[39m, \u001b[38;5;124m\"\u001b[39m\u001b[38;5;124mI won\u001b[39m\u001b[38;5;124m'\u001b[39m\u001b[38;5;124mt skateboard in class\u001b[39m\u001b[38;5;124m\"\u001b[39m)\n",
      "Cell \u001b[1;32mIn[68], line 5\u001b[0m, in \u001b[0;36mwrite_on_blackboard\u001b[1;34m(message, howmany)\u001b[0m\n\u001b[0;32m      3\u001b[0m \u001b[38;5;28;01mdef\u001b[39;00m \u001b[38;5;21mwrite_on_blackboard\u001b[39m(message, howmany):\n\u001b[0;32m      4\u001b[0m     n \u001b[38;5;241m=\u001b[39m \u001b[38;5;241m0\u001b[39m\n\u001b[1;32m----> 5\u001b[0m     \u001b[38;5;28;01mwhile\u001b[39;00m n \u001b[38;5;241m<\u001b[39m howmany:\n\u001b[0;32m      6\u001b[0m         \u001b[38;5;28mprint\u001b[39m(n, message)\n\u001b[0;32m      7\u001b[0m         n \u001b[38;5;241m=\u001b[39m n \u001b[38;5;241m+\u001b[39m \u001b[38;5;241m1\u001b[39m\n",
      "\u001b[1;31mTypeError\u001b[0m: '<' not supported between instances of 'int' and 'str'"
     ]
    }
   ],
   "source": [
    "# Call a function with arguments in the wrong order\n",
    "\n",
    "def write_on_blackboard(message, howmany):\n",
    "    n = 0\n",
    "    while n < howmany:\n",
    "        print(n, message)\n",
    "        n = n + 1\n",
    "\n",
    "write_on_blackboard(3, \"I won't skateboard in class\")"
   ]
  },
  {
   "cell_type": "markdown",
   "metadata": {},
   "source": [
    "### Your turn:\n",
    "\n",
    "* **Problem 1:** Use one of the above functions to write out Bart's punishment 100 times:"
   ]
  },
  {
   "cell_type": "markdown",
   "metadata": {},
   "source": [
    "![bart writing on blackboard](http://1.bp.blogspot.com/-ztvU2jssUQw/U9OsiSHlJpI/AAAAAAAAAMM/zOAPxMb83XE/s1600/I-will-not-replace-a-candy-heart-with-a-frogs-heart.png)"
   ]
  },
  {
   "cell_type": "code",
   "execution_count": 71,
   "metadata": {
    "collapsed": false,
    "jupyter": {
     "outputs_hidden": false
    }
   },
   "outputs": [
    {
     "name": "stdout",
     "output_type": "stream",
     "text": [
      "1 I will not replace a candy heart with a frog\n",
      "2 I will not replace a candy heart with a frog\n",
      "3 I will not replace a candy heart with a frog\n",
      "4 I will not replace a candy heart with a frog\n",
      "5 I will not replace a candy heart with a frog\n",
      "6 I will not replace a candy heart with a frog\n",
      "7 I will not replace a candy heart with a frog\n",
      "8 I will not replace a candy heart with a frog\n",
      "9 I will not replace a candy heart with a frog\n",
      "10 I will not replace a candy heart with a frog\n",
      "11 I will not replace a candy heart with a frog\n",
      "12 I will not replace a candy heart with a frog\n",
      "13 I will not replace a candy heart with a frog\n",
      "14 I will not replace a candy heart with a frog\n",
      "15 I will not replace a candy heart with a frog\n",
      "16 I will not replace a candy heart with a frog\n",
      "17 I will not replace a candy heart with a frog\n",
      "18 I will not replace a candy heart with a frog\n",
      "19 I will not replace a candy heart with a frog\n",
      "20 I will not replace a candy heart with a frog\n",
      "21 I will not replace a candy heart with a frog\n",
      "22 I will not replace a candy heart with a frog\n",
      "23 I will not replace a candy heart with a frog\n",
      "24 I will not replace a candy heart with a frog\n",
      "25 I will not replace a candy heart with a frog\n",
      "26 I will not replace a candy heart with a frog\n",
      "27 I will not replace a candy heart with a frog\n",
      "28 I will not replace a candy heart with a frog\n",
      "29 I will not replace a candy heart with a frog\n",
      "30 I will not replace a candy heart with a frog\n",
      "31 I will not replace a candy heart with a frog\n",
      "32 I will not replace a candy heart with a frog\n",
      "33 I will not replace a candy heart with a frog\n",
      "34 I will not replace a candy heart with a frog\n",
      "35 I will not replace a candy heart with a frog\n",
      "36 I will not replace a candy heart with a frog\n",
      "37 I will not replace a candy heart with a frog\n",
      "38 I will not replace a candy heart with a frog\n",
      "39 I will not replace a candy heart with a frog\n",
      "40 I will not replace a candy heart with a frog\n",
      "41 I will not replace a candy heart with a frog\n",
      "42 I will not replace a candy heart with a frog\n",
      "43 I will not replace a candy heart with a frog\n",
      "44 I will not replace a candy heart with a frog\n",
      "45 I will not replace a candy heart with a frog\n",
      "46 I will not replace a candy heart with a frog\n",
      "47 I will not replace a candy heart with a frog\n",
      "48 I will not replace a candy heart with a frog\n",
      "49 I will not replace a candy heart with a frog\n",
      "50 I will not replace a candy heart with a frog\n",
      "51 I will not replace a candy heart with a frog\n",
      "52 I will not replace a candy heart with a frog\n",
      "53 I will not replace a candy heart with a frog\n",
      "54 I will not replace a candy heart with a frog\n",
      "55 I will not replace a candy heart with a frog\n",
      "56 I will not replace a candy heart with a frog\n",
      "57 I will not replace a candy heart with a frog\n",
      "58 I will not replace a candy heart with a frog\n",
      "59 I will not replace a candy heart with a frog\n",
      "60 I will not replace a candy heart with a frog\n",
      "61 I will not replace a candy heart with a frog\n",
      "62 I will not replace a candy heart with a frog\n",
      "63 I will not replace a candy heart with a frog\n",
      "64 I will not replace a candy heart with a frog\n",
      "65 I will not replace a candy heart with a frog\n",
      "66 I will not replace a candy heart with a frog\n",
      "67 I will not replace a candy heart with a frog\n",
      "68 I will not replace a candy heart with a frog\n",
      "69 I will not replace a candy heart with a frog\n",
      "70 I will not replace a candy heart with a frog\n",
      "71 I will not replace a candy heart with a frog\n",
      "72 I will not replace a candy heart with a frog\n",
      "73 I will not replace a candy heart with a frog\n",
      "74 I will not replace a candy heart with a frog\n",
      "75 I will not replace a candy heart with a frog\n",
      "76 I will not replace a candy heart with a frog\n",
      "77 I will not replace a candy heart with a frog\n",
      "78 I will not replace a candy heart with a frog\n",
      "79 I will not replace a candy heart with a frog\n",
      "80 I will not replace a candy heart with a frog\n",
      "81 I will not replace a candy heart with a frog\n",
      "82 I will not replace a candy heart with a frog\n",
      "83 I will not replace a candy heart with a frog\n",
      "84 I will not replace a candy heart with a frog\n",
      "85 I will not replace a candy heart with a frog\n",
      "86 I will not replace a candy heart with a frog\n",
      "87 I will not replace a candy heart with a frog\n",
      "88 I will not replace a candy heart with a frog\n",
      "89 I will not replace a candy heart with a frog\n",
      "90 I will not replace a candy heart with a frog\n",
      "91 I will not replace a candy heart with a frog\n",
      "92 I will not replace a candy heart with a frog\n",
      "93 I will not replace a candy heart with a frog\n",
      "94 I will not replace a candy heart with a frog\n",
      "95 I will not replace a candy heart with a frog\n",
      "96 I will not replace a candy heart with a frog\n",
      "97 I will not replace a candy heart with a frog\n",
      "98 I will not replace a candy heart with a frog\n",
      "99 I will not replace a candy heart with a frog\n",
      "100 I will not replace a candy heart with a frog\n"
     ]
    }
   ],
   "source": [
    "# YOUR SOLUTION:\n",
    "def write_on_blackboard(message, howmany):\n",
    "    n = 1\n",
    "    while n <= howmany:\n",
    "        print(n, message)\n",
    "        n = n + 1\n",
    "\n",
    "write_on_blackboard(\"I will not replace a candy heart with a frog\", 100)"
   ]
  },
  {
   "cell_type": "markdown",
   "metadata": {},
   "source": [
    "* **Problem 2:** Write a function `count_digits()` that accepts one numeric argument and prints it out along with the number of digits it has. (Convert it to a string and count its length, as before.) Sample output:\n",
    "\n",
    "\n",
    "    In [ ]: count_digits(125)\n",
    "\n",
    "            125 has 3 digits\n",
    "\n",
    "\n",
    "Adapt your function so that it also works correctly with negative integers (e.g., `-750`)."
   ]
  },
  {
   "cell_type": "code",
   "execution_count": 84,
   "metadata": {
    "collapsed": false,
    "jupyter": {
     "outputs_hidden": false
    }
   },
   "outputs": [
    {
     "name": "stdout",
     "output_type": "stream",
     "text": [
      "125 has 3 digits\n",
      "-750 has 3 digits\n"
     ]
    }
   ],
   "source": [
    "# YOUR SOLUTION: \n",
    "def count_digits(getal):\n",
    "    if str(getal)[0] == \"-\":\n",
    "        print(getal, \"has\", len(str(getal)) - 1, \"digits\")\n",
    "    else:\n",
    "        print(getal, \"has\", len(str(getal)), \"digits\")    \n",
    "count_digits(125)\n",
    "count_digits(-750)"
   ]
  },
  {
   "cell_type": "markdown",
   "metadata": {},
   "source": [
    "* **Problem 3:**  Write a **function** named `right_justify()` that takes a string named `s` as its argument and prints the string with enough leading spaces so that the last letter of the string is in column 70 of the display. \n",
    "\n",
    "    Your function should use `len()` to find out how much space the string will take up, and fill the rest with spaces. (Hint: we know an easy way to print multiple copies of the string `\" \"`.) For example:\n",
    "\n",
    "\n",
    "        right_justify('first line')\n",
    "        right_justify(\"A longer string\")\n",
    "        right_justify(\"tiny\")\n",
    "    \n",
    "                                                             first line\n",
    "                                                        A longer string\n",
    "                                                                   tiny"
   ]
  },
  {
   "cell_type": "code",
   "execution_count": 85,
   "metadata": {
    "collapsed": false,
    "jupyter": {
     "outputs_hidden": false
    }
   },
   "outputs": [
    {
     "name": "stdout",
     "output_type": "stream",
     "text": [
      "                                                             first line\n",
      "                                                        A longer string\n",
      "                                                                   tiny\n"
     ]
    }
   ],
   "source": [
    "# YOUR SOLUTION: \n",
    "def right_justify(s):\n",
    "    x = 70 - len(s)\n",
    "    print(\" \" * x, s)\n",
    "right_justify('first line')\n",
    "right_justify(\"A longer string\")\n",
    "right_justify(\"tiny\")"
   ]
  },
  {
   "cell_type": "markdown",
   "metadata": {},
   "source": [
    "### 5.2 Functions can return a value"
   ]
  },
  {
   "cell_type": "markdown",
   "metadata": {},
   "source": [
    "Functions like `len()` or `upper()` \"return\" a value, which is like any other python expression or calculation: We can assign it to a variable, print it, or use it as part of another expression or function.\n",
    "\n",
    "Our custom functions can return a value too. Python uses the keyword `return` for this."
   ]
  },
  {
   "cell_type": "markdown",
   "metadata": {},
   "source": [
    "**Example:** Here is a function that adds `\"!!!\"` after its argument (which must be a string), and returns the new string. It does not print anything out when called. We can choose to print the value it returns, assign it to a variable, or ignore it."
   ]
  },
  {
   "cell_type": "code",
   "execution_count": 86,
   "metadata": {
    "collapsed": false,
    "jupyter": {
     "outputs_hidden": false
    }
   },
   "outputs": [
    {
     "name": "stdout",
     "output_type": "stream",
     "text": [
      "printed immediately!!!\n",
      "Let's print the saved value: something to save!!!\n"
     ]
    }
   ],
   "source": [
    "def exclaim(text):\n",
    "    newtext = text + \"!!!\"\n",
    "    return newtext\n",
    "\n",
    "exclaim(\"This is not printed\")          # The returned value is lost, since we don't use it\n",
    "newvar = exclaim(\"something to save\")   # The returned value is assigned to `newvar`\n",
    "\n",
    "print(exclaim(\"printed immediately\"))   # The returned value is printed\n",
    "print(\"Let's print the saved value:\", newvar)"
   ]
  },
  {
   "cell_type": "markdown",
   "metadata": {},
   "source": [
    "### Your turn: \n",
    "\n",
    "Define a function with no arguments that _returns_ the string `\"Hello\"`. Call your function and save the result in the variable `saved`. Then print the variable twice. (Do not call the function a second time)."
   ]
  },
  {
   "cell_type": "code",
   "execution_count": 94,
   "metadata": {
    "collapsed": false,
    "jupyter": {
     "outputs_hidden": false
    }
   },
   "outputs": [
    {
     "name": "stdout",
     "output_type": "stream",
     "text": [
      "Hello\n",
      "Hello\n"
     ]
    }
   ],
   "source": [
    "# YOUR SOLUTION:\n",
    "def hoi():\n",
    "    tekst = \"Hello\"\n",
    "    print(tekst)\n",
    "    return tekst\n",
    "    \n",
    "saved = hoi()\n",
    "print(saved)"
   ]
  },
  {
   "cell_type": "markdown",
   "metadata": {},
   "source": [
    "**Example 2:** The absolute value of x is the positive number with the same\n",
    "magnitude. E.g., `abs(5)` is `5`, `abs(-10)` is `10`."
   ]
  },
  {
   "cell_type": "code",
   "execution_count": 95,
   "metadata": {
    "collapsed": false,
    "jupyter": {
     "outputs_hidden": false
    }
   },
   "outputs": [],
   "source": [
    "def absolute_value(x):\n",
    "    if x < 0:\n",
    "        return -x    # If `x` is negative, `-x` is positive!\n",
    "    else:\n",
    "        return x\n",
    "\n",
    "a = absolute_value(-15)  # a is now 15"
   ]
  },
  {
   "cell_type": "markdown",
   "metadata": {},
   "source": [
    "### Your turn:\n",
    "\n",
    "* **Problem 4:** Write a simplified version of your function `count_digits()`: It should just return the number of digits in its argument, and produce no output. Use it to report (with a nice message) the number of digits in `10**25`."
   ]
  },
  {
   "cell_type": "code",
   "execution_count": 96,
   "metadata": {
    "collapsed": false,
    "jupyter": {
     "outputs_hidden": false
    }
   },
   "outputs": [
    {
     "name": "stdout",
     "output_type": "stream",
     "text": [
      "26 with a nice message\n"
     ]
    }
   ],
   "source": [
    "# YOUR SOLUTION: \n",
    "def count_digits(x):\n",
    "    print(len(str(x)), \"with a nice message\")\n",
    "\n",
    "count_digits(10**25)"
   ]
  },
  {
   "cell_type": "markdown",
   "metadata": {},
   "source": [
    "* **Problem 5:** Counting the number of words in a string would not be that hard a task, except that people have  different ideas of what a \"word\" is. The easiest counting methods rely on python features we have not covered yet, so we'll solve a simpler problem: Counting the number of spaces in a string. \n",
    "\n",
    "    Note that the string `\"All is well that ends well!\"` contains 5 spaces and 6 words. In general, if a simple string like this has _n_ spaces, how many words does it have? \n",
    "    \n",
    "    Write a function `countwords()` that takes a string as its argument and **returns** the number of words in the string."
   ]
  },
  {
   "cell_type": "code",
   "execution_count": 110,
   "metadata": {
    "collapsed": false,
    "jupyter": {
     "outputs_hidden": false
    }
   },
   "outputs": [
    {
     "data": {
      "text/plain": [
       "6"
      ]
     },
     "execution_count": 110,
     "metadata": {},
     "output_type": "execute_result"
    }
   ],
   "source": [
    "# YOUR SOLUTION: \n",
    "def countwords(s):\n",
    "    aantal_spaties = 0\n",
    "    n = 0\n",
    "    while n < len(s):\n",
    "        if str(s)[n] == \" \":\n",
    "            n = n + 1\n",
    "            aantal_spaties = aantal_spaties + 1\n",
    "        else:\n",
    "            n = n + 1\n",
    "    aantal_woorden = aantal_spaties + 1\n",
    "    return aantal_woorden\n",
    "    print(aantal_woorden)\n",
    "\n",
    "countwords(\"All is well that ends well!\")"
   ]
  },
  {
   "cell_type": "markdown",
   "metadata": {},
   "source": [
    "### This is the end of this assignment"
   ]
  }
 ],
 "metadata": {
  "kernelspec": {
   "display_name": "Python [conda env:base] *",
   "language": "python",
   "name": "conda-base-py"
  },
  "language_info": {
   "codemirror_mode": {
    "name": "ipython",
    "version": 3
   },
   "file_extension": ".py",
   "mimetype": "text/x-python",
   "name": "python",
   "nbconvert_exporter": "python",
   "pygments_lexer": "ipython3",
   "version": "3.12.7"
  }
 },
 "nbformat": 4,
 "nbformat_minor": 4
}
