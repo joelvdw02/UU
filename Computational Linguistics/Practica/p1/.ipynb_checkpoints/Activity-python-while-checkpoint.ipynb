{
 "cells": [
  {
   "cell_type": "markdown",
   "metadata": {},
   "source": [
    "Python loops: From simple to not so much\n",
    "=======\n",
    "<p style=\"text-align: left\"><i>Alexis Dimitriadis</i></p>"
   ]
  },
  {
   "cell_type": "markdown",
   "metadata": {},
   "source": [
    "These problems start easy and get progressively harder. The goal is not to\n",
    "get the answers, but to understand how python elements work. Feel free to\n",
    "experiment and explore variations."
   ]
  },
  {
   "cell_type": "markdown",
   "metadata": {},
   "source": [
    "\"Challenge\" problems may need skills that you don't have if you've\n",
    "never learned to program in the past. They're there to keep some of you\n",
    "from getting bored."
   ]
  },
  {
   "cell_type": "markdown",
   "metadata": {
    "TableOfContents": 1
   },
   "source": [
    "<h2>Contents</h2>\n",
    "\n",
    "&nbsp;&nbsp;&nbsp;&nbsp;<a href=\"#1.-Assigning-to-variables\">1.&nbsp; Assigning to variables</a>  \n",
    "&nbsp;&nbsp;&nbsp;&nbsp;<a href=\"#2.-The-_while_-loop:-Do-something-repeatedly\">2.&nbsp; The _while_ loop: Do something repeatedly</a>  \n",
    "&nbsp;&nbsp;&nbsp;&nbsp;<a href=\"#3.-Infinite-loops-in-Notebook\">3.&nbsp; Infinite loops in Notebook</a>  \n",
    "&nbsp;&nbsp;&nbsp;&nbsp;<a href=\"#4.-Your-turn:-Write-some-loops\">4.&nbsp; Your turn: Write some loops</a>  \n",
    "&nbsp;&nbsp;&nbsp;&nbsp;<a href=\"#5.-Collecting-results\">5.&nbsp; Collecting results</a>  \n",
    "&nbsp;&nbsp;&nbsp;&nbsp;<a href=\"#6.-Challenge:\">6.&nbsp; Challenge:</a>  \n",
    "&nbsp;&nbsp;&nbsp;&nbsp;<a href=\"#7.-Upload-your-work\">7.&nbsp; Upload your work</a>  \n"
   ]
  },
  {
   "cell_type": "markdown",
   "metadata": {},
   "source": [
    "### 1. Assigning to variables"
   ]
  },
  {
   "cell_type": "markdown",
   "metadata": {},
   "source": [
    "In this week's reading, you have learned about the fundamentals of\n",
    "scripting and using variables. The section \"Updating variables\"\n",
    "presents expressions like the following, which are mysterious from a mathematical\n",
    "perspective:"
   ]
  },
  {
   "cell_type": "code",
   "execution_count": null,
   "metadata": {},
   "outputs": [],
   "source": [
    "x = 12\n",
    "x = x + 1"
   ]
  },
  {
   "cell_type": "markdown",
   "metadata": {},
   "source": [
    "The key is to remember that programs are executed\n",
    "**one step at a time;** the last statement means \"compute the value\n",
    "`x + 1` and store it in the variable `x` (replacing whatever was there\n",
    "before).\""
   ]
  },
  {
   "cell_type": "markdown",
   "metadata": {},
   "source": [
    "**Your turn:**\n",
    "\n",
    "Try to answer **before you execute the following code cell:** What will this code fragment print?"
   ]
  },
  {
   "cell_type": "code",
   "execution_count": null,
   "metadata": {},
   "outputs": [],
   "source": [
    "x = 2 + 2\n",
    "print(x)\n",
    "x = 3"
   ]
  },
  {
   "cell_type": "markdown",
   "metadata": {},
   "source": [
    "### 2. The _while_ loop: Do something repeatedly"
   ]
  },
  {
   "cell_type": "markdown",
   "metadata": {},
   "source": [
    "A while loop does something as long as some condition is true\n",
    "(so possibly zero times, but possibly more)."
   ]
  },
  {
   "cell_type": "markdown",
   "metadata": {},
   "source": [
    "Before you run the following code, try to predict _exactly_ what it is\n",
    "going to print."
   ]
  },
  {
   "cell_type": "code",
   "execution_count": null,
   "metadata": {},
   "outputs": [],
   "source": [
    "n = 0\n",
    "while n < 5:\n",
    "    print(\"Hello!\")\n",
    "    n = n + 1\n",
    "print(\"Done\")"
   ]
  },
  {
   "cell_type": "markdown",
   "metadata": {},
   "source": [
    "Execute the above code before you go on."
   ]
  },
  {
   "cell_type": "markdown",
   "metadata": {},
   "source": [
    "**Note carefully** the meaning of the indentation: Everything indented under\n",
    "the `while` statement is part of the loop (the \"body\" of the loop). When Python reaches the start of a `while`-loop, it does the following:\n",
    "\n",
    "1. The loop test (`n < 5`) is evaluated. \n",
    "2. If the test comes out as `False`, the body of the loop is skipped and python goes on to the next (unindented) statement-- in this case, `print(\"Done\")`.\n",
    "3. If the test comes out as True, each of the indented statements will be executed in turn. \n",
    "4. Python goes back to step 1: the loop test is evaluated, etc."
   ]
  },
  {
   "cell_type": "markdown",
   "metadata": {},
   "source": [
    "Here `n` is used as a **counter**, a variable that we use to count.\n",
    "Its value **must** increase every time, otherwise the loop will\n",
    "never stop!\n",
    "\n",
    "But note that the variable `n` has no special meaning to the Python language. You could use another variable, or any other test instead of \"`n < 5`\". The only obligatory keyword is `while`. It _must_ be followed by a test, then a colon :, and then an indented block of statements. If you forget the indentation, you'll get a Python error (\"expected an indented block\")."
   ]
  },
  {
   "cell_type": "markdown",
   "metadata": {},
   "source": [
    "Here is a version that also prints the value of `n`. Try it out:"
   ]
  },
  {
   "cell_type": "code",
   "execution_count": null,
   "metadata": {},
   "outputs": [],
   "source": [
    "n = 0\n",
    "while n < 5:\n",
    "    print(\"Hello! n is\", n)\n",
    "    n = n + 1\n",
    "\n",
    "print(\"Dooooone!\")"
   ]
  },
  {
   "cell_type": "markdown",
   "metadata": {},
   "source": [
    "Note the values used: Starting at zero and testing \"less than five\"\n",
    "gives us exactly five repetitions (for 0, 1, 2, 3, 4)."
   ]
  },
  {
   "cell_type": "markdown",
   "metadata": {},
   "source": [
    "Starting at zero is common in computer science, because\n",
    "it was found to simplify many kinds of calculation."
   ]
  },
  {
   "cell_type": "markdown",
   "metadata": {},
   "source": [
    "If you are interested in a particular number (five repetitions in\n",
    "this case), always use it explictly in your code. In this case, we\n",
    "could have gotten the same output by writing `n <= 4`; but if we\n",
    "wanted _five_ repetitions, the number 4 has no significance.\n",
    "Starting from zero and using _less than_ for the test is a common\n",
    "\"idiom\" for counting repetitions."
   ]
  },
  {
   "cell_type": "markdown",
   "metadata": {},
   "source": [
    "### 3. Infinite loops in Notebook"
   ]
  },
  {
   "cell_type": "markdown",
   "metadata": {},
   "source": [
    "<!-- THIS SECTION IS ALSO IN THE Notebooks-CLZ document -->\n",
    "\n",
    "\n",
    "If you make a mistake, you might get stuck in an \"infinite loop\":\n",
    "Your program is running but will never stop. You'll see a little\n",
    "black circle at the top right of the page, indicating that the\n",
    "python \"kernel\" is occupied. You'll also see a star next to the code cell that is running, like this:\n",
    "\n",
    "    In [*]:\n",
    "\n",
    "\"Interrupting\" a running kernel stops it in mid-execution. Look\n",
    "for the square black button, or select the \"Interrupt\" option under\n",
    "the _Kernel_ menu. \n",
    "\n",
    "If your loop is producing output, it may take a _very_ long time before the browser can get around to obeying the Interrupt command. Killing and restarting the notebook server is sometimes the quickest fix.\n",
    "\n",
    "Practice with the loop below, by changing the line **`x = x + 1`** to **`n = x + 1`**. Can you see why that is a problem? Then restore it to fix the script."
   ]
  },
  {
   "cell_type": "code",
   "execution_count": null,
   "metadata": {},
   "outputs": [],
   "source": [
    "x = 0\n",
    "while x < 5:\n",
    "    x = x + 1\n",
    "print(\"Done: x is\", x)"
   ]
  },
  {
   "cell_type": "markdown",
   "metadata": {},
   "source": [
    "If you leave an infinite loop running, you will not be able to execute other code cells. If you try to run some simple code and nothing happens, check if your kernel is stuck elsewhere (look for the black circle)."
   ]
  },
  {
   "cell_type": "markdown",
   "metadata": {},
   "source": [
    "### 4. Your turn: Write some loops"
   ]
  },
  {
   "cell_type": "markdown",
   "metadata": {},
   "source": [
    "**Task 1:** Modify one of the above loops to print \"Hello, world\" seven times,\n",
    "and nothing else. Remember to use the number 7 in your code (see above)."
   ]
  },
  {
   "cell_type": "code",
   "execution_count": null,
   "metadata": {},
   "outputs": [],
   "source": [
    "# YOUR SOLUTION:\n",
    "def hi(n):\n",
    "    for i in range(n):\n",
    "        print(\"Hello, world\")\n",
    "hi(7)"
   ]
  },
  {
   "cell_type": "markdown",
   "metadata": {},
   "source": [
    "**Task 2:** Use a `while` loop to print the numbers from 5 to 15 (and\n",
    "nothing else). Use the numbers 5 and 15 in your code--not 4 or 16, for\n",
    "example."
   ]
  },
  {
   "cell_type": "code",
   "execution_count": null,
   "metadata": {},
   "outputs": [],
   "source": [
    "# YOUR SOLUTION:\n",
    "x = 5\n",
    "while x <= 15:\n",
    "    print(\"Done: x is\", x)\n",
    "    x = x + 1"
   ]
  },
  {
   "cell_type": "markdown",
   "metadata": {},
   "source": [
    "**Task 3:** Write a program that prints the numbers 50, 55, 60, ..., 100."
   ]
  },
  {
   "cell_type": "code",
   "execution_count": null,
   "metadata": {},
   "outputs": [],
   "source": [
    "# YOUR SOLUTION:\n",
    "x = 50\n",
    "while x <= 100:\n",
    "    print(\"Done: x is\", x)\n",
    "    x = x + 5"
   ]
  },
  {
   "cell_type": "markdown",
   "metadata": {},
   "source": [
    "**Task 4:** Print the _squares_ of the numbers from 5 to 15:\n",
    "\n",
    "    25\n",
    "    36\n",
    "    (etc.)"
   ]
  },
  {
   "cell_type": "markdown",
   "metadata": {},
   "source": [
    "Hint: Think about how you'll go from each number to the next."
   ]
  },
  {
   "cell_type": "code",
   "execution_count": null,
   "metadata": {},
   "outputs": [],
   "source": [
    "# YOUR SOLUTION:\n",
    "x = 5\n",
    "while x <= 15:\n",
    "    print(\"Done: x is\", x**2)\n",
    "    x = x + 1"
   ]
  },
  {
   "cell_type": "markdown",
   "metadata": {},
   "source": [
    "**Task 5:** Write a program that prints the inverse (1/x) of each number\n",
    "  from 10 to 20. The inverse of 20 is 0.05."
   ]
  },
  {
   "cell_type": "code",
   "execution_count": null,
   "metadata": {},
   "outputs": [],
   "source": [
    "# YOUR SOLUTION:\n",
    "x = 10\n",
    "while x <= 20:\n",
    "    print(\"Done: x is\", 1/x)\n",
    "    x = x + 1"
   ]
  },
  {
   "cell_type": "markdown",
   "metadata": {},
   "source": [
    "### 5. Collecting results"
   ]
  },
  {
   "cell_type": "markdown",
   "metadata": {},
   "source": [
    "We can make an extended computation by accumulating results in a sum\n",
    "variable. For example, the following script might add up a grocery bill:"
   ]
  },
  {
   "cell_type": "code",
   "execution_count": null,
   "metadata": {},
   "outputs": [],
   "source": [
    "# Fruit prices\n",
    "mango = 0.75\n",
    "cucumber = 0.50\n",
    "tomatoes = 1.99  # price per kilo\n",
    "\n",
    "# Grocery bill\n",
    "total = 0\n",
    "total = total + mango\n",
    "total = total + tomatoes\n",
    "total = total + 4 * cucumber\n",
    "print(total)"
   ]
  },
  {
   "cell_type": "markdown",
   "metadata": {},
   "source": [
    "Of course, we can also use a loop to add quantities to the same variable. Here's how you could find the sum of the numbers from 1 to 10. Note that the initial value of the sum variable must be given before the loop starts -- otherwise it will keep forgetting what was added earlier!"
   ]
  },
  {
   "cell_type": "code",
   "execution_count": null,
   "metadata": {},
   "outputs": [],
   "source": [
    "total = 0  # Set the initial value\n",
    "n = 1\n",
    "while n <= 10:\n",
    "    total = total + n\n",
    "    n += 1"
   ]
  },
  {
   "cell_type": "markdown",
   "metadata": {},
   "source": [
    "**Task 6:** Add up the squares of the numbers from 5 to 15. Print out\n",
    "only the total, not the partial results."
   ]
  },
  {
   "cell_type": "markdown",
   "metadata": {},
   "source": [
    "- You can, and should, print out intermediate results to help you get\n",
    "  the program working; then comment out or delete the extra `print`\n",
    "  statements.\n",
    "\n",
    "- Hint: Create a sum variable and add each square to it. What should be\n",
    "  the starting value of this variable, before any squares are added?\n",
    "\n",
    "- You should get `1210` as the sum of the squares."
   ]
  },
  {
   "cell_type": "code",
   "execution_count": null,
   "metadata": {},
   "outputs": [],
   "source": [
    "# YOUR SOLUTION:\n",
    "totaal = 0\n",
    "x = 5\n",
    "while x <= 15:\n",
    "    #print(\"Done: x is\", x**2)\n",
    "    totaal = totaal + x**2\n",
    "    x = x + 1\n",
    "print(totaal)"
   ]
  },
  {
   "cell_type": "markdown",
   "metadata": {},
   "source": [
    "**Task 7:** Print the sum of all odd numbers from 1 to 99 (1+3+5+....+99).\n",
    "Don't print intermediate sums as you calculate."
   ]
  },
  {
   "cell_type": "markdown",
   "metadata": {},
   "source": [
    "The correct answer **ends** with 500."
   ]
  },
  {
   "cell_type": "code",
   "execution_count": null,
   "metadata": {},
   "outputs": [],
   "source": [
    "# YOUR SOLUTION:\n",
    "totaal = 0\n",
    "x = 1\n",
    "while x <= 99:\n",
    "    totaal = totaal + x\n",
    "    x = x + 2\n",
    "print(totaal)"
   ]
  },
  {
   "cell_type": "markdown",
   "metadata": {},
   "source": [
    "**Task 8:** The factorial of a number n (written n!)\n",
    "is given by\n",
    "\n",
    "  `n! = 1*2*3*...*(n-2)*(n-1)*n`\n",
    "\n",
    "For example, `4! = 1*2*3*4 = 24`.\n",
    "\n",
    "Write a program to calculate 13 factorial. (Correct answer: 6227020800)"
   ]
  },
  {
   "cell_type": "code",
   "execution_count": null,
   "metadata": {},
   "outputs": [],
   "source": [
    "# YOUR SOLUTION:\n",
    "x = 13\n",
    "totaal = x\n",
    "while x >= 2:\n",
    "    x = x - 1\n",
    "    totaal = totaal*x\n",
    "print(totaal)"
   ]
  },
  {
   "cell_type": "markdown",
   "metadata": {},
   "source": [
    "### 6. Challenge:"
   ]
  },
  {
   "cell_type": "markdown",
   "metadata": {},
   "source": [
    "Building on your factorial code, write a script that finds the\n",
    "smallest number N whose factorial is bigger than 2**64 (2 multiplied\n",
    "by itself 64 times):\n",
    "\n",
    "    N! > 2**64\n",
    "    \n",
    "The factorial of the correct answer **ends** in 9440000."
   ]
  },
  {
   "cell_type": "code",
   "execution_count": 1,
   "metadata": {},
   "outputs": [
    {
     "name": "stdout",
     "output_type": "stream",
     "text": [
      "22\n",
      "51090942171709440000\n"
     ]
    }
   ],
   "source": [
    "# YOUR SOLUTION:\n",
    "import math\n",
    "\n",
    "x = 2**64\n",
    "y = 1\n",
    "z = 0\n",
    "while z <= x:\n",
    "    z = math.factorial(y)\n",
    "    y = y + 1\n",
    "print(y)\n",
    "print(z)"
   ]
  }
 ],
 "metadata": {
  "kernelspec": {
   "display_name": "Python [conda env:base] *",
   "language": "python",
   "name": "conda-base-py"
  },
  "language_info": {
   "codemirror_mode": {
    "name": "ipython",
    "version": 3
   },
   "file_extension": ".py",
   "mimetype": "text/x-python",
   "name": "python",
   "nbconvert_exporter": "python",
   "pygments_lexer": "ipython3",
   "version": "3.12.7"
  }
 },
 "nbformat": 4,
 "nbformat_minor": 4
}
