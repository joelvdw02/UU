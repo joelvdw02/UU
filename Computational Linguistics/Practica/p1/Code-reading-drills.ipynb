{
 "cells": [
  {
   "cell_type": "markdown",
   "metadata": {},
   "source": [
    "# Code-reading practice\n",
    "\n",
    "_Practical Python for Linguistics and the Humanities -- Alexis Dimitriadis_"
   ]
  },
  {
   "cell_type": "markdown",
   "metadata": {},
   "source": [
    "To write code, you must be able to read it correctly. In this exercise, we focus\n",
    "on reading code correctly rather than on writing it. \n",
    "\n",
    "\n",
    "\n",
    "#### READ THESE INSTRUCTIONS TO THE END BEFORE YOU START\n",
    "\n",
    "Although you will not be writing a program, you **must** do \n",
    "this exercise in writing! Otherwise it's\n",
    "too easy to think \"I knew that\". Enter your answers in the cells labeled \"Expected Output\". (This assignment is not uploaded or graded; do it properly for your own benefit.)\n",
    "\n",
    "Study carefully each of the following snippets of code,\n",
    "figure out STEP FOR STEP what it will do, and \n",
    "\n",
    ">   **Write down exactly what it will print**\n",
    "\n",
    "\n",
    "**THEN** run the code and see if you were right. E.g., if you see `print(\"Hello\")`, write down \n",
    "\n",
    "    Expected output: \n",
    "    Hello\n",
    "\n",
    "**NO PEEKING!** Write down the answer, **then** run the code.\n",
    "\n",
    "If you get the answer wrong, figure out or find out _why_ you got it wrong (ask your neighbors and me if you are not sure you understand) before you go on to the next snippet. \n",
    "\n",
    "If got the answer right but you weren't really sure you would, take the opportunity to improve your knowledge anyway. Programming is hard enough when you *know* how the language works!\n",
    "\n",
    "You can also copy a snippet into a new Notebook cell and\n",
    "experiment until you understand what's going on. (Be careful not to lose the original snippet.)\n"
   ]
  },
  {
   "cell_type": "markdown",
   "metadata": {},
   "source": [
    "### Snippet 1\n",
    "\n",
    "What will the following code print? Type it into the box below (including the newlines), \n",
    "then run the code."
   ]
  },
  {
   "cell_type": "code",
   "execution_count": 1,
   "metadata": {
    "collapsed": false,
    "jupyter": {
     "outputs_hidden": false
    }
   },
   "outputs": [
    {
     "name": "stdout",
     "output_type": "stream",
     "text": [
      "4 40\n",
      "4\n"
     ]
    }
   ],
   "source": [
    "x = 2 + 2\n",
    "print(x, end=\" \")\n",
    "print(x * 10)\n",
    "print(x)"
   ]
  },
  {
   "cell_type": "raw",
   "metadata": {},
   "source": [
    "Expected output: \n",
    "4 40\n",
    "4"
   ]
  },
  {
   "cell_type": "markdown",
   "metadata": {},
   "source": [
    "### Snippet 2\n"
   ]
  },
  {
   "cell_type": "code",
   "execution_count": 3,
   "metadata": {
    "collapsed": false,
    "jupyter": {
     "outputs_hidden": false
    }
   },
   "outputs": [],
   "source": [
    "x = \"hello\" * 5\n",
    "y = \"Bob\""
   ]
  },
  {
   "cell_type": "raw",
   "metadata": {},
   "source": [
    "Expected output:"
   ]
  },
  {
   "cell_type": "markdown",
   "metadata": {},
   "source": [
    "### Snippet 3\n"
   ]
  },
  {
   "cell_type": "code",
   "execution_count": 4,
   "metadata": {
    "collapsed": false,
    "jupyter": {
     "outputs_hidden": false
    }
   },
   "outputs": [
    {
     "name": "stdout",
     "output_type": "stream",
     "text": [
      "mouse\n",
      "Bill\n"
     ]
    }
   ],
   "source": [
    "var1 = \"Bill\"\n",
    "var2 = \"Bill\".upper() * 3\n",
    "\n",
    "print(\"mouse\")\n",
    "print(var1)"
   ]
  },
  {
   "cell_type": "raw",
   "metadata": {},
   "source": [
    "Expected output:\n",
    "mouse\n",
    "Bill"
   ]
  },
  {
   "cell_type": "markdown",
   "metadata": {},
   "source": [
    "### Snippet 4\n"
   ]
  },
  {
   "cell_type": "code",
   "execution_count": 5,
   "metadata": {
    "collapsed": false,
    "jupyter": {
     "outputs_hidden": false
    }
   },
   "outputs": [
    {
     "name": "stdout",
     "output_type": "stream",
     "text": [
      "tea\n"
     ]
    }
   ],
   "source": [
    "\n",
    "if 1 + 1 * 5 == 10:\n",
    "    print(\"foot\")\n",
    "else:\n",
    "    print(\"tea\")"
   ]
  },
  {
   "cell_type": "raw",
   "metadata": {},
   "source": [
    "Expected output: \n",
    "tea"
   ]
  },
  {
   "cell_type": "markdown",
   "metadata": {},
   "source": [
    "### Snippet 5\n",
    "\n",
    "Type in the expected output, including newlines"
   ]
  },
  {
   "cell_type": "code",
   "execution_count": 6,
   "metadata": {
    "collapsed": false,
    "jupyter": {
     "outputs_hidden": false
    }
   },
   "outputs": [
    {
     "name": "stdout",
     "output_type": "stream",
     "text": [
      "Mary John\n",
      "1\n",
      "Mary John\n",
      "2\n",
      "Mary John\n",
      "3\n",
      "Bob\n"
     ]
    }
   ],
   "source": [
    "john = \"Mary\"\n",
    "n = 0\n",
    "while n < 3:\n",
    "    print(john, \"John\")\n",
    "    n = n + 1\n",
    "    print(n)\n",
    "print(\"Bob\")"
   ]
  },
  {
   "cell_type": "raw",
   "metadata": {},
   "source": [
    "Expected output: \n",
    "Mary John\n",
    "1\n",
    "Mary John\n",
    "2\n",
    "Mary John\n",
    "3\n",
    "Bob"
   ]
  },
  {
   "cell_type": "markdown",
   "metadata": {},
   "source": [
    "### Snippet 6\n"
   ]
  },
  {
   "cell_type": "code",
   "execution_count": null,
   "metadata": {
    "collapsed": false,
    "jupyter": {
     "outputs_hidden": false
    }
   },
   "outputs": [],
   "source": [
    "n = 5\n",
    "while n < 7:\n",
    "    if n > 6:\n",
    "        print(\"green\")\n",
    "    elif n == 5:\n",
    "        print(\"blue\")\n",
    "    else:\n",
    "        print(\"pink\")\n",
    "        print(\"white\")\n",
    "    print(\"red\")\n",
    "\n",
    "    n = n + 1\n",
    "    \n",
    "print(n, \"grey\")"
   ]
  },
  {
   "cell_type": "raw",
   "metadata": {},
   "source": [
    "Expected output: \n"
   ]
  },
  {
   "cell_type": "markdown",
   "metadata": {},
   "source": [
    "### Snippet 7\n"
   ]
  },
  {
   "cell_type": "code",
   "execution_count": 7,
   "metadata": {
    "collapsed": false,
    "jupyter": {
     "outputs_hidden": false
    }
   },
   "outputs": [
    {
     "name": "stdout",
     "output_type": "stream",
     "text": [
      "6\n"
     ]
    }
   ],
   "source": [
    "n = 3\n",
    "while n < 6:\n",
    "    y = 10 * n\n",
    "    n = n + 1\n",
    "print(n)"
   ]
  },
  {
   "cell_type": "raw",
   "metadata": {},
   "source": [
    "Expected output: \n",
    "6"
   ]
  },
  {
   "cell_type": "markdown",
   "metadata": {},
   "source": [
    "### Snippet 8\n",
    "\n",
    "Careful!\n"
   ]
  },
  {
   "cell_type": "code",
   "execution_count": 8,
   "metadata": {
    "collapsed": false,
    "jupyter": {
     "outputs_hidden": false
    }
   },
   "outputs": [],
   "source": [
    "def google(arg):\n",
    "    if 2 + 2 == 4:\n",
    "        print(\"Bob\")\n",
    "    else:\n",
    "        print(\"Alice\")"
   ]
  },
  {
   "cell_type": "raw",
   "metadata": {},
   "source": [
    "Expected output: "
   ]
  },
  {
   "cell_type": "markdown",
   "metadata": {},
   "source": [
    "### Snippet 9"
   ]
  },
  {
   "cell_type": "code",
   "execution_count": 9,
   "metadata": {
    "collapsed": false,
    "jupyter": {
     "outputs_hidden": false
    }
   },
   "outputs": [
    {
     "name": "stdout",
     "output_type": "stream",
     "text": [
      "Bob\n",
      "Bob\n"
     ]
    }
   ],
   "source": [
    "google(31)\n",
    "google(\"Alice\")"
   ]
  },
  {
   "cell_type": "raw",
   "metadata": {},
   "source": [
    "Expected output: \n",
    "Bob\n",
    "Bob"
   ]
  },
  {
   "cell_type": "markdown",
   "metadata": {},
   "source": [
    "### Snippet 10\n",
    "\n",
    "This is a subtle one. "
   ]
  },
  {
   "cell_type": "code",
   "execution_count": 10,
   "metadata": {
    "collapsed": false,
    "jupyter": {
     "outputs_hidden": false
    }
   },
   "outputs": [
    {
     "name": "stdout",
     "output_type": "stream",
     "text": [
      "12 20 None\n"
     ]
    }
   ],
   "source": [
    "def double(x):\n",
    "    print(x * 2, end=\" \")\n",
    "\n",
    "n = 5\n",
    "double(n + 1)\n",
    "\n",
    "print(double(10))"
   ]
  },
  {
   "cell_type": "raw",
   "metadata": {},
   "source": [
    "Expected output:\n"
   ]
  },
  {
   "cell_type": "markdown",
   "metadata": {},
   "source": [
    "### The end\n",
    "\n",
    "That was it! Hope you understand python a little better now."
   ]
  }
 ],
 "metadata": {
  "kernelspec": {
   "display_name": "Python [conda env:base] *",
   "language": "python",
   "name": "conda-base-py"
  },
  "language_info": {
   "codemirror_mode": {
    "name": "ipython",
    "version": 3
   },
   "file_extension": ".py",
   "mimetype": "text/x-python",
   "name": "python",
   "nbconvert_exporter": "python",
   "pygments_lexer": "ipython3",
   "version": "3.12.7"
  }
 },
 "nbformat": 4,
 "nbformat_minor": 4
}
