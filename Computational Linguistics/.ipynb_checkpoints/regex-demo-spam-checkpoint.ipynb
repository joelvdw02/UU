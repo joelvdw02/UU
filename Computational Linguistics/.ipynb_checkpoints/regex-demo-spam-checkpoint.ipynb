{
 "cells": [
  {
   "cell_type": "markdown",
   "metadata": {},
   "source": [
    "## Reguliere expressies in Python - demo\n",
    "\n",
    "We gaan een 'spam'-taal definieren met behulp van reguliere expressies. Hiervoor maken we eerst een lijst met voorbeelden van mogelijke strings die tot die taal zouden kunnen behoren:"
   ]
  },
  {
   "cell_type": "code",
   "execution_count": null,
   "metadata": {},
   "outputs": [],
   "source": [
    "# Put some example strings in a list\n",
    "L = ['Spam!', 'Spaaaaaaaam!', 'Spam!Spam!Spam!']\n",
    "\n",
    "# Add some more examples\n",
    "L.append('spam!')\n",
    "L.append('Spam!Spam!NI!')\n",
    "L.append('Spm!')\n",
    "L.append('Spam')\n",
    "L.append('spaaaaamSpam!Spaaam!')\n",
    "\n",
    "# Print each example in the list using a for-loop\n",
    "for example in L:\n",
    "    print(example)\n",
    "\n"
   ]
  },
  {
   "cell_type": "markdown",
   "metadata": {},
   "source": [
    "We willen varianten van het woord 'spam' toestaan. Ook herhalingen worden geaccepteerd. We willen echter geen typfouten of andere woorden toestaan binnen de taal. Bijvoorbeeld (`*` betekent dat het geen goed zin is):\n",
    "\n",
    "<pre>\n",
    "Spam!\n",
    "Spaaaaaaaam!\n",
    "Spam!Spam!Spam!\n",
    "spam!\n",
    "*Spam!Spam!NI!\n",
    "*Spm!\n",
    "Spam\n",
    "spaaaaamSpam!Spaaam!\n",
    "</pre>\n",
    "\n",
    "We gaan een reguliere expressie ontwerpen die matcht met spam-strings, maar niet met andere strings (zoals de twee gemarkeerde voorbeelden hierboven). Hierbij beginnen we met een hele specifieke expressie. Het doel is om deze expressie algemener, maar niet *te* algemeen te maken\n"
   ]
  },
  {
   "cell_type": "code",
   "execution_count": null,
   "metadata": {},
   "outputs": [],
   "source": [
    "# Importeer de 're' module om in Python met reguliere expressies te werken\n",
    "import re\n",
    "\n",
    "# Meest basale syntax: re.search(pattern, text)\n",
    "\n",
    "if re.search(r'e', 'hello'):        # r geeft aan dat het om een 'raw' string gaat\n",
    "    print('MATCH')\n",
    "else:\n",
    "    print('NO MATCH')"
   ]
  },
  {
   "cell_type": "markdown",
   "metadata": {},
   "source": [
    "De specifieke spam-expressie:"
   ]
  },
  {
   "cell_type": "code",
   "execution_count": null,
   "metadata": {},
   "outputs": [],
   "source": [
    "# try 1: basically everything\n",
    "\n",
    "pattern = r'^.*?$'   \n"
   ]
  },
  {
   "cell_type": "code",
   "execution_count": null,
   "metadata": {},
   "outputs": [],
   "source": [
    "# this function prints the grammaticality of the strings in L according to the value of pattern\n",
    "\n",
    "def grammaticality(test_pattern):\n",
    "    count = 1\n",
    "    for example in L:\n",
    "        if re.search(test_pattern, example):\n",
    "            print(count, example)\n",
    "        else:\n",
    "            print(count, '*'+example)\n",
    "        count += 1\n"
   ]
  },
  {
   "cell_type": "code",
   "execution_count": null,
   "metadata": {},
   "outputs": [],
   "source": [
    "# this code uses the `grammaticality` function on the pattern stored in `pattern`\n",
    "\n",
    "grammaticality(pattern)"
   ]
  },
  {
   "cell_type": "markdown",
   "metadata": {},
   "source": [
    "### Opdracht:\n",
    "\n",
    "1. Schrijf voor elk voorbeeld op of het correct wordt geclassificeerd door onze specifieke expressie.\n",
    "2. Leg voor elk voorbeeld uit *waarom* het al dan niet correct wordt geclassificeerd.\n",
    "3. Bedenk voor elk voorbeeld hoe we de expressie moeten aanpassen om een correcte classificatie te krijgen. Let er hierbij op dat je bij de aanpassing geen fouten introduceert bij de andere voorbeelden!"
   ]
  },
  {
   "cell_type": "code",
   "execution_count": null,
   "metadata": {},
   "outputs": [],
   "source": [
    "# We gaan hier de aanpassingen testen:\n",
    "\n",
    "pattern = r'Spam!'   \n"
   ]
  },
  {
   "cell_type": "code",
   "execution_count": null,
   "metadata": {},
   "outputs": [],
   "source": [
    "# use the function on the pattern stored in `pattern`\n",
    "\n",
    "grammaticality(pattern)"
   ]
  },
  {
   "cell_type": "code",
   "execution_count": null,
   "metadata": {},
   "outputs": [],
   "source": [
    "# Extra space\n",
    "# You can make more cells with the `+` button at the top too\n",
    "\n",
    "\n",
    "\n",
    "\n",
    "\n",
    "\n",
    "\n",
    "\n",
    "\n",
    "\n",
    "\n",
    "\n",
    "\n",
    "\n",
    "\n",
    "\n",
    "\n",
    "\n",
    "\n",
    "\n",
    "\n",
    "\n"
   ]
  },
  {
   "cell_type": "code",
   "execution_count": null,
   "metadata": {},
   "outputs": [],
   "source": [
    "# Put your final pattern here:\n",
    "final_pattern = r''\n"
   ]
  },
  {
   "cell_type": "code",
   "execution_count": null,
   "metadata": {},
   "outputs": [],
   "source": [
    "# print the grammaticality of the strings in L according to the value of final_pattern\n",
    "grammaticality(final_pattern)\n",
    "  "
   ]
  },
  {
   "cell_type": "markdown",
   "metadata": {},
   "source": [
    "## Some RegExp syntax\n",
    "\n",
    "If you run one of these cells and then run `grammaticality(pattern)` (e.g. at the bottom of the page), you'll get the grammaticality for that cell's pattern"
   ]
  },
  {
   "cell_type": "code",
   "execution_count": null,
   "metadata": {},
   "outputs": [],
   "source": [
    "# Disjunction:\n",
    "pattern = r'[Ss]pam!'\n"
   ]
  },
  {
   "cell_type": "code",
   "execution_count": null,
   "metadata": {},
   "outputs": [],
   "source": [
    "# Optionality:\n",
    "pattern = r'[Ss]pam!?'\n"
   ]
  },
  {
   "cell_type": "code",
   "execution_count": null,
   "metadata": {},
   "outputs": [],
   "source": [
    "# Optionality scope:\n",
    "pattern = r'[Ss]pa(aaaaaaa)?m!?'\n"
   ]
  },
  {
   "cell_type": "code",
   "execution_count": null,
   "metadata": {},
   "outputs": [],
   "source": [
    "# Kleene star:\n",
    "pattern = r'[Ss]pa*m!?'\n"
   ]
  },
  {
   "cell_type": "code",
   "execution_count": null,
   "metadata": {},
   "outputs": [],
   "source": [
    "# Kleene plus:\n",
    "pattern = r'[Ss]pa+m!?'\n"
   ]
  },
  {
   "cell_type": "code",
   "execution_count": null,
   "metadata": {},
   "outputs": [],
   "source": [
    "# Word repetition:\n",
    "pattern = r'([Ss]pa+m!?)+'\n"
   ]
  },
  {
   "cell_type": "code",
   "execution_count": null,
   "metadata": {},
   "outputs": [],
   "source": [
    "# Anchoring:\n",
    "# ^ means start of string; $ means end of string\n",
    "# warning: inside [], ^ means negation\n",
    "pattern = r'^([Ss]pa+m!?)+$'\n"
   ]
  },
  {
   "cell_type": "code",
   "execution_count": null,
   "metadata": {},
   "outputs": [],
   "source": [
    "# print the grammaticality of the strings in L according to the value of pattern\n",
    "grammaticality(pattern)\n",
    "  "
   ]
  },
  {
   "cell_type": "code",
   "execution_count": null,
   "metadata": {},
   "outputs": [],
   "source": []
  }
 ],
 "metadata": {
  "anaconda-cloud": {},
  "kernelspec": {
   "display_name": "Python 3 (ipykernel)",
   "language": "python",
   "name": "python3"
  },
  "language_info": {
   "codemirror_mode": {
    "name": "ipython",
    "version": 3
   },
   "file_extension": ".py",
   "mimetype": "text/x-python",
   "name": "python",
   "nbconvert_exporter": "python",
   "pygments_lexer": "ipython3",
   "version": "3.9.7"
  }
 },
 "nbformat": 4,
 "nbformat_minor": 1
}
