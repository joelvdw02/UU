{
 "cells": [
  {
   "cell_type": "markdown",
   "metadata": {},
   "source": [
    "# Running Jupyter Notebooks\n",
    "\n",
    "* You can add new cells with the +\n",
    "* You can move the cells around with the arrows\n",
    "* You can run a cell with **Run** or **Shift-Enter**\n",
    "    * if you change a cell, run it again to tell Python the new code\n",
    "    * If you keep changing the value of a variable, for example, the current value is the one in the last cell you ran\n",
    "    * You can tell whether a ```Code``` cell has been run by whether it has a number in its square brackets, eg ```[5]```\n",
    "    * The numbers are the order in which the cells were run\n",
    "\n",
    "## Kernel\n",
    "\n",
    "* Use the Kernal menu to interact with the Python kernel.\n",
    "* **Interrupt** if you give it an infinite loop\n",
    "* **Restart and Clear Output** before you save, so you don't also save all the output\n",
    "\n",
    "## Markdown\n",
    "\n",
    "* Cells like this one can be edited by double-clicking them\n",
    "* Cells like this one can be made by choosing **Markdown** from the dropdown menu (default is **Code**)\n"
   ]
  },
  {
   "cell_type": "markdown",
   "metadata": {},
   "source": [
    "## EXAMPLE: Mini HW 1 Instructions\n",
    "\n",
    "**File name:** my_number.py\n",
    "\n",
    "Write a python script that does the following 3 things. Save it in a Python file called my_number.py and hand in the file.\n",
    "\n",
    "1. Store your favourite number in a variable called `my_number`. \n",
    "2. Print `My favourite number is ` followed by the value of `my_number`, for example,  `My favourite number is 13`\n",
    "3. Write a function called `hooray` that takes as argument an integer and prints `hooray!` that number of times, separated by new lines. For example, the output of `hooray(3)` should be:\n",
    "\n",
    "```python\n",
    "hooray!\n",
    "hooray!\n",
    "hooray!\n",
    "```\n",
    "\n",
    "To help you get started, here is come code you can modify. Replace `None` with your favourite number. Replace `pass` with what you want `hooray` to do. \n",
    "\n",
    "\n",
    "```python\n",
    "my_number = 13  # replace None with a number\n",
    "    print(\"my favourite number is\" my_number)\n",
    "# use print() to print my favourite number is, followed by my_number\n",
    "    \n",
    "def hooray(n):\n",
    "    \"\"\"\n",
    "    print \"hooray!\" n times\n",
    "    \"\"\"\n",
    "    n = 3\n",
    "    i = 0\n",
    "    while i < n:\n",
    "    print(\"hooray!\")\n",
    "    i += 1\n",
    "```\n",
    "\n",
    "You can use a Jupyter Notebook to help you test your code. You should make sure it works by running it and feeding `hooray` some numbers. However, in the end, **Do not hand in the Notebook**, but rather a Python file called `my_number.py`. See the Mini-Assignent instructions on Blackboard under Assignments for three ways to get a Python file."
   ]
  },
  {
   "cell_type": "code",
   "execution_count": 19,
   "metadata": {
    "scrolled": true
   },
   "outputs": [
    {
     "name": "stdout",
     "output_type": "stream",
     "text": [
      "my favourite number is 13\n"
     ]
    }
   ],
   "source": [
    "my_number = 13\n",
    "print (\"my favourite number is\", my_number)"
   ]
  },
  {
   "cell_type": "code",
   "execution_count": 39,
   "metadata": {},
   "outputs": [
    {
     "name": "stdout",
     "output_type": "stream",
     "text": [
      "hooray!\n",
      "hooray!\n",
      "hooray!\n"
     ]
    }
   ],
   "source": [
    "def hooray(n):\n",
    "    i = 0\n",
    "    while i < n:\n",
    "        print(\"hooray!\")\n",
    "        i += 1\n",
    "hooray(3)"
   ]
  },
  {
   "cell_type": "code",
   "execution_count": 37,
   "metadata": {},
   "outputs": [
    {
     "name": "stdout",
     "output_type": "stream",
     "text": [
      "hooray!\n",
      "hooray!\n",
      "hooray!\n"
     ]
    }
   ],
   "source": [
    "def hooray(n):\n",
    "    for i in range(n):\n",
    "        print(\"hooray!\")\n",
    "hooray(3)"
   ]
  },
  {
   "cell_type": "markdown",
   "metadata": {},
   "source": [
    "# Warning: infinite loop ahead!        "
   ]
  },
  {
   "cell_type": "code",
   "execution_count": 1,
   "metadata": {},
   "outputs": [],
   "source": [
    "def hooray(n):\n",
    "    \"\"\"\n",
    "    print \"hooray!\" n times\n",
    "    \"\"\"\n",
    "    i = 0\n",
    "    while i < n:\n",
    "        print(\"hooray!\")\n",
    "        # i += 1"
   ]
  },
  {
   "cell_type": "code",
   "execution_count": 2,
   "metadata": {},
   "outputs": [],
   "source": [
    "# uncomment the code below to get an infinite loop (delete the `# `)\n",
    "\n",
    "# hooray(1)"
   ]
  }
 ],
 "metadata": {
  "kernelspec": {
   "display_name": "Python [conda env:base] *",
   "language": "python",
   "name": "conda-base-py"
  },
  "language_info": {
   "codemirror_mode": {
    "name": "ipython",
    "version": 3
   },
   "file_extension": ".py",
   "mimetype": "text/x-python",
   "name": "python",
   "nbconvert_exporter": "python",
   "pygments_lexer": "ipython3",
   "version": "3.12.7"
  }
 },
 "nbformat": 4,
 "nbformat_minor": 4
}
